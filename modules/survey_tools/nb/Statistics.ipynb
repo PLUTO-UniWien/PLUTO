{
 "cells": [
  {
   "cell_type": "code",
   "execution_count": 1,
   "outputs": [],
   "source": [
    "import warnings\n",
    "\n",
    "warnings.filterwarnings('ignore')"
   ],
   "metadata": {
    "collapsed": false
   }
  },
  {
   "cell_type": "code",
   "execution_count": 2,
   "outputs": [],
   "source": [
    "from pluto_survey_tools import QUESTIONNAIRE\n",
    "from pluto_survey_tools.model import Question\n",
    "import pluto_survey_tools.stats as stats\n",
    "from IPython.display import display_markdown"
   ],
   "metadata": {
    "collapsed": false
   }
  },
  {
   "cell_type": "markdown",
   "source": [
    "## Min-max ranges\n",
    "\n",
    "### Global\n",
    "\n",
    "Overview of the possible minimum and maximum scores for each question and section of the questionnaire."
   ],
   "metadata": {
    "collapsed": false
   }
  },
  {
   "cell_type": "code",
   "execution_count": 3,
   "outputs": [
    {
     "data": {
      "text/markdown": "# Questionnaire: (-60.0, 40.0)"
     },
     "metadata": {},
     "output_type": "display_data"
    },
    {
     "data": {
      "text/markdown": "## Information About the Applicant: (-8.0, 8.0)"
     },
     "metadata": {},
     "output_type": "display_data"
    },
    {
     "data": {
      "text/markdown": "Q1: (-1.0, 1.0)"
     },
     "metadata": {},
     "output_type": "display_data"
    },
    {
     "data": {
      "text/markdown": "Q2: (-2.0, 1.0)"
     },
     "metadata": {},
     "output_type": "display_data"
    },
    {
     "data": {
      "text/markdown": "Q3: (-1.0, 2.0)"
     },
     "metadata": {},
     "output_type": "display_data"
    },
    {
     "data": {
      "text/markdown": "Q4: (-2.0, 2.0)"
     },
     "metadata": {},
     "output_type": "display_data"
    },
    {
     "data": {
      "text/markdown": "Q5: (-2.0, 2.0)"
     },
     "metadata": {},
     "output_type": "display_data"
    },
    {
     "data": {
      "text/markdown": "## Benefits of the Applicant’s Activity: (-5.0, 13.0)"
     },
     "metadata": {},
     "output_type": "display_data"
    },
    {
     "data": {
      "text/markdown": "Q1: (0.0, 4.0)"
     },
     "metadata": {},
     "output_type": "display_data"
    },
    {
     "data": {
      "text/markdown": "Q2: (-1.0, 2.0)"
     },
     "metadata": {},
     "output_type": "display_data"
    },
    {
     "data": {
      "text/markdown": "Q3: (-2.0, 2.0)"
     },
     "metadata": {},
     "output_type": "display_data"
    },
    {
     "data": {
      "text/markdown": "Q4: (-2.0, 2.0)"
     },
     "metadata": {},
     "output_type": "display_data"
    },
    {
     "data": {
      "text/markdown": "Q5: (0.0, 3.0)"
     },
     "metadata": {},
     "output_type": "display_data"
    },
    {
     "data": {
      "text/markdown": "## Risks of the Applicant’s Activity: (-34.0, 6.0)"
     },
     "metadata": {},
     "output_type": "display_data"
    },
    {
     "data": {
      "text/markdown": "Q1: (-12.0, 0.0)"
     },
     "metadata": {},
     "output_type": "display_data"
    },
    {
     "data": {
      "text/markdown": "Q2: (-4.0, 4.0)"
     },
     "metadata": {},
     "output_type": "display_data"
    },
    {
     "data": {
      "text/markdown": "Q3: (-3.0, 0.0)"
     },
     "metadata": {},
     "output_type": "display_data"
    },
    {
     "data": {
      "text/markdown": "Q4: (-5.0, 0.0)"
     },
     "metadata": {},
     "output_type": "display_data"
    },
    {
     "data": {
      "text/markdown": "Q5: (-2.0, 2.0)"
     },
     "metadata": {},
     "output_type": "display_data"
    },
    {
     "data": {
      "text/markdown": "Q6: (-4.0, 0.0)"
     },
     "metadata": {},
     "output_type": "display_data"
    },
    {
     "data": {
      "text/markdown": "Q7: (-4.0, 0.0)"
     },
     "metadata": {},
     "output_type": "display_data"
    },
    {
     "data": {
      "text/markdown": "## Institutional Safeguards: (-13.0, 13.0)"
     },
     "metadata": {},
     "output_type": "display_data"
    },
    {
     "data": {
      "text/markdown": "Q1: (-1.0, 1.0)"
     },
     "metadata": {},
     "output_type": "display_data"
    },
    {
     "data": {
      "text/markdown": "Q2: (-1.0, 2.0)"
     },
     "metadata": {},
     "output_type": "display_data"
    },
    {
     "data": {
      "text/markdown": "Q3: (-3.0, 2.0)"
     },
     "metadata": {},
     "output_type": "display_data"
    },
    {
     "data": {
      "text/markdown": "Q4: (-1.0, 2.0)"
     },
     "metadata": {},
     "output_type": "display_data"
    },
    {
     "data": {
      "text/markdown": "Q5: (-1.0, 1.0)"
     },
     "metadata": {},
     "output_type": "display_data"
    },
    {
     "data": {
      "text/markdown": "Q6: (-3.0, 0.0)"
     },
     "metadata": {},
     "output_type": "display_data"
    },
    {
     "data": {
      "text/markdown": "Q7: (-3.0, 5.0)"
     },
     "metadata": {},
     "output_type": "display_data"
    }
   ],
   "source": [
    "display_markdown(f'# Questionnaire: {stats.score_range_questionnaire(QUESTIONNAIRE)}', raw=True)\n",
    "\n",
    "for section in QUESTIONNAIRE.sections:\n",
    "    display_markdown(f'## {section.title}: {stats.score_range_section(section)}', raw=True)\n",
    "    for i, question in enumerate(section.questions):\n",
    "        display_markdown(f'Q{i+1}: {stats.score_range_question(question)}', raw=True)"
   ],
   "metadata": {
    "collapsed": false
   }
  },
  {
   "cell_type": "markdown",
   "source": [
    "### By axis"
   ],
   "metadata": {
    "collapsed": false
   }
  },
  {
   "cell_type": "code",
   "execution_count": 4,
   "outputs": [],
   "source": [
    "questions = QUESTIONNAIRE.questions\n",
    "x_q = [q for q in questions if q.impact_keys[0] == 'x']\n",
    "x_ranges = [stats.score_range_question(q) for q in x_q]\n",
    "x_min = sum([r[0] for r in x_ranges])\n",
    "x_max = sum([r[1] for r in x_ranges])\n",
    "\n",
    "y_q = [q for q in questions if q.impact_keys[0] == 'y']\n",
    "y_ranges = [stats.score_range_question(q) for q in y_q]\n",
    "y_min = sum([r[0] for r in y_ranges])\n",
    "y_max = sum([r[1] for r in y_ranges])"
   ],
   "metadata": {
    "collapsed": false
   }
  },
  {
   "cell_type": "code",
   "execution_count": 5,
   "outputs": [
    {
     "data": {
      "text/markdown": "## X ~ Risk: (-51.0, 23.0)"
     },
     "metadata": {},
     "output_type": "display_data"
    },
    {
     "data": {
      "text/markdown": "## Y ~ Public Value: (-9.0, 17.0)"
     },
     "metadata": {},
     "output_type": "display_data"
    }
   ],
   "source": [
    "display_markdown(f'## X ~ Risk: ({x_min}, {x_max})', raw=True)\n",
    "display_markdown(f'## Y ~ Public Value: ({y_min}, {y_max})', raw=True)"
   ],
   "metadata": {
    "collapsed": false
   }
  },
  {
   "cell_type": "markdown",
   "source": [
    "## Score distributions"
   ],
   "metadata": {
    "collapsed": false
   }
  },
  {
   "cell_type": "code",
   "execution_count": 6,
   "outputs": [],
   "source": [
    "import pandas as pd\n",
    "from collections import Counter\n",
    "\n",
    "\n",
    "def sums(n: int, nums: list[float | int]) -> list[float]:\n",
    "    return [t[1] for t in stats.all_possible_sums_gen(n, nums)]\n",
    "\n",
    "\n",
    "def merge_counters(c1: Counter, c2: Counter) -> Counter:\n",
    "    c = Counter()\n",
    "    for k1, v1 in c1.items():\n",
    "        for k2, v2 in c2.items():\n",
    "            c[k1 + k2] += v1 * v2\n",
    "    return c\n",
    "\n",
    "\n",
    "def score_count_freq(questions: list[Question]) -> Counter:\n",
    "    counters = []\n",
    "    for q in questions:\n",
    "        scores = [c.score for c in q.choices]\n",
    "        up_to_n = q.selection_range.end\n",
    "        c = Counter(sums(up_to_n, scores))\n",
    "        counters.append(c)\n",
    "\n",
    "    c = counters[0]\n",
    "    for c2 in counters[1:]:\n",
    "        c = merge_counters(c, c2)\n",
    "    return c\n",
    "\n",
    "\n",
    "def score_count_df(counter: Counter) -> pd.DataFrame:\n",
    "    df = pd.DataFrame({'score': list(counter.keys()), 'count': list(counter.values())})\n",
    "    return df\n",
    "\n",
    "\n",
    "def score_count_df_from_questions(questions: list[Question]) -> pd.DataFrame:\n",
    "    c = score_count_freq(questions)\n",
    "    df = score_count_df(c)\n",
    "    return df\n",
    "\n",
    "\n",
    "def normalize_df(df: pd.DataFrame, columns: list[str]) -> pd.DataFrame:\n",
    "    df_copy = df.copy()\n",
    "    df_copy[columns] -= df_copy[columns].min()\n",
    "    df_copy[columns] /= df_copy[columns].max()\n",
    "    return df_copy"
   ],
   "metadata": {
    "collapsed": false
   }
  },
  {
   "cell_type": "code",
   "execution_count": 7,
   "outputs": [],
   "source": [
    "import altair as alt\n",
    "import vl_convert as vlc\n",
    "from IPython.display import display as _display\n",
    "from pathlib import Path\n",
    "\n",
    "chart_output_path = Path('../out')\n",
    "chart_output_path.mkdir(exist_ok=True)\n",
    "\n",
    "def display(chart: alt.Chart, name: str):\n",
    "    out_path = ((chart_output_path / name).with_suffix('.svg').resolve())\n",
    "    vl_spec = chart.to_json()\n",
    "    svg_str = vlc.vegalite_to_svg(vl_spec=vl_spec)\n",
    "    out_path.write_text(svg_str)\n",
    "    png_bytes = vlc.vegalite_to_png(vl_spec=vl_spec, scale=10)\n",
    "    out_path.with_suffix('.png').write_bytes(png_bytes)\n",
    "    _display(chart)"
   ],
   "metadata": {
    "collapsed": false
   }
  },
  {
   "cell_type": "code",
   "execution_count": 8,
   "outputs": [],
   "source": [
    "def hist(df: pd.DataFrame, title: str, titleX='Score', titleY='Count') -> alt.Chart:\n",
    "    return alt.Chart(df).mark_bar().encode(\n",
    "        x=alt.X('score', title=titleX),\n",
    "        y=alt.Y('count', title=titleY),\n",
    "        tooltip=['score', 'count']\n",
    "    ).properties(\n",
    "        title=title\n",
    "    )"
   ],
   "metadata": {
    "collapsed": false
   }
  },
  {
   "cell_type": "code",
   "execution_count": 9,
   "outputs": [
    {
     "data": {
      "text/html": "\n<div id=\"altair-viz-a385d380c27b4da4a38222c31815a3a0\"></div>\n<script type=\"text/javascript\">\n  var VEGA_DEBUG = (typeof VEGA_DEBUG == \"undefined\") ? {} : VEGA_DEBUG;\n  (function(spec, embedOpt){\n    let outputDiv = document.currentScript.previousElementSibling;\n    if (outputDiv.id !== \"altair-viz-a385d380c27b4da4a38222c31815a3a0\") {\n      outputDiv = document.getElementById(\"altair-viz-a385d380c27b4da4a38222c31815a3a0\");\n    }\n    const paths = {\n      \"vega\": \"https://cdn.jsdelivr.net/npm//vega@5?noext\",\n      \"vega-lib\": \"https://cdn.jsdelivr.net/npm//vega-lib?noext\",\n      \"vega-lite\": \"https://cdn.jsdelivr.net/npm//vega-lite@4.17.0?noext\",\n      \"vega-embed\": \"https://cdn.jsdelivr.net/npm//vega-embed@6?noext\",\n    };\n\n    function maybeLoadScript(lib, version) {\n      var key = `${lib.replace(\"-\", \"\")}_version`;\n      return (VEGA_DEBUG[key] == version) ?\n        Promise.resolve(paths[lib]) :\n        new Promise(function(resolve, reject) {\n          var s = document.createElement('script');\n          document.getElementsByTagName(\"head\")[0].appendChild(s);\n          s.async = true;\n          s.onload = () => {\n            VEGA_DEBUG[key] = version;\n            return resolve(paths[lib]);\n          };\n          s.onerror = () => reject(`Error loading script: ${paths[lib]}`);\n          s.src = paths[lib];\n        });\n    }\n\n    function showError(err) {\n      outputDiv.innerHTML = `<div class=\"error\" style=\"color:red;\">${err}</div>`;\n      throw err;\n    }\n\n    function displayChart(vegaEmbed) {\n      vegaEmbed(outputDiv, spec, embedOpt)\n        .catch(err => showError(`Javascript Error: ${err.message}<br>This usually means there's a typo in your chart specification. See the javascript console for the full traceback.`));\n    }\n\n    if(typeof define === \"function\" && define.amd) {\n      requirejs.config({paths});\n      require([\"vega-embed\"], displayChart, err => showError(`Error loading script: ${err.message}`));\n    } else {\n      maybeLoadScript(\"vega\", \"5\")\n        .then(() => maybeLoadScript(\"vega-lite\", \"4.17.0\"))\n        .then(() => maybeLoadScript(\"vega-embed\", \"6\"))\n        .catch(showError)\n        .then(() => displayChart(vegaEmbed));\n    }\n  })({\"config\": {\"view\": {\"continuousWidth\": 400, \"continuousHeight\": 300}}, \"data\": {\"name\": \"data-14c519be9d9a8beb0f48317332cf204c\"}, \"mark\": \"bar\", \"encoding\": {\"tooltip\": [{\"field\": \"score\", \"type\": \"quantitative\"}, {\"field\": \"count\", \"type\": \"quantitative\"}], \"x\": {\"field\": \"score\", \"title\": \"Score\", \"type\": \"quantitative\"}, \"y\": {\"field\": \"count\", \"title\": \"Count\", \"type\": \"quantitative\"}}, \"title\": \"All questions\", \"$schema\": \"https://vega.github.io/schema/vega-lite/v4.17.0.json\", \"datasets\": {\"data-14c519be9d9a8beb0f48317332cf204c\": [{\"score\": -48.0, \"count\": 2844335764}, {\"score\": -44.0, \"count\": 69676499114}, {\"score\": -43.0, \"count\": 139688959231}, {\"score\": -47.0, \"count\": 6782319872}, {\"score\": -46.0, \"count\": 15401954283}, {\"score\": -42.0, \"count\": 270181006513}, {\"score\": -41.0, \"count\": 505284813311}, {\"score\": -45.0, \"count\": 33443910981}, {\"score\": -40.0, \"count\": 915508369944}, {\"score\": -39.0, \"count\": 1609872208443}, {\"score\": -38.0, \"count\": 2751685966605}, {\"score\": -37.0, \"count\": 4578137919288}, {\"score\": -36.0, \"count\": 7423419521618}, {\"score\": -35.0, \"count\": 11744466850800}, {\"score\": -34.0, \"count\": 18147589518626}, {\"score\": -33.0, \"count\": 27413333174497}, {\"score\": -32.0, \"count\": 40515985188685}, {\"score\": -31.0, \"count\": 58633328299776}, {\"score\": -30.0, \"count\": 83141749060694}, {\"score\": -29.0, \"count\": 115591798700634}, {\"score\": -28.0, \"count\": 157659947604641}, {\"score\": -27.0, \"count\": 211073681293405}, {\"score\": -26.0, \"count\": 277509275532236}, {\"score\": -25.0, \"count\": 358464468847245}, {\"score\": -24.0, \"count\": 455111599714257}, {\"score\": -23.0, \"count\": 568140249575162}, {\"score\": -22.0, \"count\": 697601600252038}, {\"score\": -21.0, \"count\": 842769096137915}, {\"score\": -20.0, \"count\": 1002031142938287}, {\"score\": -19.0, \"count\": 1172831117815412}, {\"score\": -18.0, \"count\": 1351667710109911}, {\"score\": -17.0, \"count\": 1534164575101928}, {\"score\": -16.0, \"count\": 1715212718956243}, {\"score\": -15.0, \"count\": 1889182420357663}, {\"score\": -14.0, \"count\": 2050194504109239}, {\"score\": -13.0, \"count\": 2192434191482923}, {\"score\": -12.0, \"count\": 2310485355408090}, {\"score\": -11.0, \"count\": 2399659513308383}, {\"score\": -10.0, \"count\": 2456292810409957}, {\"score\": -46.5, \"count\": 1997703835}, {\"score\": -42.5, \"count\": 45463281946}, {\"score\": -41.5, \"count\": 89551891662}, {\"score\": -45.5, \"count\": 4673785623}, {\"score\": -44.5, \"count\": 10418609353}, {\"score\": -40.5, \"count\": 170210505498}, {\"score\": -39.5, \"count\": 312858794480}, {\"score\": -43.5, \"count\": 22215513333}, {\"score\": -38.5, \"count\": 557186293518}, {\"score\": -37.5, \"count\": 963134023263}, {\"score\": -36.5, \"count\": 1618341437844}, {\"score\": -35.5, \"count\": 2646937686964}, {\"score\": -34.5, \"count\": 4219295541136}, {\"score\": -33.5, \"count\": 6562037286401}, {\"score\": -32.5, \"count\": 9967210794381}, {\"score\": -31.5, \"count\": 14799184693152}, {\"score\": -30.5, \"count\": 21497504954397}, {\"score\": -29.5, \"count\": 30573786058978}, {\"score\": -28.5, \"count\": 42600752207335}, {\"score\": -27.5, \"count\": 58191861800147}, {\"score\": -26.5, \"count\": 77970580850097}, {\"score\": -25.5, \"count\": 102529314384330}, {\"score\": -24.5, \"count\": 132379208940571}, {\"score\": -23.5, \"count\": 167893398106527}, {\"score\": -22.5, \"count\": 209247620757633}, {\"score\": -21.5, \"count\": 256363314433199}, {\"score\": -20.5, \"count\": 308859076878268}, {\"score\": -19.5, \"count\": 366016621153120}, {\"score\": -18.5, \"count\": 426766901027534}, {\"score\": -17.5, \"count\": 489700902354679}, {\"score\": -16.5, \"count\": 553107730876964}, {\"score\": -15.5, \"count\": 615040223071844}, {\"score\": -14.5, \"count\": 673405594856865}, {\"score\": -13.5, \"count\": 726075923146119}, {\"score\": -12.5, \"count\": 771010850086156}, {\"score\": -9.0, \"count\": 2477985835738828}, {\"score\": -8.0, \"count\": 2463765315098967}, {\"score\": -7.0, \"count\": 2414153164210656}, {\"score\": -6.0, \"count\": 2331136414079452}, {\"score\": -5.0, \"count\": 2218040288321642}, {\"score\": -11.5, \"count\": 806383118324923}, {\"score\": -10.5, \"count\": 830696642226302}, {\"score\": -9.5, \"count\": 842886947935962}, {\"score\": -8.5, \"count\": 842395012387839}, {\"score\": -7.5, \"count\": 829207705026066}, {\"score\": -4.0, \"count\": 2079315270858166}, {\"score\": -6.5, \"count\": 803860967846599}, {\"score\": -3.0, \"count\": 1920256429456841}, {\"score\": -2.0, \"count\": 1746678765074794}, {\"score\": -5.5, \"count\": 767405248428095}, {\"score\": -4.5, \"count\": 721336153263518}, {\"score\": -1.0, \"count\": 1564575386051321}, {\"score\": 0.0, \"count\": 1379785608642412}, {\"score\": 1.0, \"count\": 1197697730533764}, {\"score\": 2.0, \"count\": 1023006589779836}, {\"score\": 3.0, \"count\": 859539730968071}, {\"score\": -3.5, \"count\": 667496430032058}, {\"score\": -2.5, \"count\": 607957872979509}, {\"score\": -1.5, \"count\": 544893308049237}, {\"score\": -0.5, \"count\": 480449303762039}, {\"score\": 0.5, \"count\": 416629652257224}, {\"score\": 4.0, \"count\": 710158833075224}, {\"score\": 1.5, \"count\": 355198083405679}, {\"score\": 5.0, \"count\": 576735843518261}, {\"score\": 6.0, \"count\": 460196786707541}, {\"score\": 2.5, \"count\": 297606339078848}, {\"score\": 3.5, \"count\": 244950946938949}, {\"score\": 7.0, \"count\": 360621101775846}, {\"score\": 4.5, \"count\": 197959131771898}, {\"score\": 8.0, \"count\": 277381027056074}, {\"score\": 9.0, \"count\": 209304152230373}, {\"score\": 5.5, \"count\": 157001617897647}, {\"score\": 6.5, \"count\": 122127886541766}, {\"score\": -51.0, \"count\": 148430347}, {\"score\": -50.0, \"count\": 423490161}, {\"score\": -49.0, \"count\": 1130590642}, {\"score\": -49.5, \"count\": 110830414}, {\"score\": -48.5, \"count\": 309559307}, {\"score\": -47.5, \"count\": 809788295}, {\"score\": -54.0, \"count\": 3860246}, {\"score\": -53.0, \"count\": 14370595}, {\"score\": -52.0, \"count\": 48244986}, {\"score\": -52.5, \"count\": 3100440}, {\"score\": -51.5, \"count\": 11243040}, {\"score\": -50.5, \"count\": 36843634}, {\"score\": -57.0, \"count\": 30622}, {\"score\": -56.0, \"count\": 185439}, {\"score\": -55.0, \"count\": 914908}, {\"score\": -55.5, \"count\": 27115}, {\"score\": -54.5, \"count\": 158312}, {\"score\": -53.5, \"count\": 756299}, {\"score\": 10.0, \"count\": 154842722392208}, {\"score\": 7.5, \"count\": 93117953226826}, {\"score\": 11.0, \"count\": 112235309333551}, {\"score\": 8.5, \"count\": 69544016777122}, {\"score\": 12.0, \"count\": 79649620422028}, {\"score\": 9.5, \"count\": 50835392381305}, {\"score\": 13.0, \"count\": 55298976234976}, {\"score\": 10.5, \"count\": 36340873307302}, {\"score\": 14.0, \"count\": 37528837101221}, {\"score\": 11.5, \"count\": 25383895858080}, {\"score\": 15.0, \"count\": 24873247041753}, {\"score\": 12.5, \"count\": 17307396698349}, {\"score\": 16.0, \"count\": 16083861083965}, {\"score\": 13.5, \"count\": 11506831342374}, {\"score\": 17.0, \"count\": 10136142139940}, {\"score\": 14.5, \"count\": 7451271585300}, {\"score\": 18.0, \"count\": 6218315839848}, {\"score\": 15.5, \"count\": 4693669657841}, {\"score\": 19.0, \"count\": 3708840530769}, {\"score\": 16.5, \"count\": 2872180685563}, {\"score\": 20.0, \"count\": 2147659307311}, {\"score\": 17.5, \"count\": 1704849056028}, {\"score\": 21.0, \"count\": 1205572711567}, {\"score\": 18.5, \"count\": 980021498612}, {\"score\": 22.0, \"count\": 654931141809}, {\"score\": 19.5, \"count\": 544624683395}, {\"score\": 23.0, \"count\": 343692632096}, {\"score\": 20.5, \"count\": 292035161811}, {\"score\": -59.0, \"count\": 309}, {\"score\": -58.0, \"count\": 3804}, {\"score\": -57.5, \"count\": 297}, {\"score\": -56.5, \"count\": 3507}, {\"score\": 24.0, \"count\": 173871247711}, {\"score\": 21.5, \"count\": 150775089472}, {\"score\": 25.0, \"count\": 84601040738}, {\"score\": 22.5, \"count\": 74776123483}, {\"score\": 26.0, \"count\": 39490959163}, {\"score\": 23.5, \"count\": 35530334931}, {\"score\": 27.0, \"count\": 17632994969}, {\"score\": 24.5, \"count\": 16127135354}, {\"score\": 28.0, \"count\": 7505930175}, {\"score\": 25.5, \"count\": 6969022885}, {\"score\": 29.0, \"count\": 3034141816}, {\"score\": 26.5, \"count\": 2855894370}, {\"score\": 30.0, \"count\": 1159335795}, {\"score\": 27.5, \"count\": 1104729862}, {\"score\": 31.0, \"count\": 416385275}, {\"score\": 28.5, \"count\": 401129753}, {\"score\": 32.0, \"count\": 139602635}, {\"score\": 29.5, \"count\": 135777537}, {\"score\": 33.0, \"count\": 43311361}, {\"score\": 30.5, \"count\": 42469909}, {\"score\": 34.0, \"count\": 12292948}, {\"score\": 31.5, \"count\": 12136024}, {\"score\": 35.0, \"count\": 3142934}, {\"score\": 32.5, \"count\": 3119498}, {\"score\": 36.0, \"count\": 708108}, {\"score\": 33.5, \"count\": 705600}, {\"score\": 37.0, \"count\": 135996}, {\"score\": 34.5, \"count\": 135852}, {\"score\": 38.0, \"count\": 21072}, {\"score\": 35.5, \"count\": 21072}, {\"score\": -60.0, \"count\": 12}, {\"score\": -58.5, \"count\": 12}, {\"score\": 39.0, \"count\": 2364}, {\"score\": 36.5, \"count\": 2364}, {\"score\": 40.0, \"count\": 144}, {\"score\": 37.5, \"count\": 144}]}}, {\"mode\": \"vega-lite\"});\n</script>",
      "text/plain": "alt.Chart(...)"
     },
     "metadata": {},
     "output_type": "display_data"
    },
    {
     "data": {
      "text/html": "\n<div id=\"altair-viz-bb3fbfa573334285a16be0e4190dad83\"></div>\n<script type=\"text/javascript\">\n  var VEGA_DEBUG = (typeof VEGA_DEBUG == \"undefined\") ? {} : VEGA_DEBUG;\n  (function(spec, embedOpt){\n    let outputDiv = document.currentScript.previousElementSibling;\n    if (outputDiv.id !== \"altair-viz-bb3fbfa573334285a16be0e4190dad83\") {\n      outputDiv = document.getElementById(\"altair-viz-bb3fbfa573334285a16be0e4190dad83\");\n    }\n    const paths = {\n      \"vega\": \"https://cdn.jsdelivr.net/npm//vega@5?noext\",\n      \"vega-lib\": \"https://cdn.jsdelivr.net/npm//vega-lib?noext\",\n      \"vega-lite\": \"https://cdn.jsdelivr.net/npm//vega-lite@4.17.0?noext\",\n      \"vega-embed\": \"https://cdn.jsdelivr.net/npm//vega-embed@6?noext\",\n    };\n\n    function maybeLoadScript(lib, version) {\n      var key = `${lib.replace(\"-\", \"\")}_version`;\n      return (VEGA_DEBUG[key] == version) ?\n        Promise.resolve(paths[lib]) :\n        new Promise(function(resolve, reject) {\n          var s = document.createElement('script');\n          document.getElementsByTagName(\"head\")[0].appendChild(s);\n          s.async = true;\n          s.onload = () => {\n            VEGA_DEBUG[key] = version;\n            return resolve(paths[lib]);\n          };\n          s.onerror = () => reject(`Error loading script: ${paths[lib]}`);\n          s.src = paths[lib];\n        });\n    }\n\n    function showError(err) {\n      outputDiv.innerHTML = `<div class=\"error\" style=\"color:red;\">${err}</div>`;\n      throw err;\n    }\n\n    function displayChart(vegaEmbed) {\n      vegaEmbed(outputDiv, spec, embedOpt)\n        .catch(err => showError(`Javascript Error: ${err.message}<br>This usually means there's a typo in your chart specification. See the javascript console for the full traceback.`));\n    }\n\n    if(typeof define === \"function\" && define.amd) {\n      requirejs.config({paths});\n      require([\"vega-embed\"], displayChart, err => showError(`Error loading script: ${err.message}`));\n    } else {\n      maybeLoadScript(\"vega\", \"5\")\n        .then(() => maybeLoadScript(\"vega-lite\", \"4.17.0\"))\n        .then(() => maybeLoadScript(\"vega-embed\", \"6\"))\n        .catch(showError)\n        .then(() => displayChart(vegaEmbed));\n    }\n  })({\"config\": {\"view\": {\"continuousWidth\": 400, \"continuousHeight\": 300}}, \"data\": {\"name\": \"data-f8278697c6422a550e0f74fa43ff05d1\"}, \"mark\": \"bar\", \"encoding\": {\"tooltip\": [{\"field\": \"score\", \"type\": \"quantitative\"}, {\"field\": \"count\", \"type\": \"quantitative\"}], \"x\": {\"field\": \"score\", \"title\": \"Score\", \"type\": \"quantitative\"}, \"y\": {\"field\": \"count\", \"title\": \"Normalized count\", \"type\": \"quantitative\"}}, \"title\": \"All questions (normalized)\", \"$schema\": \"https://vega.github.io/schema/vega-lite/v4.17.0.json\", \"datasets\": {\"data-f8278697c6422a550e0f74fa43ff05d1\": [{\"score\": -48.0, \"count\": 1.147841812078783e-06}, {\"score\": -44.0, \"count\": 2.8118199102306742e-05}, {\"score\": -43.0, \"count\": 5.637197646747302e-05}, {\"score\": -47.0, \"count\": 2.737029309119452e-06}, {\"score\": -46.0, \"count\": 6.2155134419514865e-06}, {\"score\": -42.0, \"count\": 0.00010903250640270308}, {\"score\": -41.0, \"count\": 0.0002039094840702947}, {\"score\": -45.0, \"count\": 1.3496409255716604e-05}, {\"score\": -40.0, \"count\": 0.0003694566598113905}, {\"score\": -39.0, \"count\": 0.0006496696571919725}, {\"score\": -38.0, \"count\": 0.0011104526615555008}, {\"score\": -37.0, \"count\": 0.0018475238450711402}, {\"score\": -36.0, \"count\": 0.0029957473584156682}, {\"score\": -35.0, \"count\": 0.0047395213811972274}, {\"score\": -34.0, \"count\": 0.0073235243143362294}, {\"score\": -33.0, \"count\": 0.011062748131613781}, {\"score\": -32.0, \"count\": 0.016350369967547893}, {\"score\": -31.0, \"count\": 0.02366168823651987}, {\"score\": -30.0, \"count\": 0.03355214862876451}, {\"score\": -29.0, \"count\": 0.046647481609255484}, {\"score\": -28.0, \"count\": 0.06362423276629521}, {\"score\": -27.0, \"count\": 0.08517953502767339}, {\"score\": -26.0, \"count\": 0.111989855442206}, {\"score\": -25.0, \"count\": 0.14465961172064415}, {\"score\": -24.0, \"count\": 0.18366190522576278}, {\"score\": -23.0, \"count\": 0.22927501900177646}, {\"score\": -22.0, \"count\": 0.28151960765507555}, {\"score\": -21.0, \"count\": 0.34010246708558356}, {\"score\": -20.0, \"count\": 0.4043732326821463}, {\"score\": -19.0, \"count\": 0.47330017020283666}, {\"score\": -18.0, \"count\": 0.5454703132743681}, {\"score\": -17.0, \"count\": 0.61911757241522}, {\"score\": -16.0, \"count\": 0.6921801949868035}, {\"score\": -15.0, \"count\": 0.7623862869233826}, {\"score\": -14.0, \"count\": 0.8273632861577507}, {\"score\": -13.0, \"count\": 0.884764618046831}, {\"score\": -12.0, \"count\": 0.9324045852421923}, {\"score\": -11.0, \"count\": 0.9683911339198225}, {\"score\": -10.0, \"count\": 0.9912457024507555}, {\"score\": -46.5, \"count\": 8.061804850488102e-07}, {\"score\": -42.5, \"count\": 1.8346869170236818e-05}, {\"score\": -41.5, \"count\": 3.6138984476196546e-05}, {\"score\": -45.5, \"count\": 1.8861228113543684e-06}, {\"score\": -44.5, \"count\": 4.204466866088309e-06}, {\"score\": -40.5, \"count\": 6.868905505073294e-05}, {\"score\": -39.5, \"count\": 0.00012625527957254066}, {\"score\": -43.5, \"count\": 8.965149437335829e-06}, {\"score\": -38.5, \"count\": 0.0002248545110589278}, {\"score\": -37.5, \"count\": 0.00038867616164716285}, {\"score\": -36.5, \"count\": 0.0006530874448479196}, {\"score\": -35.5, \"count\": 0.0010681811206409947}, {\"score\": -34.5, \"count\": 0.0017027117267060605}, {\"score\": -33.5, \"count\": 0.002648133492834319}, {\"score\": -32.5, \"count\": 0.004022303376644305}, {\"score\": -31.5, \"count\": 0.005972263634318796}, {\"score\": -30.5, \"count\": 0.00867539460651335}, {\"score\": -29.5, \"count\": 0.012338160137162515}, {\"score\": -28.5, \"count\": 0.017191685114948008}, {\"score\": -27.5, \"count\": 0.023483532859978996}, {\"score\": -26.5, \"count\": 0.03146530529979318}, {\"score\": -25.5, \"count\": 0.04137606959070801}, {\"score\": -24.5, \"count\": 0.05342210073654029}, {\"score\": -23.5, \"count\": 0.06775397812411517}, {\"score\": -22.5, \"count\": 0.08444262180184474}, {\"score\": -21.5, \"count\": 0.10345632760921404}, {\"score\": -20.5, \"count\": 0.12464117930931155}, {\"score\": -19.5, \"count\": 0.14770730965214718}, {\"score\": -18.5, \"count\": 0.1722233012281447}, {\"score\": -17.5, \"count\": 0.19762054136546822}, {\"score\": -16.5, \"count\": 0.22320859259957873}, {\"score\": -15.5, \"count\": 0.24820167016348446}, {\"score\": -14.5, \"count\": 0.2717552235951647}, {\"score\": -13.5, \"count\": 0.29301052196274}, {\"score\": -12.5, \"count\": 0.31114417159542224}, {\"score\": -9.0, \"count\": 1.0}, {\"score\": -8.0, \"count\": 0.9942612583031084}, {\"score\": -7.0, \"count\": 0.9742400983058322}, {\"score\": -6.0, \"count\": 0.9407383934397702}, {\"score\": -5.0, \"count\": 0.8950980495254999}, {\"score\": -11.5, \"count\": 0.32541877628791466}, {\"score\": -10.5, \"count\": 0.3352305853591033}, {\"score\": -9.5, \"count\": 0.3401500265979695}, {\"score\": -8.5, \"count\": 0.339951504257354}, {\"score\": -7.5, \"count\": 0.33462971945472164}, {\"score\": -4.0, \"count\": 0.8391150751829065}, {\"score\": -6.5, \"count\": 0.32440095348927384}, {\"score\": -3.0, \"count\": 0.7749263138480778}, {\"score\": -2.0, \"count\": 0.7048784298454258}, {\"score\": -5.5, \"count\": 0.3096891182185792}, {\"score\": -4.5, \"count\": 0.2910977709638273}, {\"score\": -1.0, \"count\": 0.6313899633670941}, {\"score\": 0.0, \"count\": 0.5568173912628578}, {\"score\": 1.0, \"count\": 0.4833351802338516}, {\"score\": 2.0, \"count\": 0.41283794887988645}, {\"score\": 3.0, \"count\": 0.346870316436569}, {\"score\": -3.5, \"count\": 0.2693705591069413}, {\"score\": -2.5, \"count\": 0.24534356258668172}, {\"score\": -1.5, \"count\": 0.21989363304280715}, {\"score\": -0.5, \"count\": 0.19388702583878176}, {\"score\": 0.5, \"count\": 0.16813237842136136}, {\"score\": 4.0, \"count\": 0.28658712363603034}, {\"score\": 1.5, \"count\": 0.14334145025480505}, {\"score\": 5.0, \"count\": 0.23274380151825774}, {\"score\": 6.0, \"count\": 0.18571405052859008}, {\"score\": 2.5, \"count\": 0.12010009693622971}, {\"score\": 3.5, \"count\": 0.0988508261048653}, {\"score\": 7.0, \"count\": 0.14552992861168398}, {\"score\": 4.5, \"count\": 0.07988711191033267}, {\"score\": 8.0, \"count\": 0.11193810031337824}, {\"score\": 9.0, \"count\": 0.0844654352787923}, {\"score\": 5.5, \"count\": 0.06335856147088294}, {\"score\": 6.5, \"count\": 0.049285143111135396}, {\"score\": -51.0, \"count\": 5.989958976329064e-08}, {\"score\": -50.0, \"count\": 1.709009562896616e-07}, {\"score\": -49.0, \"count\": 4.562538710649701e-07}, {\"score\": -49.5, \"count\": 4.4726003030988155e-08}, {\"score\": -48.5, \"count\": 1.2492375482352357e-07}, {\"score\": -47.5, \"count\": 3.2679294260718007e-07}, {\"score\": -54.0, \"count\": 1.5578111643439092e-09}, {\"score\": -53.0, \"count\": 5.799299896205978e-09}, {\"score\": -52.0, \"count\": 1.9469430899961408e-08}, {\"score\": -52.5, \"count\": 1.251188749864505e-09}, {\"score\": -51.5, \"count\": 4.537163948981117e-09}, {\"score\": -50.5, \"count\": 1.486837473750733e-08}, {\"score\": -57.0, \"count\": 1.2352774401905963e-11}, {\"score\": -56.0, \"count\": 7.48297255479326e-11}, {\"score\": -55.0, \"count\": 3.692095357466892e-10}, {\"score\": -55.5, \"count\": 1.0937512074970836e-11}, {\"score\": -54.5, \"count\": 6.388252818757642e-11}, {\"score\": -53.5, \"count\": 3.0520230950977637e-10}, {\"score\": 10.0, \"count\": 0.06248733150891048}, {\"score\": 7.5, \"count\": 0.037578081312579704}, {\"score\": 11.0, \"count\": 0.04529295838370918}, {\"score\": 8.5, \"count\": 0.028064735388761947}, {\"score\": 12.0, \"count\": 0.03214288769260391}, {\"score\": 9.5, \"count\": 0.02051480345372367}, {\"score\": 13.0, \"count\": 0.02231609859806826}, {\"score\": 10.5, \"count\": 0.014665488713923541}, {\"score\": 14.0, \"count\": 0.015144895729405857}, {\"score\": 11.5, \"count\": 0.010243761482397556}, {\"score\": 15.0, \"count\": 0.010037687335821674}, {\"score\": 12.5, \"count\": 0.00698446151253999}, {\"score\": 16.0, \"count\": 0.006490699362354332}, {\"score\": 13.5, \"count\": 0.004643622726330563}, {\"score\": 17.0, \"count\": 0.0040904762221556}, {\"score\": 14.5, \"count\": 0.0030069871578044713}, {\"score\": 18.0, \"count\": 0.0025094234802121047}, {\"score\": 15.5, \"count\": 0.0018941470891941454}, {\"score\": 19.0, \"count\": 0.0014967157912148445}, {\"score\": 16.5, \"count\": 0.001159078734077854}, {\"score\": 20.0, \"count\": 0.0008666955542377712}, {\"score\": 17.5, \"count\": 0.0006879979019362297}, {\"score\": 21.0, \"count\": 0.0004865131568419786}, {\"score\": 18.5, \"count\": 0.000395491162405214}, {\"score\": 22.0, \"count\": 0.00026429979233587146}, {\"score\": 19.5, \"count\": 0.00021978522860305986}, {\"score\": 23.0, \"count\": 0.00013869838444073568}, {\"score\": 20.5, \"count\": 0.00011785182852424545}, {\"score\": -59.0, \"count\": 1.1985540664377887e-13}, {\"score\": -58.0, \"count\": 1.530275090886227e-12}, {\"score\": -57.5, \"count\": 1.1501276395110094e-13}, {\"score\": -56.5, \"count\": 1.4104196842424482e-12}, {\"score\": 24.0, \"count\": 7.016636059469644e-05}, {\"score\": 21.5, \"count\": 6.08458237676109e-05}, {\"score\": 25.0, \"count\": 3.414105097205935e-05}, {\"score\": 22.5, \"count\": 3.0176170659468423e-05}, {\"score\": 26.0, \"count\": 1.5936717063286076e-05}, {\"score\": 23.5, \"count\": 1.4338393063657915e-05}, {\"score\": 27.0, \"count\": 7.115857848211909e-06}, {\"score\": 24.5, \"count\": 6.5081628431470295e-06}, {\"score\": 28.0, \"count\": 3.0290448213002367e-06}, {\"score\": 25.5, \"count\": 2.812373974253236e-06}, {\"score\": 29.0, \"count\": 1.2244387196407703e-06}, {\"score\": 26.5, \"count\": 1.1525063286524033e-06}, {\"score\": 30.0, \"count\": 4.6785407982541674e-07}, {\"score\": 27.5, \"count\": 4.4581766129047416e-07}, {\"score\": 31.0, \"count\": 1.6803375426714415e-07}, {\"score\": 28.5, \"count\": 1.6187733408912018e-07}, {\"score\": 32.0, \"count\": 5.63371351791352e-08}, {\"score\": 29.5, \"count\": 5.4793503272595456e-08}, {\"score\": 33.0, \"count\": 1.7478448978739477e-08}, {\"score\": 30.5, \"count\": 1.7138878030486208e-08}, {\"score\": 34.0, \"count\": 4.960858057663126e-09}, {\"score\": 31.5, \"count\": 4.8975308191709765e-09}, {\"score\": 35.0, \"count\": 1.2683373547463931e-09}, {\"score\": 32.5, \"count\": 1.258879673567593e-09}, {\"score\": 36.0, \"count\": 2.857546600095395e-10}, {\"score\": 33.5, \"count\": 2.8474254768676985e-10}, {\"score\": 37.0, \"count\": 5.487682699342634e-11}, {\"score\": 34.5, \"count\": 5.481871528111421e-11}, {\"score\": 38.0, \"count\": 8.498837925649773e-12}, {\"score\": 35.5, \"count\": 8.498837925649773e-12}, {\"score\": -60.0, \"count\": 0.0}, {\"score\": -58.5, \"count\": 0.0}, {\"score\": 39.0, \"count\": 9.49157967764875e-13}, {\"score\": 36.5, \"count\": 9.49157967764875e-13}, {\"score\": 40.0, \"count\": 5.3269069619457273e-14}, {\"score\": 37.5, \"count\": 5.3269069619457273e-14}]}}, {\"mode\": \"vega-lite\"});\n</script>",
      "text/plain": "alt.Chart(...)"
     },
     "metadata": {},
     "output_type": "display_data"
    },
    {
     "data": {
      "text/html": "\n<div id=\"altair-viz-1c978e46c6984cd09cc954d842439079\"></div>\n<script type=\"text/javascript\">\n  var VEGA_DEBUG = (typeof VEGA_DEBUG == \"undefined\") ? {} : VEGA_DEBUG;\n  (function(spec, embedOpt){\n    let outputDiv = document.currentScript.previousElementSibling;\n    if (outputDiv.id !== \"altair-viz-1c978e46c6984cd09cc954d842439079\") {\n      outputDiv = document.getElementById(\"altair-viz-1c978e46c6984cd09cc954d842439079\");\n    }\n    const paths = {\n      \"vega\": \"https://cdn.jsdelivr.net/npm//vega@5?noext\",\n      \"vega-lib\": \"https://cdn.jsdelivr.net/npm//vega-lib?noext\",\n      \"vega-lite\": \"https://cdn.jsdelivr.net/npm//vega-lite@4.17.0?noext\",\n      \"vega-embed\": \"https://cdn.jsdelivr.net/npm//vega-embed@6?noext\",\n    };\n\n    function maybeLoadScript(lib, version) {\n      var key = `${lib.replace(\"-\", \"\")}_version`;\n      return (VEGA_DEBUG[key] == version) ?\n        Promise.resolve(paths[lib]) :\n        new Promise(function(resolve, reject) {\n          var s = document.createElement('script');\n          document.getElementsByTagName(\"head\")[0].appendChild(s);\n          s.async = true;\n          s.onload = () => {\n            VEGA_DEBUG[key] = version;\n            return resolve(paths[lib]);\n          };\n          s.onerror = () => reject(`Error loading script: ${paths[lib]}`);\n          s.src = paths[lib];\n        });\n    }\n\n    function showError(err) {\n      outputDiv.innerHTML = `<div class=\"error\" style=\"color:red;\">${err}</div>`;\n      throw err;\n    }\n\n    function displayChart(vegaEmbed) {\n      vegaEmbed(outputDiv, spec, embedOpt)\n        .catch(err => showError(`Javascript Error: ${err.message}<br>This usually means there's a typo in your chart specification. See the javascript console for the full traceback.`));\n    }\n\n    if(typeof define === \"function\" && define.amd) {\n      requirejs.config({paths});\n      require([\"vega-embed\"], displayChart, err => showError(`Error loading script: ${err.message}`));\n    } else {\n      maybeLoadScript(\"vega\", \"5\")\n        .then(() => maybeLoadScript(\"vega-lite\", \"4.17.0\"))\n        .then(() => maybeLoadScript(\"vega-embed\", \"6\"))\n        .catch(showError)\n        .then(() => displayChart(vegaEmbed));\n    }\n  })({\"config\": {\"view\": {\"continuousWidth\": 400, \"continuousHeight\": 300}}, \"data\": {\"name\": \"data-35c8cc2a64f839ad72de01e98bcdb406\"}, \"mark\": \"bar\", \"encoding\": {\"tooltip\": [{\"field\": \"score\", \"type\": \"quantitative\"}, {\"field\": \"count\", \"type\": \"quantitative\"}], \"x\": {\"field\": \"score\", \"title\": \"Score\", \"type\": \"quantitative\"}, \"y\": {\"field\": \"count\", \"title\": \"Count\", \"type\": \"quantitative\"}}, \"title\": \"Risk\", \"$schema\": \"https://vega.github.io/schema/vega-lite/v4.17.0.json\", \"datasets\": {\"data-35c8cc2a64f839ad72de01e98bcdb406\": [{\"score\": -42.0, \"count\": 127008}, {\"score\": -38.0, \"count\": 1734554}, {\"score\": -37.0, \"count\": 2993191}, {\"score\": -41.0, \"count\": 262690}, {\"score\": -40.0, \"count\": 515775}, {\"score\": -36.0, \"count\": 4980389}, {\"score\": -35.0, \"count\": 8010455}, {\"score\": -39.0, \"count\": 966346}, {\"score\": -34.0, \"count\": 12481524}, {\"score\": -33.0, \"count\": 18876296}, {\"score\": -32.0, \"count\": 27753523}, {\"score\": -31.0, \"count\": 39728529}, {\"score\": -30.0, \"count\": 55439785}, {\"score\": -29.0, \"count\": 75503035}, {\"score\": -28.0, \"count\": 100453817}, {\"score\": -27.0, \"count\": 130680659}, {\"score\": -26.0, \"count\": 166357462}, {\"score\": -25.0, \"count\": 207379095}, {\"score\": -24.0, \"count\": 253308384}, {\"score\": -23.0, \"count\": 303345183}, {\"score\": -22.0, \"count\": 356319197}, {\"score\": -21.0, \"count\": 410715326}, {\"score\": -20.0, \"count\": 464732989}, {\"score\": -19.0, \"count\": 516372914}, {\"score\": -18.0, \"count\": 563553433}, {\"score\": -17.0, \"count\": 604242447}, {\"score\": -16.0, \"count\": 636593699}, {\"score\": -15.0, \"count\": 659081067}, {\"score\": -14.0, \"count\": 670610002}, {\"score\": -13.0, \"count\": 670600915}, {\"score\": -12.0, \"count\": 659036510}, {\"score\": -11.0, \"count\": 636461921}, {\"score\": -10.0, \"count\": 603946223}, {\"score\": -9.0, \"count\": 563002796}, {\"score\": -8.0, \"count\": 515476485}, {\"score\": -7.0, \"count\": 463414752}, {\"score\": -6.0, \"count\": 408925913}, {\"score\": -5.0, \"count\": 354043759}, {\"score\": -4.0, \"count\": 300609995}, {\"score\": -40.5, \"count\": 84710}, {\"score\": -36.5, \"count\": 1050643}, {\"score\": -35.5, \"count\": 1771674}, {\"score\": -39.5, \"count\": 170874}, {\"score\": -38.5, \"count\": 327502}, {\"score\": -34.5, \"count\": 2881213}, {\"score\": -33.5, \"count\": 4530041}, {\"score\": -37.5, \"count\": 599201}, {\"score\": -32.5, \"count\": 6900840}, {\"score\": -31.5, \"count\": 10203782}, {\"score\": -30.5, \"count\": 14668528}, {\"score\": -29.5, \"count\": 20529960}, {\"score\": -28.5, \"count\": 28008985}, {\"score\": -27.5, \"count\": 37290268}, {\"score\": -26.5, \"count\": 48495021}, {\"score\": -25.5, \"count\": 61655678}, {\"score\": -24.5, \"count\": 76692799}, {\"score\": -23.5, \"count\": 93396028}, {\"score\": -22.5, \"count\": 111417335}, {\"score\": -21.5, \"count\": 130272170}, {\"score\": -20.5, \"count\": 149354228}, {\"score\": -19.5, \"count\": 167965070}, {\"score\": -18.5, \"count\": 185350584}, {\"score\": -17.5, \"count\": 200750160}, {\"score\": -16.5, \"count\": 213449045}, {\"score\": -15.5, \"count\": 222828332}, {\"score\": -14.5, \"count\": 228414783}, {\"score\": -13.5, \"count\": 229916124}, {\"score\": -12.5, \"count\": 227244833}, {\"score\": -11.5, \"count\": 220527750}, {\"score\": -10.5, \"count\": 210093977}, {\"score\": -9.5, \"count\": 196451820}, {\"score\": -8.5, \"count\": 180249570}, {\"score\": -7.5, \"count\": 162225476}, {\"score\": -6.5, \"count\": 143157032}, {\"score\": -3.0, \"count\": 250177912}, {\"score\": -2.0, \"count\": 203951217}, {\"score\": -1.0, \"count\": 162754805}, {\"score\": 0.0, \"count\": 127036792}, {\"score\": 1.0, \"count\": 96901744}, {\"score\": -5.5, \"count\": 123805900}, {\"score\": -4.5, \"count\": 104870443}, {\"score\": -3.5, \"count\": 86947840}, {\"score\": -2.5, \"count\": 70505123}, {\"score\": -1.5, \"count\": 55866889}, {\"score\": 2.0, \"count\": 72162572}, {\"score\": -0.5, \"count\": 43213885}, {\"score\": 3.0, \"count\": 52407141}, {\"score\": 4.0, \"count\": 37070966}, {\"score\": 0.5, \"count\": 32593080}, {\"score\": 1.5, \"count\": 23938589}, {\"score\": 5.0, \"count\": 25506008}, {\"score\": 6.0, \"count\": 17043015}, {\"score\": 7.0, \"count\": 11040711}, {\"score\": 8.0, \"count\": 6920590}, {\"score\": 9.0, \"count\": 4188283}, {\"score\": 2.5, \"count\": 17096266}, {\"score\": 3.5, \"count\": 11852421}, {\"score\": 4.5, \"count\": 7961640}, {\"score\": 5.5, \"count\": 5170737}, {\"score\": 6.5, \"count\": 3239005}, {\"score\": 10.0, \"count\": 2441124}, {\"score\": 7.5, \"count\": 1951589}, {\"score\": 11.0, \"count\": 1366310}, {\"score\": 12.0, \"count\": 731989}, {\"score\": 8.5, \"count\": 1127482}, {\"score\": 9.5, \"count\": 622371}, {\"score\": 13.0, \"count\": 373936}, {\"score\": 10.5, \"count\": 326907}, {\"score\": 14.0, \"count\": 181325}, {\"score\": 15.0, \"count\": 83012}, {\"score\": 11.5, \"count\": 162628}, {\"score\": 12.5, \"count\": 76200}, {\"score\": -45.0, \"count\": 9829}, {\"score\": -44.0, \"count\": 24773}, {\"score\": -43.0, \"count\": 57934}, {\"score\": -43.5, \"count\": 7106}, {\"score\": -42.5, \"count\": 17399}, {\"score\": -41.5, \"count\": 39643}, {\"score\": -48.0, \"count\": 336}, {\"score\": -47.0, \"count\": 1161}, {\"score\": -46.0, \"count\": 3559}, {\"score\": -46.5, \"count\": 268}, {\"score\": -45.5, \"count\": 892}, {\"score\": -44.5, \"count\": 2655}, {\"score\": -51.0, \"count\": 1}, {\"score\": -50.0, \"count\": 13}, {\"score\": -49.0, \"count\": 80}, {\"score\": -49.5, \"count\": 1}, {\"score\": -48.5, \"count\": 12}, {\"score\": -47.5, \"count\": 68}, {\"score\": 16.0, \"count\": 35664}, {\"score\": 17.0, \"count\": 14263}, {\"score\": 13.5, \"count\": 33418}, {\"score\": 14.5, \"count\": 13611}, {\"score\": 18.0, \"count\": 5246}, {\"score\": 19.0, \"count\": 1758}, {\"score\": 15.5, \"count\": 5086}, {\"score\": 16.5, \"count\": 1726}, {\"score\": 20.0, \"count\": 524}, {\"score\": 21.0, \"count\": 132}, {\"score\": 17.5, \"count\": 520}, {\"score\": 18.5, \"count\": 132}, {\"score\": 22.0, \"count\": 28}, {\"score\": 23.0, \"count\": 4}, {\"score\": 19.5, \"count\": 28}, {\"score\": 20.5, \"count\": 4}]}}, {\"mode\": \"vega-lite\"});\n</script>",
      "text/plain": "alt.Chart(...)"
     },
     "metadata": {},
     "output_type": "display_data"
    },
    {
     "data": {
      "text/html": "\n<div id=\"altair-viz-479daf8c7a4e40a98ceeb4f8ddb5a3a8\"></div>\n<script type=\"text/javascript\">\n  var VEGA_DEBUG = (typeof VEGA_DEBUG == \"undefined\") ? {} : VEGA_DEBUG;\n  (function(spec, embedOpt){\n    let outputDiv = document.currentScript.previousElementSibling;\n    if (outputDiv.id !== \"altair-viz-479daf8c7a4e40a98ceeb4f8ddb5a3a8\") {\n      outputDiv = document.getElementById(\"altair-viz-479daf8c7a4e40a98ceeb4f8ddb5a3a8\");\n    }\n    const paths = {\n      \"vega\": \"https://cdn.jsdelivr.net/npm//vega@5?noext\",\n      \"vega-lib\": \"https://cdn.jsdelivr.net/npm//vega-lib?noext\",\n      \"vega-lite\": \"https://cdn.jsdelivr.net/npm//vega-lite@4.17.0?noext\",\n      \"vega-embed\": \"https://cdn.jsdelivr.net/npm//vega-embed@6?noext\",\n    };\n\n    function maybeLoadScript(lib, version) {\n      var key = `${lib.replace(\"-\", \"\")}_version`;\n      return (VEGA_DEBUG[key] == version) ?\n        Promise.resolve(paths[lib]) :\n        new Promise(function(resolve, reject) {\n          var s = document.createElement('script');\n          document.getElementsByTagName(\"head\")[0].appendChild(s);\n          s.async = true;\n          s.onload = () => {\n            VEGA_DEBUG[key] = version;\n            return resolve(paths[lib]);\n          };\n          s.onerror = () => reject(`Error loading script: ${paths[lib]}`);\n          s.src = paths[lib];\n        });\n    }\n\n    function showError(err) {\n      outputDiv.innerHTML = `<div class=\"error\" style=\"color:red;\">${err}</div>`;\n      throw err;\n    }\n\n    function displayChart(vegaEmbed) {\n      vegaEmbed(outputDiv, spec, embedOpt)\n        .catch(err => showError(`Javascript Error: ${err.message}<br>This usually means there's a typo in your chart specification. See the javascript console for the full traceback.`));\n    }\n\n    if(typeof define === \"function\" && define.amd) {\n      requirejs.config({paths});\n      require([\"vega-embed\"], displayChart, err => showError(`Error loading script: ${err.message}`));\n    } else {\n      maybeLoadScript(\"vega\", \"5\")\n        .then(() => maybeLoadScript(\"vega-lite\", \"4.17.0\"))\n        .then(() => maybeLoadScript(\"vega-embed\", \"6\"))\n        .catch(showError)\n        .then(() => displayChart(vegaEmbed));\n    }\n  })({\"config\": {\"view\": {\"continuousWidth\": 400, \"continuousHeight\": 300}}, \"data\": {\"name\": \"data-62ff427770827efa577fa9bb6eec8dbf\"}, \"mark\": \"bar\", \"encoding\": {\"tooltip\": [{\"field\": \"score\", \"type\": \"quantitative\"}, {\"field\": \"count\", \"type\": \"quantitative\"}], \"x\": {\"field\": \"score\", \"title\": \"Score\", \"type\": \"quantitative\"}, \"y\": {\"field\": \"count\", \"title\": \"Normalized count\", \"type\": \"quantitative\"}}, \"title\": \"Risk (normalized)\", \"$schema\": \"https://vega.github.io/schema/vega-lite/v4.17.0.json\", \"datasets\": {\"data-62ff427770827efa577fa9bb6eec8dbf\": [{\"score\": -42.0, \"count\": 0.0001893902563496067}, {\"score\": -38.0, \"count\": 0.0025865301701636866}, {\"score\": -37.0, \"count\": 0.004463384076492471}, {\"score\": -41.0, \"count\": 0.0003917164963365943}, {\"score\": -40.0, \"count\": 0.0007691117031223637}, {\"score\": -36.0, \"count\": 0.0074266533343871205}, {\"score\": -35.0, \"count\": 0.011945026152391068}, {\"score\": -39.0, \"count\": 0.0014409940182207334}, {\"score\": -34.0, \"count\": 0.01861219334842577}, {\"score\": -33.0, \"count\": 0.028147947349207517}, {\"score\": -32.0, \"count\": 0.04138548777771658}, {\"score\": -31.0, \"count\": 0.05924237327322531}, {\"score\": -30.0, \"count\": 0.08267067881082793}, {\"score\": -29.0, \"count\": 0.11258858932525821}, {\"score\": -28.0, \"count\": 0.1497946881946367}, {\"score\": -27.0, \"count\": 0.194868340473795}, {\"score\": -26.0, \"count\": 0.2480688637985284}, {\"score\": -25.0, \"count\": 0.3092394889589486}, {\"score\": -24.0, \"count\": 0.37772831097399634}, {\"score\": -23.0, \"count\": 0.4523421683954278}, {\"score\": -22.0, \"count\": 0.5313359411113227}, {\"score\": -21.0, \"count\": 0.612450342803641}, {\"score\": -20.0, \"count\": 0.6930003836909674}, {\"score\": -19.0, \"count\": 0.7700047900120714}, {\"score\": -18.0, \"count\": 0.8403594207656322}, {\"score\": -17.0, \"count\": 0.9010340512353916}, {\"score\": -16.0, \"count\": 0.9492755805173266}, {\"score\": -15.0, \"count\": 0.9828082865110745}, {\"score\": -14.0, \"count\": 1.0}, {\"score\": -13.0, \"count\": 0.9999864496503386}, {\"score\": -12.0, \"count\": 0.9827418440185177}, {\"score\": -11.0, \"count\": 0.9490790758427714}, {\"score\": -10.0, \"count\": 0.900592328028821}, {\"score\": -9.0, \"count\": 0.839538322065674}, {\"score\": -8.0, \"count\": 0.7686680533116594}, {\"score\": -7.0, \"count\": 0.6910346554763057}, {\"score\": -6.0, \"count\": 0.6097820065167803}, {\"score\": -5.0, \"count\": 0.5279428542253428}, {\"score\": -4.0, \"count\": 0.4482635116561586}, {\"score\": -40.5, \"count\": 0.00012631633866730835}, {\"score\": -36.5, \"count\": 0.0015666959908639956}, {\"score\": -35.5, \"count\": 0.002641882759514647}, {\"score\": -39.5, \"count\": 0.0002548023437544887}, {\"score\": -38.5, \"count\": 0.0004883628331096124}, {\"score\": -34.5, \"count\": 0.004296404759403521}, {\"score\": -33.5, \"count\": 0.0067551035523551635}, {\"score\": -37.5, \"count\": 0.0008935148582730427}, {\"score\": -32.5, \"count\": 0.010290390822847273}, {\"score\": -31.5, \"count\": 0.015215670784486258}, {\"score\": -30.5, \"count\": 0.021873409251467454}, {\"score\": -29.5, \"count\": 0.03061385748704335}, {\"score\": -28.5, \"count\": 0.04176642751857797}, {\"score\": -27.5, \"count\": 0.055606488039834645}, {\"score\": -26.5, \"count\": 0.07231478792097525}, {\"score\": -25.5, \"count\": 0.09193969208341705}, {\"score\": -24.5, \"count\": 0.11436274121417404}, {\"score\": -23.5, \"count\": 0.13927025672258056}, {\"score\": -22.5, \"count\": 0.16614326334808122}, {\"score\": -21.5, \"count\": 0.1942592099815702}, {\"score\": -20.5, \"count\": 0.22271398693321903}, {\"score\": -19.5, \"count\": 0.25046609616548204}, {\"score\": -18.5, \"count\": 0.2763910211950448}, {\"score\": -17.5, \"count\": 0.2993545558530971}, {\"score\": -16.5, \"count\": 0.3182908749969567}, {\"score\": -15.5, \"count\": 0.3322770770905935}, {\"score\": -14.5, \"count\": 0.340607479249329}, {\"score\": -13.5, \"count\": 0.34284624842628914}, {\"score\": -12.5, \"count\": 0.3388628735943948}, {\"score\": -11.5, \"count\": 0.32884649598299087}, {\"score\": -10.5, \"count\": 0.3132878658038385}, {\"score\": -9.5, \"count\": 0.2929449586302844}, {\"score\": -8.5, \"count\": 0.2687844928217824}, {\"score\": -7.5, \"count\": 0.24190733027854144}, {\"score\": -6.5, \"count\": 0.2134728542469202}, {\"score\": -3.0, \"count\": 0.37306021477004486}, {\"score\": -2.0, \"count\": 0.3041279069740566}, {\"score\": -1.0, \"count\": 0.24269665492209086}, {\"score\": 0.0, \"count\": 0.18943468008315612}, {\"score\": 1.0, \"count\": 0.14449790915062719}, {\"score\": -5.5, \"count\": 0.18461683961674172}, {\"score\": -4.5, \"count\": 0.15638067109589676}, {\"score\": -3.5, \"count\": 0.12965484986854528}, {\"score\": -2.5, \"count\": 0.10513580455833375}, {\"score\": -1.5, \"count\": 0.08330756761261006}, {\"score\": 2.0, \"count\": 0.10760735881122059}, {\"score\": -0.5, \"count\": 0.06443966528319044}, {\"score\": 3.0, \"count\": 0.07814846173163469}, {\"score\": 4.0, \"count\": 0.05527946935584099}, {\"score\": 0.5, \"count\": 0.0486021367879958}, {\"score\": 1.5, \"count\": 0.035696735754467225}, {\"score\": 5.0, \"count\": 0.03803403910166261}, {\"score\": 6.0, \"count\": 0.02541419599258258}, {\"score\": 7.0, \"count\": 0.01646368229453232}, {\"score\": 8.0, \"count\": 0.01031984162133007}, {\"score\": 9.0, \"count\": 0.006245480970690147}, {\"score\": 2.5, \"count\": 0.025493602801190552}, {\"score\": 3.5, \"count\": 0.017674087744480267}, {\"score\": 4.5, \"count\": 0.01187223421679928}, {\"score\": 5.5, \"count\": 0.0077104964022151525}, {\"score\": 6.5, \"count\": 0.004829936915897561}, {\"score\": 10.0, \"count\": 0.0036401529896062496}, {\"score\": 7.5, \"count\": 0.002910168349845412}, {\"score\": 11.0, \"count\": 0.0020374122037586494}, {\"score\": 12.0, \"count\": 0.0010915256242950066}, {\"score\": 8.5, \"count\": 0.0016812767455282852}, {\"score\": 9.5, \"count\": 0.0009280654912272923}, {\"score\": 13.0, \"count\": 0.0005576042699070932}, {\"score\": 10.5, \"count\": 0.0004874755812059534}, {\"score\": 14.0, \"count\": 0.0002703866624858164}, {\"score\": 15.0, \"count\": 0.00012378431558762273}, {\"score\": 11.5, \"count\": 0.00024250607619554423}, {\"score\": 12.5, \"count\": 0.00011362639967547994}, {\"score\": -45.0, \"count\": 1.4655313796908316e-05}, {\"score\": -44.0, \"count\": 3.693950278561384e-05}, {\"score\": -43.0, \"count\": 8.638851182298428e-05}, {\"score\": -43.5, \"count\": 1.0594831555457222e-05}, {\"score\": -42.5, \"count\": 2.5943543898922556e-05}, {\"score\": -41.5, \"count\": 5.911334447873825e-05}, {\"score\": -48.0, \"count\": 4.995451894550556e-07}, {\"score\": -47.0, \"count\": 1.7297684172175058e-06}, {\"score\": -46.0, \"count\": 5.305617265913694e-06}, {\"score\": -46.5, \"count\": 3.981449718940294e-07}, {\"score\": -45.5, \"count\": 1.3286410859834463e-06}, {\"score\": -44.5, \"count\": 3.957590844220052e-06}, {\"score\": -51.0, \"count\": 0.0}, {\"score\": -50.0, \"count\": 1.7894156040181094e-08}, {\"score\": -49.0, \"count\": 1.1780319393119221e-07}, {\"score\": -49.5, \"count\": 0.0}, {\"score\": -48.5, \"count\": 1.6402976370166005e-08}, {\"score\": -47.5, \"count\": 9.990903789101111e-08}, {\"score\": 16.0, \"count\": 5.31799405717482e-05}, {\"score\": 17.0, \"count\": 2.126720445375523e-05}, {\"score\": 13.5, \"count\": 4.9830751032894304e-05}, {\"score\": 14.5, \"count\": 2.0294955308905392e-05}, {\"score\": 18.0, \"count\": 7.821237369229153e-06}, {\"score\": 19.0, \"count\": 2.6200026802165155e-06}, {\"score\": 15.5, \"count\": 7.582648622026739e-06}, {\"score\": 16.5, \"count\": 2.572284930776032e-06}, {\"score\": 20.0, \"count\": 7.798869674178927e-07}, {\"score\": 21.0, \"count\": 1.9534453677197695e-07}, {\"score\": 17.5, \"count\": 7.739222487378323e-07}, {\"score\": 18.5, \"count\": 1.9534453677197695e-07}, {\"score\": 22.0, \"count\": 4.026185109040746e-08}, {\"score\": 23.0, \"count\": 4.4735390100452734e-09}, {\"score\": 19.5, \"count\": 4.026185109040746e-08}, {\"score\": 20.5, \"count\": 4.4735390100452734e-09}]}}, {\"mode\": \"vega-lite\"});\n</script>",
      "text/plain": "alt.Chart(...)"
     },
     "metadata": {},
     "output_type": "display_data"
    },
    {
     "data": {
      "text/html": "\n<div id=\"altair-viz-3967213423804f8d9ff13c2551d2139c\"></div>\n<script type=\"text/javascript\">\n  var VEGA_DEBUG = (typeof VEGA_DEBUG == \"undefined\") ? {} : VEGA_DEBUG;\n  (function(spec, embedOpt){\n    let outputDiv = document.currentScript.previousElementSibling;\n    if (outputDiv.id !== \"altair-viz-3967213423804f8d9ff13c2551d2139c\") {\n      outputDiv = document.getElementById(\"altair-viz-3967213423804f8d9ff13c2551d2139c\");\n    }\n    const paths = {\n      \"vega\": \"https://cdn.jsdelivr.net/npm//vega@5?noext\",\n      \"vega-lib\": \"https://cdn.jsdelivr.net/npm//vega-lib?noext\",\n      \"vega-lite\": \"https://cdn.jsdelivr.net/npm//vega-lite@4.17.0?noext\",\n      \"vega-embed\": \"https://cdn.jsdelivr.net/npm//vega-embed@6?noext\",\n    };\n\n    function maybeLoadScript(lib, version) {\n      var key = `${lib.replace(\"-\", \"\")}_version`;\n      return (VEGA_DEBUG[key] == version) ?\n        Promise.resolve(paths[lib]) :\n        new Promise(function(resolve, reject) {\n          var s = document.createElement('script');\n          document.getElementsByTagName(\"head\")[0].appendChild(s);\n          s.async = true;\n          s.onload = () => {\n            VEGA_DEBUG[key] = version;\n            return resolve(paths[lib]);\n          };\n          s.onerror = () => reject(`Error loading script: ${paths[lib]}`);\n          s.src = paths[lib];\n        });\n    }\n\n    function showError(err) {\n      outputDiv.innerHTML = `<div class=\"error\" style=\"color:red;\">${err}</div>`;\n      throw err;\n    }\n\n    function displayChart(vegaEmbed) {\n      vegaEmbed(outputDiv, spec, embedOpt)\n        .catch(err => showError(`Javascript Error: ${err.message}<br>This usually means there's a typo in your chart specification. See the javascript console for the full traceback.`));\n    }\n\n    if(typeof define === \"function\" && define.amd) {\n      requirejs.config({paths});\n      require([\"vega-embed\"], displayChart, err => showError(`Error loading script: ${err.message}`));\n    } else {\n      maybeLoadScript(\"vega\", \"5\")\n        .then(() => maybeLoadScript(\"vega-lite\", \"4.17.0\"))\n        .then(() => maybeLoadScript(\"vega-embed\", \"6\"))\n        .catch(showError)\n        .then(() => displayChart(vegaEmbed));\n    }\n  })({\"config\": {\"view\": {\"continuousWidth\": 400, \"continuousHeight\": 300}}, \"data\": {\"name\": \"data-6018a29b9a7feec79a8dac84a513362e\"}, \"mark\": \"bar\", \"encoding\": {\"tooltip\": [{\"field\": \"score\", \"type\": \"quantitative\"}, {\"field\": \"count\", \"type\": \"quantitative\"}], \"x\": {\"field\": \"score\", \"title\": \"Score\", \"type\": \"quantitative\"}, \"y\": {\"field\": \"count\", \"title\": \"Count\", \"type\": \"quantitative\"}}, \"title\": \"Public Value\", \"$schema\": \"https://vega.github.io/schema/vega-lite/v4.17.0.json\", \"datasets\": {\"data-6018a29b9a7feec79a8dac84a513362e\": [{\"score\": -6.0, \"count\": 3235}, {\"score\": -5.0, \"count\": 9644}, {\"score\": -4.0, \"count\": 23115}, {\"score\": -3.0, \"count\": 46141}, {\"score\": -2.0, \"count\": 81285}, {\"score\": -1.0, \"count\": 131040}, {\"score\": 0.0, \"count\": 195412}, {\"score\": 1.0, \"count\": 269254}, {\"score\": 2.0, \"count\": 342889}, {\"score\": 3.0, \"count\": 404863}, {\"score\": 4.0, \"count\": 445316}, {\"score\": 5.0, \"count\": 456781}, {\"score\": 6.0, \"count\": 435358}, {\"score\": 7.0, \"count\": 382517}, {\"score\": 8.0, \"count\": 306836}, {\"score\": -8.0, \"count\": 153}, {\"score\": -7.0, \"count\": 855}, {\"score\": 9.0, \"count\": 222317}, {\"score\": 10.0, \"count\": 143966}, {\"score\": 11.0, \"count\": 82337}, {\"score\": 12.0, \"count\": 41009}, {\"score\": 13.0, \"count\": 17436}, {\"score\": 14.0, \"count\": 6147}, {\"score\": 15.0, \"count\": 1707}, {\"score\": -9.0, \"count\": 12}, {\"score\": 16.0, \"count\": 339}, {\"score\": 17.0, \"count\": 36}]}}, {\"mode\": \"vega-lite\"});\n</script>",
      "text/plain": "alt.Chart(...)"
     },
     "metadata": {},
     "output_type": "display_data"
    },
    {
     "data": {
      "text/html": "\n<div id=\"altair-viz-1fa673de5f6e4bb698dbc8175e9ce0cc\"></div>\n<script type=\"text/javascript\">\n  var VEGA_DEBUG = (typeof VEGA_DEBUG == \"undefined\") ? {} : VEGA_DEBUG;\n  (function(spec, embedOpt){\n    let outputDiv = document.currentScript.previousElementSibling;\n    if (outputDiv.id !== \"altair-viz-1fa673de5f6e4bb698dbc8175e9ce0cc\") {\n      outputDiv = document.getElementById(\"altair-viz-1fa673de5f6e4bb698dbc8175e9ce0cc\");\n    }\n    const paths = {\n      \"vega\": \"https://cdn.jsdelivr.net/npm//vega@5?noext\",\n      \"vega-lib\": \"https://cdn.jsdelivr.net/npm//vega-lib?noext\",\n      \"vega-lite\": \"https://cdn.jsdelivr.net/npm//vega-lite@4.17.0?noext\",\n      \"vega-embed\": \"https://cdn.jsdelivr.net/npm//vega-embed@6?noext\",\n    };\n\n    function maybeLoadScript(lib, version) {\n      var key = `${lib.replace(\"-\", \"\")}_version`;\n      return (VEGA_DEBUG[key] == version) ?\n        Promise.resolve(paths[lib]) :\n        new Promise(function(resolve, reject) {\n          var s = document.createElement('script');\n          document.getElementsByTagName(\"head\")[0].appendChild(s);\n          s.async = true;\n          s.onload = () => {\n            VEGA_DEBUG[key] = version;\n            return resolve(paths[lib]);\n          };\n          s.onerror = () => reject(`Error loading script: ${paths[lib]}`);\n          s.src = paths[lib];\n        });\n    }\n\n    function showError(err) {\n      outputDiv.innerHTML = `<div class=\"error\" style=\"color:red;\">${err}</div>`;\n      throw err;\n    }\n\n    function displayChart(vegaEmbed) {\n      vegaEmbed(outputDiv, spec, embedOpt)\n        .catch(err => showError(`Javascript Error: ${err.message}<br>This usually means there's a typo in your chart specification. See the javascript console for the full traceback.`));\n    }\n\n    if(typeof define === \"function\" && define.amd) {\n      requirejs.config({paths});\n      require([\"vega-embed\"], displayChart, err => showError(`Error loading script: ${err.message}`));\n    } else {\n      maybeLoadScript(\"vega\", \"5\")\n        .then(() => maybeLoadScript(\"vega-lite\", \"4.17.0\"))\n        .then(() => maybeLoadScript(\"vega-embed\", \"6\"))\n        .catch(showError)\n        .then(() => displayChart(vegaEmbed));\n    }\n  })({\"config\": {\"view\": {\"continuousWidth\": 400, \"continuousHeight\": 300}}, \"data\": {\"name\": \"data-39c0767ca1eaca392114f2fa7b90bf91\"}, \"mark\": \"bar\", \"encoding\": {\"tooltip\": [{\"field\": \"score\", \"type\": \"quantitative\"}, {\"field\": \"count\", \"type\": \"quantitative\"}], \"x\": {\"field\": \"score\", \"title\": \"Score\", \"type\": \"quantitative\"}, \"y\": {\"field\": \"count\", \"title\": \"Normalized count\", \"type\": \"quantitative\"}}, \"title\": \"Public Value (normalized)\", \"$schema\": \"https://vega.github.io/schema/vega-lite/v4.17.0.json\", \"datasets\": {\"data-39c0767ca1eaca392114f2fa7b90bf91\": [{\"score\": -6.0, \"count\": 0.007056083052921718}, {\"score\": -5.0, \"count\": 0.021087245412889227}, {\"score\": -4.0, \"count\": 0.05057917678301286}, {\"score\": -3.0, \"count\": 0.10098977820298663}, {\"score\": -2.0, \"count\": 0.1779302010425401}, {\"score\": -1.0, \"count\": 0.2868583463413673}, {\"score\": 0.0, \"count\": 0.4277873498420427}, {\"score\": 1.0, \"count\": 0.5894489337060965}, {\"score\": 2.0, \"count\": 0.750657334451331}, {\"score\": 3.0, \"count\": 0.8863364195030748}, {\"score\": 4.0, \"count\": 0.9748997852306089}, {\"score\": 5.0, \"count\": 1.0}, {\"score\": 6.0, \"count\": 0.9530988311378399}, {\"score\": 7.0, \"count\": 0.8374145355748748}, {\"score\": 8.0, \"count\": 0.6717268466117446}, {\"score\": -8.0, \"count\": 0.0003086899505001434}, {\"score\": -7.0, \"count\": 0.0018455718317136234}, {\"score\": 9.0, \"count\": 0.486690208836414}, {\"score\": 10.0, \"count\": 0.3151571144276429}, {\"score\": 11.0, \"count\": 0.18023333457393123}, {\"score\": 12.0, \"count\": 0.08975433972095304}, {\"score\": 13.0, \"count\": 0.03814619643627304}, {\"score\": 14.0, \"count\": 0.013431296782399856}, {\"score\": 15.0, \"count\": 0.003710847277288958}, {\"score\": -9.0, \"count\": 0.0}, {\"score\": 16.0, \"count\": 0.0007158979703088432}, {\"score\": 17.0, \"count\": 5.254297029789675e-05}]}}, {\"mode\": \"vega-lite\"});\n</script>",
      "text/plain": "alt.Chart(...)"
     },
     "metadata": {},
     "output_type": "display_data"
    }
   ],
   "source": [
    "config = [\n",
    "    ('All questions', questions),\n",
    "    ('Risk', x_q),\n",
    "    ('Public Value', y_q),\n",
    "]\n",
    "for title, questions in config:\n",
    "    df = score_count_df_from_questions(questions)\n",
    "    df_norm = normalize_df(df, ['count'])\n",
    "    display(chart=hist(df, title), name=f'{title} - single')\n",
    "    display(chart=hist(df_norm, f'{title} (normalized)', titleY='Normalized count'), name=f'{title} - single - normalized')"
   ],
   "metadata": {
    "collapsed": false
   }
  },
  {
   "cell_type": "markdown",
   "source": [
    "### Diff Vis"
   ],
   "metadata": {
    "collapsed": false
   }
  },
  {
   "cell_type": "code",
   "execution_count": 10,
   "outputs": [],
   "source": [
    "from copy import deepcopy\n",
    "\n",
    "def edited_questions(original=QUESTIONNAIRE.questions) -> list[Question]:\n",
    "    edited = []\n",
    "    for i, q in enumerate(deepcopy(original)):\n",
    "        should_add = i % 2 == 0\n",
    "        for c in q.choices:\n",
    "            c.score += 2 if should_add else -3\n",
    "        edited.append(q)\n",
    "    return edited\n",
    "\n",
    "\n",
    "def hist_diff(df1: pd.DataFrame, df2: pd.DataFrame, title: str, titleX='Score', titleY='Count') -> alt.Chart:\n",
    "    h1 = alt.Chart(df1).mark_bar().encode(\n",
    "        x=alt.X('score', title=titleX),\n",
    "        y=alt.Y('count', title=titleY),\n",
    "    )\n",
    "    # Other color\n",
    "    h2 = alt.Chart(df2).mark_bar().encode(\n",
    "        x=alt.X('score', title=titleX),\n",
    "        y=alt.Y('count', title=titleY),\n",
    "        color=alt.value('red'),\n",
    "        opacity=alt.value(0.5)\n",
    "    )\n",
    "    return (h1 + h2).properties(\n",
    "        title=title\n",
    "    )"
   ],
   "metadata": {
    "collapsed": false
   }
  },
  {
   "cell_type": "code",
   "execution_count": 11,
   "outputs": [
    {
     "data": {
      "text/html": "\n<div id=\"altair-viz-8d86b2f5764b4fefb440c2feeee22935\"></div>\n<script type=\"text/javascript\">\n  var VEGA_DEBUG = (typeof VEGA_DEBUG == \"undefined\") ? {} : VEGA_DEBUG;\n  (function(spec, embedOpt){\n    let outputDiv = document.currentScript.previousElementSibling;\n    if (outputDiv.id !== \"altair-viz-8d86b2f5764b4fefb440c2feeee22935\") {\n      outputDiv = document.getElementById(\"altair-viz-8d86b2f5764b4fefb440c2feeee22935\");\n    }\n    const paths = {\n      \"vega\": \"https://cdn.jsdelivr.net/npm//vega@5?noext\",\n      \"vega-lib\": \"https://cdn.jsdelivr.net/npm//vega-lib?noext\",\n      \"vega-lite\": \"https://cdn.jsdelivr.net/npm//vega-lite@4.17.0?noext\",\n      \"vega-embed\": \"https://cdn.jsdelivr.net/npm//vega-embed@6?noext\",\n    };\n\n    function maybeLoadScript(lib, version) {\n      var key = `${lib.replace(\"-\", \"\")}_version`;\n      return (VEGA_DEBUG[key] == version) ?\n        Promise.resolve(paths[lib]) :\n        new Promise(function(resolve, reject) {\n          var s = document.createElement('script');\n          document.getElementsByTagName(\"head\")[0].appendChild(s);\n          s.async = true;\n          s.onload = () => {\n            VEGA_DEBUG[key] = version;\n            return resolve(paths[lib]);\n          };\n          s.onerror = () => reject(`Error loading script: ${paths[lib]}`);\n          s.src = paths[lib];\n        });\n    }\n\n    function showError(err) {\n      outputDiv.innerHTML = `<div class=\"error\" style=\"color:red;\">${err}</div>`;\n      throw err;\n    }\n\n    function displayChart(vegaEmbed) {\n      vegaEmbed(outputDiv, spec, embedOpt)\n        .catch(err => showError(`Javascript Error: ${err.message}<br>This usually means there's a typo in your chart specification. See the javascript console for the full traceback.`));\n    }\n\n    if(typeof define === \"function\" && define.amd) {\n      requirejs.config({paths});\n      require([\"vega-embed\"], displayChart, err => showError(`Error loading script: ${err.message}`));\n    } else {\n      maybeLoadScript(\"vega\", \"5\")\n        .then(() => maybeLoadScript(\"vega-lite\", \"4.17.0\"))\n        .then(() => maybeLoadScript(\"vega-embed\", \"6\"))\n        .catch(showError)\n        .then(() => displayChart(vegaEmbed));\n    }\n  })({\"config\": {\"view\": {\"continuousWidth\": 400, \"continuousHeight\": 300}}, \"layer\": [{\"data\": {\"name\": \"data-6018a29b9a7feec79a8dac84a513362e\"}, \"mark\": \"bar\", \"encoding\": {\"x\": {\"field\": \"score\", \"title\": \"Score\", \"type\": \"quantitative\"}, \"y\": {\"field\": \"count\", \"title\": \"Count\", \"type\": \"quantitative\"}}}, {\"data\": {\"name\": \"data-9a394bfd0e737d5884d2a504c101cdb0\"}, \"mark\": \"bar\", \"encoding\": {\"color\": {\"value\": \"red\"}, \"opacity\": {\"value\": 0.5}, \"x\": {\"field\": \"score\", \"title\": \"Score\", \"type\": \"quantitative\"}, \"y\": {\"field\": \"count\", \"title\": \"Count\", \"type\": \"quantitative\"}}}], \"title\": \"All questions\", \"$schema\": \"https://vega.github.io/schema/vega-lite/v4.17.0.json\", \"datasets\": {\"data-6018a29b9a7feec79a8dac84a513362e\": [{\"score\": -6.0, \"count\": 3235}, {\"score\": -5.0, \"count\": 9644}, {\"score\": -4.0, \"count\": 23115}, {\"score\": -3.0, \"count\": 46141}, {\"score\": -2.0, \"count\": 81285}, {\"score\": -1.0, \"count\": 131040}, {\"score\": 0.0, \"count\": 195412}, {\"score\": 1.0, \"count\": 269254}, {\"score\": 2.0, \"count\": 342889}, {\"score\": 3.0, \"count\": 404863}, {\"score\": 4.0, \"count\": 445316}, {\"score\": 5.0, \"count\": 456781}, {\"score\": 6.0, \"count\": 435358}, {\"score\": 7.0, \"count\": 382517}, {\"score\": 8.0, \"count\": 306836}, {\"score\": -8.0, \"count\": 153}, {\"score\": -7.0, \"count\": 855}, {\"score\": 9.0, \"count\": 222317}, {\"score\": 10.0, \"count\": 143966}, {\"score\": 11.0, \"count\": 82337}, {\"score\": 12.0, \"count\": 41009}, {\"score\": 13.0, \"count\": 17436}, {\"score\": 14.0, \"count\": 6147}, {\"score\": 15.0, \"count\": 1707}, {\"score\": -9.0, \"count\": 12}, {\"score\": 16.0, \"count\": 339}, {\"score\": 17.0, \"count\": 36}], \"data-9a394bfd0e737d5884d2a504c101cdb0\": [{\"score\": -10.0, \"count\": 120483}, {\"score\": -9.0, \"count\": 170318}, {\"score\": -8.0, \"count\": 226281}, {\"score\": -12.0, \"count\": 49202}, {\"score\": -11.0, \"count\": 79796}, {\"score\": -13.0, \"count\": 28059}, {\"score\": -7.0, \"count\": 283180}, {\"score\": -6.0, \"count\": 334497}, {\"score\": -5.0, \"count\": 373340}, {\"score\": -4.0, \"count\": 393774}, {\"score\": -3.0, \"count\": 392282}, {\"score\": -2.0, \"count\": 368687}, {\"score\": -1.0, \"count\": 326315}, {\"score\": 0.0, \"count\": 271408}, {\"score\": 1.0, \"count\": 211587}, {\"score\": 2.0, \"count\": 154090}, {\"score\": 3.0, \"count\": 104362}, {\"score\": -14.0, \"count\": 14622}, {\"score\": -15.0, \"count\": 6829}, {\"score\": -16.0, \"count\": 2788}, {\"score\": 4.0, \"count\": 65337}, {\"score\": 5.0, \"count\": 37502}, {\"score\": 6.0, \"count\": 19519}, {\"score\": 7.0, \"count\": 9080}, {\"score\": 8.0, \"count\": 3700}, {\"score\": -17.0, \"count\": 949}, {\"score\": -18.0, \"count\": 244}, {\"score\": -19.0, \"count\": 40}, {\"score\": -20.0, \"count\": 3}, {\"score\": 9.0, \"count\": 1282}, {\"score\": 10.0, \"count\": 360}, {\"score\": 11.0, \"count\": 75}, {\"score\": 12.0, \"count\": 9}]}}, {\"mode\": \"vega-lite\"});\n</script>",
      "text/plain": "alt.LayerChart(...)"
     },
     "metadata": {},
     "output_type": "display_data"
    },
    {
     "data": {
      "text/html": "\n<div id=\"altair-viz-13e378c3f87f44339bc76bfe0d8c423c\"></div>\n<script type=\"text/javascript\">\n  var VEGA_DEBUG = (typeof VEGA_DEBUG == \"undefined\") ? {} : VEGA_DEBUG;\n  (function(spec, embedOpt){\n    let outputDiv = document.currentScript.previousElementSibling;\n    if (outputDiv.id !== \"altair-viz-13e378c3f87f44339bc76bfe0d8c423c\") {\n      outputDiv = document.getElementById(\"altair-viz-13e378c3f87f44339bc76bfe0d8c423c\");\n    }\n    const paths = {\n      \"vega\": \"https://cdn.jsdelivr.net/npm//vega@5?noext\",\n      \"vega-lib\": \"https://cdn.jsdelivr.net/npm//vega-lib?noext\",\n      \"vega-lite\": \"https://cdn.jsdelivr.net/npm//vega-lite@4.17.0?noext\",\n      \"vega-embed\": \"https://cdn.jsdelivr.net/npm//vega-embed@6?noext\",\n    };\n\n    function maybeLoadScript(lib, version) {\n      var key = `${lib.replace(\"-\", \"\")}_version`;\n      return (VEGA_DEBUG[key] == version) ?\n        Promise.resolve(paths[lib]) :\n        new Promise(function(resolve, reject) {\n          var s = document.createElement('script');\n          document.getElementsByTagName(\"head\")[0].appendChild(s);\n          s.async = true;\n          s.onload = () => {\n            VEGA_DEBUG[key] = version;\n            return resolve(paths[lib]);\n          };\n          s.onerror = () => reject(`Error loading script: ${paths[lib]}`);\n          s.src = paths[lib];\n        });\n    }\n\n    function showError(err) {\n      outputDiv.innerHTML = `<div class=\"error\" style=\"color:red;\">${err}</div>`;\n      throw err;\n    }\n\n    function displayChart(vegaEmbed) {\n      vegaEmbed(outputDiv, spec, embedOpt)\n        .catch(err => showError(`Javascript Error: ${err.message}<br>This usually means there's a typo in your chart specification. See the javascript console for the full traceback.`));\n    }\n\n    if(typeof define === \"function\" && define.amd) {\n      requirejs.config({paths});\n      require([\"vega-embed\"], displayChart, err => showError(`Error loading script: ${err.message}`));\n    } else {\n      maybeLoadScript(\"vega\", \"5\")\n        .then(() => maybeLoadScript(\"vega-lite\", \"4.17.0\"))\n        .then(() => maybeLoadScript(\"vega-embed\", \"6\"))\n        .catch(showError)\n        .then(() => displayChart(vegaEmbed));\n    }\n  })({\"config\": {\"view\": {\"continuousWidth\": 400, \"continuousHeight\": 300}}, \"layer\": [{\"data\": {\"name\": \"data-39c0767ca1eaca392114f2fa7b90bf91\"}, \"mark\": \"bar\", \"encoding\": {\"x\": {\"field\": \"score\", \"title\": \"Score\", \"type\": \"quantitative\"}, \"y\": {\"field\": \"count\", \"title\": \"Normalized count\", \"type\": \"quantitative\"}}}, {\"data\": {\"name\": \"data-c4ca32aa71ccee68e6f15f2f02686cfb\"}, \"mark\": \"bar\", \"encoding\": {\"color\": {\"value\": \"red\"}, \"opacity\": {\"value\": 0.5}, \"x\": {\"field\": \"score\", \"title\": \"Score\", \"type\": \"quantitative\"}, \"y\": {\"field\": \"count\", \"title\": \"Normalized count\", \"type\": \"quantitative\"}}}], \"title\": \"All questions (normalized)\", \"$schema\": \"https://vega.github.io/schema/vega-lite/v4.17.0.json\", \"datasets\": {\"data-39c0767ca1eaca392114f2fa7b90bf91\": [{\"score\": -6.0, \"count\": 0.007056083052921718}, {\"score\": -5.0, \"count\": 0.021087245412889227}, {\"score\": -4.0, \"count\": 0.05057917678301286}, {\"score\": -3.0, \"count\": 0.10098977820298663}, {\"score\": -2.0, \"count\": 0.1779302010425401}, {\"score\": -1.0, \"count\": 0.2868583463413673}, {\"score\": 0.0, \"count\": 0.4277873498420427}, {\"score\": 1.0, \"count\": 0.5894489337060965}, {\"score\": 2.0, \"count\": 0.750657334451331}, {\"score\": 3.0, \"count\": 0.8863364195030748}, {\"score\": 4.0, \"count\": 0.9748997852306089}, {\"score\": 5.0, \"count\": 1.0}, {\"score\": 6.0, \"count\": 0.9530988311378399}, {\"score\": 7.0, \"count\": 0.8374145355748748}, {\"score\": 8.0, \"count\": 0.6717268466117446}, {\"score\": -8.0, \"count\": 0.0003086899505001434}, {\"score\": -7.0, \"count\": 0.0018455718317136234}, {\"score\": 9.0, \"count\": 0.486690208836414}, {\"score\": 10.0, \"count\": 0.3151571144276429}, {\"score\": 11.0, \"count\": 0.18023333457393123}, {\"score\": 12.0, \"count\": 0.08975433972095304}, {\"score\": 13.0, \"count\": 0.03814619643627304}, {\"score\": 14.0, \"count\": 0.013431296782399856}, {\"score\": 15.0, \"count\": 0.003710847277288958}, {\"score\": -9.0, \"count\": 0.0}, {\"score\": 16.0, \"count\": 0.0007158979703088432}, {\"score\": 17.0, \"count\": 5.254297029789675e-05}], \"data-c4ca32aa71ccee68e6f15f2f02686cfb\": [{\"score\": -10.0, \"count\": 0.3059646342671248}, {\"score\": -9.0, \"count\": 0.4325229638546262}, {\"score\": -8.0, \"count\": 0.5746436380535895}, {\"score\": -12.0, \"count\": 0.1249431776337008}, {\"score\": -11.0, \"count\": 0.2026380815245409}, {\"score\": -13.0, \"count\": 0.0712495333582209}, {\"score\": -7.0, \"count\": 0.7191413283355046}, {\"score\": -6.0, \"count\": 0.849463266721013}, {\"score\": -5.0, \"count\": 0.9481068946164141}, {\"score\": -4.0, \"count\": 1.0}, {\"score\": -3.0, \"count\": 0.9962109957310213}, {\"score\": -2.0, \"count\": 0.9362903819732789}, {\"score\": -1.0, \"count\": 0.8286846923719624}, {\"score\": 0.0, \"count\": 0.6892457799076113}, {\"score\": 1.0, \"count\": 0.5373275330077634}, {\"score\": 2.0, \"count\": 0.3913111935617402}, {\"score\": 3.0, \"count\": 0.2650245955136361}, {\"score\": -14.0, \"count\": 0.037125639013538325}, {\"score\": -15.0, \"count\": 0.017334948485287133}, {\"score\": -16.0, \"count\": 0.007072638665620373}, {\"score\": 4.0, \"count\": 0.1659187700465499}, {\"score\": 5.0, \"count\": 0.09523047659680373}, {\"score\": 6.0, \"count\": 0.0495618011483832}, {\"score\": 7.0, \"count\": 0.023051469001018357}, {\"score\": 8.0, \"count\": 0.009388705618240043}, {\"score\": -17.0, \"count\": 0.002402411553923473}, {\"score\": -18.0, \"count\": 0.0006120308504181365}, {\"score\": -19.0, \"count\": 9.396324259531555e-05}, {\"score\": -20.0, \"count\": 0.0}, {\"score\": 9.0, \"count\": 0.0032480807372813132}, {\"score\": 10.0, \"count\": 0.0009066183136899365}, {\"score\": 11.0, \"count\": 0.0001828473909962897}, {\"score\": 12.0, \"count\": 1.5237282583024143e-05}]}}, {\"mode\": \"vega-lite\"});\n</script>",
      "text/plain": "alt.LayerChart(...)"
     },
     "metadata": {},
     "output_type": "display_data"
    },
    {
     "data": {
      "text/html": "\n<div id=\"altair-viz-888e82c4fa1746d7a17561e55fb568ff\"></div>\n<script type=\"text/javascript\">\n  var VEGA_DEBUG = (typeof VEGA_DEBUG == \"undefined\") ? {} : VEGA_DEBUG;\n  (function(spec, embedOpt){\n    let outputDiv = document.currentScript.previousElementSibling;\n    if (outputDiv.id !== \"altair-viz-888e82c4fa1746d7a17561e55fb568ff\") {\n      outputDiv = document.getElementById(\"altair-viz-888e82c4fa1746d7a17561e55fb568ff\");\n    }\n    const paths = {\n      \"vega\": \"https://cdn.jsdelivr.net/npm//vega@5?noext\",\n      \"vega-lib\": \"https://cdn.jsdelivr.net/npm//vega-lib?noext\",\n      \"vega-lite\": \"https://cdn.jsdelivr.net/npm//vega-lite@4.17.0?noext\",\n      \"vega-embed\": \"https://cdn.jsdelivr.net/npm//vega-embed@6?noext\",\n    };\n\n    function maybeLoadScript(lib, version) {\n      var key = `${lib.replace(\"-\", \"\")}_version`;\n      return (VEGA_DEBUG[key] == version) ?\n        Promise.resolve(paths[lib]) :\n        new Promise(function(resolve, reject) {\n          var s = document.createElement('script');\n          document.getElementsByTagName(\"head\")[0].appendChild(s);\n          s.async = true;\n          s.onload = () => {\n            VEGA_DEBUG[key] = version;\n            return resolve(paths[lib]);\n          };\n          s.onerror = () => reject(`Error loading script: ${paths[lib]}`);\n          s.src = paths[lib];\n        });\n    }\n\n    function showError(err) {\n      outputDiv.innerHTML = `<div class=\"error\" style=\"color:red;\">${err}</div>`;\n      throw err;\n    }\n\n    function displayChart(vegaEmbed) {\n      vegaEmbed(outputDiv, spec, embedOpt)\n        .catch(err => showError(`Javascript Error: ${err.message}<br>This usually means there's a typo in your chart specification. See the javascript console for the full traceback.`));\n    }\n\n    if(typeof define === \"function\" && define.amd) {\n      requirejs.config({paths});\n      require([\"vega-embed\"], displayChart, err => showError(`Error loading script: ${err.message}`));\n    } else {\n      maybeLoadScript(\"vega\", \"5\")\n        .then(() => maybeLoadScript(\"vega-lite\", \"4.17.0\"))\n        .then(() => maybeLoadScript(\"vega-embed\", \"6\"))\n        .catch(showError)\n        .then(() => displayChart(vegaEmbed));\n    }\n  })({\"config\": {\"view\": {\"continuousWidth\": 400, \"continuousHeight\": 300}}, \"layer\": [{\"data\": {\"name\": \"data-35c8cc2a64f839ad72de01e98bcdb406\"}, \"mark\": \"bar\", \"encoding\": {\"x\": {\"field\": \"score\", \"title\": \"Score\", \"type\": \"quantitative\"}, \"y\": {\"field\": \"count\", \"title\": \"Count\", \"type\": \"quantitative\"}}}, {\"data\": {\"name\": \"data-188587fe9b0bf5ec3f1d0bad28221145\"}, \"mark\": \"bar\", \"encoding\": {\"color\": {\"value\": \"red\"}, \"opacity\": {\"value\": 0.5}, \"x\": {\"field\": \"score\", \"title\": \"Score\", \"type\": \"quantitative\"}, \"y\": {\"field\": \"count\", \"title\": \"Count\", \"type\": \"quantitative\"}}}], \"title\": \"Risk\", \"$schema\": \"https://vega.github.io/schema/vega-lite/v4.17.0.json\", \"datasets\": {\"data-35c8cc2a64f839ad72de01e98bcdb406\": [{\"score\": -42.0, \"count\": 127008}, {\"score\": -38.0, \"count\": 1734554}, {\"score\": -37.0, \"count\": 2993191}, {\"score\": -41.0, \"count\": 262690}, {\"score\": -40.0, \"count\": 515775}, {\"score\": -36.0, \"count\": 4980389}, {\"score\": -35.0, \"count\": 8010455}, {\"score\": -39.0, \"count\": 966346}, {\"score\": -34.0, \"count\": 12481524}, {\"score\": -33.0, \"count\": 18876296}, {\"score\": -32.0, \"count\": 27753523}, {\"score\": -31.0, \"count\": 39728529}, {\"score\": -30.0, \"count\": 55439785}, {\"score\": -29.0, \"count\": 75503035}, {\"score\": -28.0, \"count\": 100453817}, {\"score\": -27.0, \"count\": 130680659}, {\"score\": -26.0, \"count\": 166357462}, {\"score\": -25.0, \"count\": 207379095}, {\"score\": -24.0, \"count\": 253308384}, {\"score\": -23.0, \"count\": 303345183}, {\"score\": -22.0, \"count\": 356319197}, {\"score\": -21.0, \"count\": 410715326}, {\"score\": -20.0, \"count\": 464732989}, {\"score\": -19.0, \"count\": 516372914}, {\"score\": -18.0, \"count\": 563553433}, {\"score\": -17.0, \"count\": 604242447}, {\"score\": -16.0, \"count\": 636593699}, {\"score\": -15.0, \"count\": 659081067}, {\"score\": -14.0, \"count\": 670610002}, {\"score\": -13.0, \"count\": 670600915}, {\"score\": -12.0, \"count\": 659036510}, {\"score\": -11.0, \"count\": 636461921}, {\"score\": -10.0, \"count\": 603946223}, {\"score\": -9.0, \"count\": 563002796}, {\"score\": -8.0, \"count\": 515476485}, {\"score\": -7.0, \"count\": 463414752}, {\"score\": -6.0, \"count\": 408925913}, {\"score\": -5.0, \"count\": 354043759}, {\"score\": -4.0, \"count\": 300609995}, {\"score\": -40.5, \"count\": 84710}, {\"score\": -36.5, \"count\": 1050643}, {\"score\": -35.5, \"count\": 1771674}, {\"score\": -39.5, \"count\": 170874}, {\"score\": -38.5, \"count\": 327502}, {\"score\": -34.5, \"count\": 2881213}, {\"score\": -33.5, \"count\": 4530041}, {\"score\": -37.5, \"count\": 599201}, {\"score\": -32.5, \"count\": 6900840}, {\"score\": -31.5, \"count\": 10203782}, {\"score\": -30.5, \"count\": 14668528}, {\"score\": -29.5, \"count\": 20529960}, {\"score\": -28.5, \"count\": 28008985}, {\"score\": -27.5, \"count\": 37290268}, {\"score\": -26.5, \"count\": 48495021}, {\"score\": -25.5, \"count\": 61655678}, {\"score\": -24.5, \"count\": 76692799}, {\"score\": -23.5, \"count\": 93396028}, {\"score\": -22.5, \"count\": 111417335}, {\"score\": -21.5, \"count\": 130272170}, {\"score\": -20.5, \"count\": 149354228}, {\"score\": -19.5, \"count\": 167965070}, {\"score\": -18.5, \"count\": 185350584}, {\"score\": -17.5, \"count\": 200750160}, {\"score\": -16.5, \"count\": 213449045}, {\"score\": -15.5, \"count\": 222828332}, {\"score\": -14.5, \"count\": 228414783}, {\"score\": -13.5, \"count\": 229916124}, {\"score\": -12.5, \"count\": 227244833}, {\"score\": -11.5, \"count\": 220527750}, {\"score\": -10.5, \"count\": 210093977}, {\"score\": -9.5, \"count\": 196451820}, {\"score\": -8.5, \"count\": 180249570}, {\"score\": -7.5, \"count\": 162225476}, {\"score\": -6.5, \"count\": 143157032}, {\"score\": -3.0, \"count\": 250177912}, {\"score\": -2.0, \"count\": 203951217}, {\"score\": -1.0, \"count\": 162754805}, {\"score\": 0.0, \"count\": 127036792}, {\"score\": 1.0, \"count\": 96901744}, {\"score\": -5.5, \"count\": 123805900}, {\"score\": -4.5, \"count\": 104870443}, {\"score\": -3.5, \"count\": 86947840}, {\"score\": -2.5, \"count\": 70505123}, {\"score\": -1.5, \"count\": 55866889}, {\"score\": 2.0, \"count\": 72162572}, {\"score\": -0.5, \"count\": 43213885}, {\"score\": 3.0, \"count\": 52407141}, {\"score\": 4.0, \"count\": 37070966}, {\"score\": 0.5, \"count\": 32593080}, {\"score\": 1.5, \"count\": 23938589}, {\"score\": 5.0, \"count\": 25506008}, {\"score\": 6.0, \"count\": 17043015}, {\"score\": 7.0, \"count\": 11040711}, {\"score\": 8.0, \"count\": 6920590}, {\"score\": 9.0, \"count\": 4188283}, {\"score\": 2.5, \"count\": 17096266}, {\"score\": 3.5, \"count\": 11852421}, {\"score\": 4.5, \"count\": 7961640}, {\"score\": 5.5, \"count\": 5170737}, {\"score\": 6.5, \"count\": 3239005}, {\"score\": 10.0, \"count\": 2441124}, {\"score\": 7.5, \"count\": 1951589}, {\"score\": 11.0, \"count\": 1366310}, {\"score\": 12.0, \"count\": 731989}, {\"score\": 8.5, \"count\": 1127482}, {\"score\": 9.5, \"count\": 622371}, {\"score\": 13.0, \"count\": 373936}, {\"score\": 10.5, \"count\": 326907}, {\"score\": 14.0, \"count\": 181325}, {\"score\": 15.0, \"count\": 83012}, {\"score\": 11.5, \"count\": 162628}, {\"score\": 12.5, \"count\": 76200}, {\"score\": -45.0, \"count\": 9829}, {\"score\": -44.0, \"count\": 24773}, {\"score\": -43.0, \"count\": 57934}, {\"score\": -43.5, \"count\": 7106}, {\"score\": -42.5, \"count\": 17399}, {\"score\": -41.5, \"count\": 39643}, {\"score\": -48.0, \"count\": 336}, {\"score\": -47.0, \"count\": 1161}, {\"score\": -46.0, \"count\": 3559}, {\"score\": -46.5, \"count\": 268}, {\"score\": -45.5, \"count\": 892}, {\"score\": -44.5, \"count\": 2655}, {\"score\": -51.0, \"count\": 1}, {\"score\": -50.0, \"count\": 13}, {\"score\": -49.0, \"count\": 80}, {\"score\": -49.5, \"count\": 1}, {\"score\": -48.5, \"count\": 12}, {\"score\": -47.5, \"count\": 68}, {\"score\": 16.0, \"count\": 35664}, {\"score\": 17.0, \"count\": 14263}, {\"score\": 13.5, \"count\": 33418}, {\"score\": 14.5, \"count\": 13611}, {\"score\": 18.0, \"count\": 5246}, {\"score\": 19.0, \"count\": 1758}, {\"score\": 15.5, \"count\": 5086}, {\"score\": 16.5, \"count\": 1726}, {\"score\": 20.0, \"count\": 524}, {\"score\": 21.0, \"count\": 132}, {\"score\": 17.5, \"count\": 520}, {\"score\": 18.5, \"count\": 132}, {\"score\": 22.0, \"count\": 28}, {\"score\": 23.0, \"count\": 4}, {\"score\": 19.5, \"count\": 28}, {\"score\": 20.5, \"count\": 4}], \"data-188587fe9b0bf5ec3f1d0bad28221145\": [{\"score\": -50.0, \"count\": 50256}, {\"score\": -46.0, \"count\": 1168993}, {\"score\": -45.0, \"count\": 2172642}, {\"score\": -52.0, \"count\": 5626}, {\"score\": -51.0, \"count\": 18087}, {\"score\": -47.0, \"count\": 594153}, {\"score\": -53.0, \"count\": 1433}, {\"score\": -48.0, \"count\": 282874}, {\"score\": -43.0, \"count\": 6488219}, {\"score\": -42.0, \"count\": 10526684}, {\"score\": -49.0, \"count\": 124785}, {\"score\": -44.0, \"count\": 3839897}, {\"score\": -41.0, \"count\": 16457792}, {\"score\": -40.0, \"count\": 24869121}, {\"score\": -39.0, \"count\": 36412318}, {\"score\": -38.0, \"count\": 51767584}, {\"score\": -37.0, \"count\": 71593678}, {\"score\": -36.0, \"count\": 96465873}, {\"score\": -35.0, \"count\": 126806086}, {\"score\": -34.0, \"count\": 162811103}, {\"score\": -33.0, \"count\": 204385802}, {\"score\": -32.0, \"count\": 251089096}, {\"score\": -31.0, \"count\": 302100933}, {\"score\": -30.0, \"count\": 356216898}, {\"score\": -29.0, \"count\": 411874737}, {\"score\": -28.0, \"count\": 467214526}, {\"score\": -27.0, \"count\": 520170335}, {\"score\": -26.0, \"count\": 568589079}, {\"score\": -25.0, \"count\": 610367912}, {\"score\": -24.0, \"count\": 643597911}, {\"score\": -23.0, \"count\": 666701093}, {\"score\": -22.0, \"count\": 678547010}, {\"score\": -21.0, \"count\": 678538475}, {\"score\": -20.0, \"count\": 666658243}, {\"score\": -19.0, \"count\": 643471103}, {\"score\": -18.0, \"count\": 610081806}, {\"score\": -17.0, \"count\": 568052726}, {\"score\": -16.0, \"count\": 519289689}, {\"score\": -15.0, \"count\": 465907264}, {\"score\": -48.5, \"count\": 36392}, {\"score\": -44.5, \"count\": 743309}, {\"score\": -43.5, \"count\": 1342131}, {\"score\": -50.5, \"count\": 4433}, {\"score\": -49.5, \"count\": 13622}, {\"score\": -45.5, \"count\": 389292}, {\"score\": -51.5, \"count\": 1191}, {\"score\": -46.5, \"count\": 191239}, {\"score\": -41.5, \"count\": 3792400}, {\"score\": -40.5, \"count\": 5990975}, {\"score\": -47.5, \"count\": 87202}, {\"score\": -42.5, \"count\": 2306527}, {\"score\": -39.5, \"count\": 9124686}, {\"score\": -38.5, \"count\": 13437908}, {\"score\": -37.5, \"count\": 19182010}, {\"score\": -36.5, \"count\": 26594599}, {\"score\": -35.5, \"count\": 35874393}, {\"score\": -34.5, \"count\": 47153572}, {\"score\": -33.5, \"count\": 60470504}, {\"score\": -32.5, \"count\": 75746000}, {\"score\": -31.5, \"count\": 92765409}, {\"score\": -30.5, \"count\": 111170115}, {\"score\": -29.5, \"count\": 130460314}, {\"score\": -28.5, \"count\": 150010584}, {\"score\": -27.5, \"count\": 169098744}, {\"score\": -26.5, \"count\": 186945667}, {\"score\": -25.5, \"count\": 202764354}, {\"score\": -24.5, \"count\": 215814141}, {\"score\": -23.5, \"count\": 225455027}, {\"score\": -22.5, \"count\": 231197217}, {\"score\": -21.5, \"count\": 232739522}, {\"score\": -20.5, \"count\": 229993347}, {\"score\": -19.5, \"count\": 223090101}, {\"score\": -18.5, \"count\": 212370925}, {\"score\": -17.5, \"count\": 198360656}, {\"score\": -14.0, \"count\": 410084730}, {\"score\": -13.0, \"count\": 353925810}, {\"score\": -12.0, \"count\": 299334067}, {\"score\": -11.0, \"count\": 247913936}, {\"score\": -10.0, \"count\": 200904919}, {\"score\": -16.5, \"count\": 181727803}, {\"score\": -15.5, \"count\": 163234822}, {\"score\": -14.5, \"count\": 143683942}, {\"score\": -13.5, \"count\": 123862666}, {\"score\": -12.5, \"count\": 104494261}, {\"score\": -9.0, \"count\": 159150908}, {\"score\": -11.5, \"count\": 86196727}, {\"score\": -8.0, \"count\": 123103612}, {\"score\": -7.0, \"count\": 92855749}, {\"score\": -10.5, \"count\": 69453398}, {\"score\": -9.5, \"count\": 54597872}, {\"score\": -6.0, \"count\": 68196512}, {\"score\": -5.0, \"count\": 48681332}, {\"score\": -4.0, \"count\": 33706930}, {\"score\": -3.0, \"count\": 22584048}, {\"score\": -2.0, \"count\": 14602223}, {\"score\": -8.5, \"count\": 41812786}, {\"score\": -7.5, \"count\": 31141395}, {\"score\": -6.5, \"count\": 22508819}, {\"score\": -5.5, \"count\": 15749058}, {\"score\": -4.5, \"count\": 10634668}, {\"score\": -1.0, \"count\": 9082127}, {\"score\": -3.5, \"count\": 6905269}, {\"score\": 0.0, \"count\": 5413667}, {\"score\": 1.0, \"count\": 3079132}, {\"score\": -2.5, \"count\": 4292842}, {\"score\": -1.5, \"count\": 2542148}, {\"score\": 2.0, \"count\": 1662375}, {\"score\": -0.5, \"count\": 1425407}, {\"score\": 3.0, \"count\": 846573}, {\"score\": 4.0, \"count\": 403550}, {\"score\": 0.5, \"count\": 751451}, {\"score\": 1.5, \"count\": 369374}, {\"score\": -54.0, \"count\": 274}, {\"score\": -52.5, \"count\": 242}, {\"score\": -55.0, \"count\": 34}, {\"score\": -53.5, \"count\": 32}, {\"score\": -56.0, \"count\": 2}, {\"score\": -54.5, \"count\": 2}, {\"score\": 5.0, \"count\": 178362}, {\"score\": 6.0, \"count\": 72226}, {\"score\": 2.5, \"count\": 167610}, {\"score\": 3.5, \"count\": 69358}, {\"score\": 7.0, \"count\": 26380}, {\"score\": 8.0, \"count\": 8508}, {\"score\": 4.5, \"count\": 25764}, {\"score\": 5.5, \"count\": 8412}, {\"score\": 9.0, \"count\": 2348}, {\"score\": 10.0, \"count\": 528}, {\"score\": 6.5, \"count\": 2340}, {\"score\": 7.5, \"count\": 528}, {\"score\": 11.0, \"count\": 88}, {\"score\": 12.0, \"count\": 8}, {\"score\": 8.5, \"count\": 88}, {\"score\": 9.5, \"count\": 8}]}}, {\"mode\": \"vega-lite\"});\n</script>",
      "text/plain": "alt.LayerChart(...)"
     },
     "metadata": {},
     "output_type": "display_data"
    },
    {
     "data": {
      "text/html": "\n<div id=\"altair-viz-7eba7e5362774484b7c3f4e5588f8b23\"></div>\n<script type=\"text/javascript\">\n  var VEGA_DEBUG = (typeof VEGA_DEBUG == \"undefined\") ? {} : VEGA_DEBUG;\n  (function(spec, embedOpt){\n    let outputDiv = document.currentScript.previousElementSibling;\n    if (outputDiv.id !== \"altair-viz-7eba7e5362774484b7c3f4e5588f8b23\") {\n      outputDiv = document.getElementById(\"altair-viz-7eba7e5362774484b7c3f4e5588f8b23\");\n    }\n    const paths = {\n      \"vega\": \"https://cdn.jsdelivr.net/npm//vega@5?noext\",\n      \"vega-lib\": \"https://cdn.jsdelivr.net/npm//vega-lib?noext\",\n      \"vega-lite\": \"https://cdn.jsdelivr.net/npm//vega-lite@4.17.0?noext\",\n      \"vega-embed\": \"https://cdn.jsdelivr.net/npm//vega-embed@6?noext\",\n    };\n\n    function maybeLoadScript(lib, version) {\n      var key = `${lib.replace(\"-\", \"\")}_version`;\n      return (VEGA_DEBUG[key] == version) ?\n        Promise.resolve(paths[lib]) :\n        new Promise(function(resolve, reject) {\n          var s = document.createElement('script');\n          document.getElementsByTagName(\"head\")[0].appendChild(s);\n          s.async = true;\n          s.onload = () => {\n            VEGA_DEBUG[key] = version;\n            return resolve(paths[lib]);\n          };\n          s.onerror = () => reject(`Error loading script: ${paths[lib]}`);\n          s.src = paths[lib];\n        });\n    }\n\n    function showError(err) {\n      outputDiv.innerHTML = `<div class=\"error\" style=\"color:red;\">${err}</div>`;\n      throw err;\n    }\n\n    function displayChart(vegaEmbed) {\n      vegaEmbed(outputDiv, spec, embedOpt)\n        .catch(err => showError(`Javascript Error: ${err.message}<br>This usually means there's a typo in your chart specification. See the javascript console for the full traceback.`));\n    }\n\n    if(typeof define === \"function\" && define.amd) {\n      requirejs.config({paths});\n      require([\"vega-embed\"], displayChart, err => showError(`Error loading script: ${err.message}`));\n    } else {\n      maybeLoadScript(\"vega\", \"5\")\n        .then(() => maybeLoadScript(\"vega-lite\", \"4.17.0\"))\n        .then(() => maybeLoadScript(\"vega-embed\", \"6\"))\n        .catch(showError)\n        .then(() => displayChart(vegaEmbed));\n    }\n  })({\"config\": {\"view\": {\"continuousWidth\": 400, \"continuousHeight\": 300}}, \"layer\": [{\"data\": {\"name\": \"data-62ff427770827efa577fa9bb6eec8dbf\"}, \"mark\": \"bar\", \"encoding\": {\"x\": {\"field\": \"score\", \"title\": \"Score\", \"type\": \"quantitative\"}, \"y\": {\"field\": \"count\", \"title\": \"Normalized count\", \"type\": \"quantitative\"}}}, {\"data\": {\"name\": \"data-b85005f50b8fcab903d86bb59b5a7ec4\"}, \"mark\": \"bar\", \"encoding\": {\"color\": {\"value\": \"red\"}, \"opacity\": {\"value\": 0.5}, \"x\": {\"field\": \"score\", \"title\": \"Score\", \"type\": \"quantitative\"}, \"y\": {\"field\": \"count\", \"title\": \"Normalized count\", \"type\": \"quantitative\"}}}], \"title\": \"Risk (normalized)\", \"$schema\": \"https://vega.github.io/schema/vega-lite/v4.17.0.json\", \"datasets\": {\"data-62ff427770827efa577fa9bb6eec8dbf\": [{\"score\": -42.0, \"count\": 0.0001893902563496067}, {\"score\": -38.0, \"count\": 0.0025865301701636866}, {\"score\": -37.0, \"count\": 0.004463384076492471}, {\"score\": -41.0, \"count\": 0.0003917164963365943}, {\"score\": -40.0, \"count\": 0.0007691117031223637}, {\"score\": -36.0, \"count\": 0.0074266533343871205}, {\"score\": -35.0, \"count\": 0.011945026152391068}, {\"score\": -39.0, \"count\": 0.0014409940182207334}, {\"score\": -34.0, \"count\": 0.01861219334842577}, {\"score\": -33.0, \"count\": 0.028147947349207517}, {\"score\": -32.0, \"count\": 0.04138548777771658}, {\"score\": -31.0, \"count\": 0.05924237327322531}, {\"score\": -30.0, \"count\": 0.08267067881082793}, {\"score\": -29.0, \"count\": 0.11258858932525821}, {\"score\": -28.0, \"count\": 0.1497946881946367}, {\"score\": -27.0, \"count\": 0.194868340473795}, {\"score\": -26.0, \"count\": 0.2480688637985284}, {\"score\": -25.0, \"count\": 0.3092394889589486}, {\"score\": -24.0, \"count\": 0.37772831097399634}, {\"score\": -23.0, \"count\": 0.4523421683954278}, {\"score\": -22.0, \"count\": 0.5313359411113227}, {\"score\": -21.0, \"count\": 0.612450342803641}, {\"score\": -20.0, \"count\": 0.6930003836909674}, {\"score\": -19.0, \"count\": 0.7700047900120714}, {\"score\": -18.0, \"count\": 0.8403594207656322}, {\"score\": -17.0, \"count\": 0.9010340512353916}, {\"score\": -16.0, \"count\": 0.9492755805173266}, {\"score\": -15.0, \"count\": 0.9828082865110745}, {\"score\": -14.0, \"count\": 1.0}, {\"score\": -13.0, \"count\": 0.9999864496503386}, {\"score\": -12.0, \"count\": 0.9827418440185177}, {\"score\": -11.0, \"count\": 0.9490790758427714}, {\"score\": -10.0, \"count\": 0.900592328028821}, {\"score\": -9.0, \"count\": 0.839538322065674}, {\"score\": -8.0, \"count\": 0.7686680533116594}, {\"score\": -7.0, \"count\": 0.6910346554763057}, {\"score\": -6.0, \"count\": 0.6097820065167803}, {\"score\": -5.0, \"count\": 0.5279428542253428}, {\"score\": -4.0, \"count\": 0.4482635116561586}, {\"score\": -40.5, \"count\": 0.00012631633866730835}, {\"score\": -36.5, \"count\": 0.0015666959908639956}, {\"score\": -35.5, \"count\": 0.002641882759514647}, {\"score\": -39.5, \"count\": 0.0002548023437544887}, {\"score\": -38.5, \"count\": 0.0004883628331096124}, {\"score\": -34.5, \"count\": 0.004296404759403521}, {\"score\": -33.5, \"count\": 0.0067551035523551635}, {\"score\": -37.5, \"count\": 0.0008935148582730427}, {\"score\": -32.5, \"count\": 0.010290390822847273}, {\"score\": -31.5, \"count\": 0.015215670784486258}, {\"score\": -30.5, \"count\": 0.021873409251467454}, {\"score\": -29.5, \"count\": 0.03061385748704335}, {\"score\": -28.5, \"count\": 0.04176642751857797}, {\"score\": -27.5, \"count\": 0.055606488039834645}, {\"score\": -26.5, \"count\": 0.07231478792097525}, {\"score\": -25.5, \"count\": 0.09193969208341705}, {\"score\": -24.5, \"count\": 0.11436274121417404}, {\"score\": -23.5, \"count\": 0.13927025672258056}, {\"score\": -22.5, \"count\": 0.16614326334808122}, {\"score\": -21.5, \"count\": 0.1942592099815702}, {\"score\": -20.5, \"count\": 0.22271398693321903}, {\"score\": -19.5, \"count\": 0.25046609616548204}, {\"score\": -18.5, \"count\": 0.2763910211950448}, {\"score\": -17.5, \"count\": 0.2993545558530971}, {\"score\": -16.5, \"count\": 0.3182908749969567}, {\"score\": -15.5, \"count\": 0.3322770770905935}, {\"score\": -14.5, \"count\": 0.340607479249329}, {\"score\": -13.5, \"count\": 0.34284624842628914}, {\"score\": -12.5, \"count\": 0.3388628735943948}, {\"score\": -11.5, \"count\": 0.32884649598299087}, {\"score\": -10.5, \"count\": 0.3132878658038385}, {\"score\": -9.5, \"count\": 0.2929449586302844}, {\"score\": -8.5, \"count\": 0.2687844928217824}, {\"score\": -7.5, \"count\": 0.24190733027854144}, {\"score\": -6.5, \"count\": 0.2134728542469202}, {\"score\": -3.0, \"count\": 0.37306021477004486}, {\"score\": -2.0, \"count\": 0.3041279069740566}, {\"score\": -1.0, \"count\": 0.24269665492209086}, {\"score\": 0.0, \"count\": 0.18943468008315612}, {\"score\": 1.0, \"count\": 0.14449790915062719}, {\"score\": -5.5, \"count\": 0.18461683961674172}, {\"score\": -4.5, \"count\": 0.15638067109589676}, {\"score\": -3.5, \"count\": 0.12965484986854528}, {\"score\": -2.5, \"count\": 0.10513580455833375}, {\"score\": -1.5, \"count\": 0.08330756761261006}, {\"score\": 2.0, \"count\": 0.10760735881122059}, {\"score\": -0.5, \"count\": 0.06443966528319044}, {\"score\": 3.0, \"count\": 0.07814846173163469}, {\"score\": 4.0, \"count\": 0.05527946935584099}, {\"score\": 0.5, \"count\": 0.0486021367879958}, {\"score\": 1.5, \"count\": 0.035696735754467225}, {\"score\": 5.0, \"count\": 0.03803403910166261}, {\"score\": 6.0, \"count\": 0.02541419599258258}, {\"score\": 7.0, \"count\": 0.01646368229453232}, {\"score\": 8.0, \"count\": 0.01031984162133007}, {\"score\": 9.0, \"count\": 0.006245480970690147}, {\"score\": 2.5, \"count\": 0.025493602801190552}, {\"score\": 3.5, \"count\": 0.017674087744480267}, {\"score\": 4.5, \"count\": 0.01187223421679928}, {\"score\": 5.5, \"count\": 0.0077104964022151525}, {\"score\": 6.5, \"count\": 0.004829936915897561}, {\"score\": 10.0, \"count\": 0.0036401529896062496}, {\"score\": 7.5, \"count\": 0.002910168349845412}, {\"score\": 11.0, \"count\": 0.0020374122037586494}, {\"score\": 12.0, \"count\": 0.0010915256242950066}, {\"score\": 8.5, \"count\": 0.0016812767455282852}, {\"score\": 9.5, \"count\": 0.0009280654912272923}, {\"score\": 13.0, \"count\": 0.0005576042699070932}, {\"score\": 10.5, \"count\": 0.0004874755812059534}, {\"score\": 14.0, \"count\": 0.0002703866624858164}, {\"score\": 15.0, \"count\": 0.00012378431558762273}, {\"score\": 11.5, \"count\": 0.00024250607619554423}, {\"score\": 12.5, \"count\": 0.00011362639967547994}, {\"score\": -45.0, \"count\": 1.4655313796908316e-05}, {\"score\": -44.0, \"count\": 3.693950278561384e-05}, {\"score\": -43.0, \"count\": 8.638851182298428e-05}, {\"score\": -43.5, \"count\": 1.0594831555457222e-05}, {\"score\": -42.5, \"count\": 2.5943543898922556e-05}, {\"score\": -41.5, \"count\": 5.911334447873825e-05}, {\"score\": -48.0, \"count\": 4.995451894550556e-07}, {\"score\": -47.0, \"count\": 1.7297684172175058e-06}, {\"score\": -46.0, \"count\": 5.305617265913694e-06}, {\"score\": -46.5, \"count\": 3.981449718940294e-07}, {\"score\": -45.5, \"count\": 1.3286410859834463e-06}, {\"score\": -44.5, \"count\": 3.957590844220052e-06}, {\"score\": -51.0, \"count\": 0.0}, {\"score\": -50.0, \"count\": 1.7894156040181094e-08}, {\"score\": -49.0, \"count\": 1.1780319393119221e-07}, {\"score\": -49.5, \"count\": 0.0}, {\"score\": -48.5, \"count\": 1.6402976370166005e-08}, {\"score\": -47.5, \"count\": 9.990903789101111e-08}, {\"score\": 16.0, \"count\": 5.31799405717482e-05}, {\"score\": 17.0, \"count\": 2.126720445375523e-05}, {\"score\": 13.5, \"count\": 4.9830751032894304e-05}, {\"score\": 14.5, \"count\": 2.0294955308905392e-05}, {\"score\": 18.0, \"count\": 7.821237369229153e-06}, {\"score\": 19.0, \"count\": 2.6200026802165155e-06}, {\"score\": 15.5, \"count\": 7.582648622026739e-06}, {\"score\": 16.5, \"count\": 2.572284930776032e-06}, {\"score\": 20.0, \"count\": 7.798869674178927e-07}, {\"score\": 21.0, \"count\": 1.9534453677197695e-07}, {\"score\": 17.5, \"count\": 7.739222487378323e-07}, {\"score\": 18.5, \"count\": 1.9534453677197695e-07}, {\"score\": 22.0, \"count\": 4.026185109040746e-08}, {\"score\": 23.0, \"count\": 4.4735390100452734e-09}, {\"score\": 19.5, \"count\": 4.026185109040746e-08}, {\"score\": 20.5, \"count\": 4.4735390100452734e-09}], \"data-b85005f50b8fcab903d86bb59b5a7ec4\": [{\"score\": -50.0, \"count\": 7.406119164554624e-05}, {\"score\": -46.0, \"count\": 0.0017227855789174742}, {\"score\": -45.0, \"count\": 0.003201900493826951}, {\"score\": -52.0, \"count\": 8.288298281023442e-06}, {\"score\": -51.0, \"count\": 2.6652538124521507e-05}, {\"score\": -47.0, \"count\": 0.0008756224594538334}, {\"score\": -53.0, \"count\": 2.108918001448177e-06}, {\"score\": -48.0, \"count\": 0.0004168790027293142}, {\"score\": -43.0, \"count\": 0.009561927064012639}, {\"score\": -42.0, \"count\": 0.01551356335801572}, {\"score\": -49.0, \"count\": 0.00018389735497883146}, {\"score\": -44.0, \"count\": 0.005658996288728754}, {\"score\": -41.0, \"count\": 0.024254458137703556}, {\"score\": -40.0, \"count\": 0.036650546987600896}, {\"score\": -39.0, \"count\": 0.05366218636395491}, {\"score\": -38.0, \"count\": 0.07629181381638338}, {\"score\": -37.0, \"count\": 0.10551026702043906}, {\"score\": -36.0, \"count\": 0.14216534722381385}, {\"score\": -35.0, \"count\": 0.1868788492248425}, {\"score\": -34.0, \"count\": 0.23994078388154944}, {\"score\": -33.0, \"count\": 0.30121096635945965}, {\"score\": -32.0, \"count\": 0.37003935031720014}, {\"score\": -31.0, \"count\": 0.445217394577326}, {\"score\": -30.0, \"count\": 0.5249701078926576}, {\"score\": -29.0, \"count\": 0.606995138353038}, {\"score\": -28.0, \"count\": 0.6885514466817898}, {\"score\": -27.0, \"count\": 0.7665943948867873}, {\"score\": -26.0, \"count\": 0.8379509014060821}, {\"score\": -25.0, \"count\": 0.8995219237633127}, {\"score\": -24.0, \"count\": 0.9484942110304022}, {\"score\": -23.0, \"count\": 0.9825422308840245}, {\"score\": -22.0, \"count\": 1.0}, {\"score\": -21.0, \"count\": 0.9999874216525909}, {\"score\": -20.0, \"count\": 0.9824790812429608}, {\"score\": -19.0, \"count\": 0.9483073293574967}, {\"score\": -18.0, \"count\": 0.8991002786943244}, {\"score\": -17.0, \"count\": 0.8371604580120704}, {\"score\": -16.0, \"count\": 0.7652965540745558}, {\"score\": -15.0, \"count\": 0.6866248859798966}, {\"score\": -48.5, \"count\": 5.36292984435354e-05}, {\"score\": -44.5, \"count\": 0.0010954392123706778}, {\"score\": -43.5, \"count\": 0.0019779454985084837}, {\"score\": -50.5, \"count\": 6.530129744526116e-06}, {\"score\": -49.5, \"count\": 2.007230131357384e-05}, {\"score\": -45.5, \"count\": 0.0005737111731542703}, {\"score\": -51.5, \"count\": 1.7522735875065563e-06}, {\"score\": -46.5, \"count\": 0.0002818330900369986}, {\"score\": -41.5, \"count\": 0.005588998190675096}, {\"score\": -40.5, \"count\": 0.008829120060020956}, {\"score\": -47.5, \"count\": 0.00012850988799879875}, {\"score\": -42.5, \"count\": 0.003399211805234281}, {\"score\": -39.5, \"count\": 0.013447386684225127}, {\"score\": -38.5, \"count\": 0.019803942603192497}, {\"score\": -37.5, \"count\": 0.028269239675138322}, {\"score\": -36.5, \"count\": 0.039193448186275105}, {\"score\": -35.5, \"count\": 0.05286942625498984}, {\"score\": -34.5, \"count\": 0.06949197247068253}, {\"score\": -33.5, \"count\": 0.08911763118407266}, {\"score\": -32.5, \"count\": 0.11162969861625269}, {\"score\": -31.5, \"count\": 0.13671183559326813}, {\"score\": -30.5, \"count\": 0.16383553635830048}, {\"score\": -29.5, \"count\": 0.1922642211400039}, {\"score\": -28.5, \"count\": 0.221076182241452}, {\"score\": -27.5, \"count\": 0.2492071146233689}, {\"score\": -26.5, \"count\": 0.27550878980517146}, {\"score\": -25.5, \"count\": 0.2988213780466629}, {\"score\": -24.5, \"count\": 0.3180533352230182}, {\"score\": -23.5, \"count\": 0.33226146802197676}, {\"score\": -22.5, \"count\": 0.34072394730830496}, {\"score\": -21.5, \"count\": 0.34299689963410757}, {\"score\": -20.5, \"count\": 0.33894975924792525}, {\"score\": -19.5, \"count\": 0.32877618848774}, {\"score\": -18.5, \"count\": 0.3129789395519669}, {\"score\": -17.5, \"count\": 0.2923314842764733}, {\"score\": -14.0, \"count\": 0.6043571383635075}, {\"score\": -13.0, \"count\": 0.5215936461693159}, {\"score\": -12.0, \"count\": 0.4411397610937517}, {\"score\": -11.0, \"count\": 0.36535999875781633}, {\"score\": -10.0, \"count\": 0.2960810594274995}, {\"score\": -16.5, \"count\": 0.2678190292749769}, {\"score\": -15.5, \"count\": 0.24056523435440452}, {\"score\": -14.5, \"count\": 0.21175237427323532}, {\"score\": -13.5, \"count\": 0.18254102153523902}, {\"score\": -12.5, \"count\": 0.15399708165834253}, {\"score\": -9.0, \"count\": 0.23454661817623107}, {\"score\": -11.5, \"count\": 0.12703132426161992}, {\"score\": -8.0, \"count\": 0.18142237538242892}, {\"score\": -7.0, \"count\": 0.1368449730162247}, {\"score\": -10.5, \"count\": 0.10235605666394744}, {\"score\": -9.5, \"count\": 0.0804629146636809}, {\"score\": -6.0, \"count\": 0.10050373694964403}, {\"score\": -5.0, \"count\": 0.07174348928821744}, {\"score\": -4.0, \"count\": 0.04967515529889419}, {\"score\": -3.0, \"count\": 0.03328294979380412}, {\"score\": -2.0, \"count\": 0.02151983698673976}, {\"score\": -8.5, \"count\": 0.061621057210527116}, {\"score\": -7.5, \"count\": 0.04589423080913504}, {\"score\": -6.5, \"count\": 0.03317208201439745}, {\"score\": -5.5, \"count\": 0.023209970443197357}, {\"score\": -4.5, \"count\": 0.015672703400970562}, {\"score\": -1.0, \"count\": 0.013384665900700575}, {\"score\": -3.5, \"count\": 0.010176549183162856}, {\"score\": 0.0, \"count\": 0.00797831975703001}, {\"score\": 1.0, \"count\": 0.004537828571487858}, {\"score\": -2.5, \"count\": 0.006326518206384899}, {\"score\": -1.5, \"count\": 0.00374645524927287}, {\"score\": 2.0, \"count\": 0.0024499010096585673}, {\"score\": -0.5, \"count\": 0.0021006724415473365}, {\"score\": 3.0, \"count\": 0.0012476232155164111}, {\"score\": 4.0, \"count\": 0.000594723718831872}, {\"score\": 0.5, \"count\": 0.0011074383810413912}, {\"score\": 1.5, \"count\": 0.0005443572746547281}, {\"score\": -54.0, \"count\": 4.0085653137239975e-07}, {\"score\": -52.5, \"count\": 3.5369693944623507e-07}, {\"score\": -55.0, \"count\": 4.7159591926164676e-08}, {\"score\": -53.5, \"count\": 4.4212117430779384e-08}, {\"score\": -56.0, \"count\": 0.0}, {\"score\": -54.5, \"count\": 0.0}, {\"score\": 5.0, \"count\": 0.00026285577549846036}, {\"score\": 6.0, \"count\": 0.00010643919897735368}, {\"score\": 2.5, \"count\": 0.00024701015261126904}, {\"score\": 3.5, \"count\": 0.00010221252055097117}, {\"score\": 7.0, \"count\": 3.887424111963662e-05}, {\"score\": 8.0, \"count\": 1.253560902887365e-05}, {\"score\": 4.5, \"count\": 3.796641897505795e-05}, {\"score\": 5.5, \"count\": 1.2394130253095155e-05}, {\"score\": 9.0, \"count\": 3.457387583086948e-06}, {\"score\": 10.0, \"count\": 7.751857922863319e-07}, {\"score\": 6.5, \"count\": 3.445597685105407e-06}, {\"score\": 7.5, \"count\": 7.751857922863319e-07}, {\"score\": 11.0, \"count\": 1.2674140330156757e-07}, {\"score\": 12.0, \"count\": 8.842423486155877e-09}, {\"score\": 8.5, \"count\": 1.2674140330156757e-07}, {\"score\": 9.5, \"count\": 8.842423486155877e-09}]}}, {\"mode\": \"vega-lite\"});\n</script>",
      "text/plain": "alt.LayerChart(...)"
     },
     "metadata": {},
     "output_type": "display_data"
    },
    {
     "data": {
      "text/html": "\n<div id=\"altair-viz-b5928bd3309f4a53b6388c2d06da7d3c\"></div>\n<script type=\"text/javascript\">\n  var VEGA_DEBUG = (typeof VEGA_DEBUG == \"undefined\") ? {} : VEGA_DEBUG;\n  (function(spec, embedOpt){\n    let outputDiv = document.currentScript.previousElementSibling;\n    if (outputDiv.id !== \"altair-viz-b5928bd3309f4a53b6388c2d06da7d3c\") {\n      outputDiv = document.getElementById(\"altair-viz-b5928bd3309f4a53b6388c2d06da7d3c\");\n    }\n    const paths = {\n      \"vega\": \"https://cdn.jsdelivr.net/npm//vega@5?noext\",\n      \"vega-lib\": \"https://cdn.jsdelivr.net/npm//vega-lib?noext\",\n      \"vega-lite\": \"https://cdn.jsdelivr.net/npm//vega-lite@4.17.0?noext\",\n      \"vega-embed\": \"https://cdn.jsdelivr.net/npm//vega-embed@6?noext\",\n    };\n\n    function maybeLoadScript(lib, version) {\n      var key = `${lib.replace(\"-\", \"\")}_version`;\n      return (VEGA_DEBUG[key] == version) ?\n        Promise.resolve(paths[lib]) :\n        new Promise(function(resolve, reject) {\n          var s = document.createElement('script');\n          document.getElementsByTagName(\"head\")[0].appendChild(s);\n          s.async = true;\n          s.onload = () => {\n            VEGA_DEBUG[key] = version;\n            return resolve(paths[lib]);\n          };\n          s.onerror = () => reject(`Error loading script: ${paths[lib]}`);\n          s.src = paths[lib];\n        });\n    }\n\n    function showError(err) {\n      outputDiv.innerHTML = `<div class=\"error\" style=\"color:red;\">${err}</div>`;\n      throw err;\n    }\n\n    function displayChart(vegaEmbed) {\n      vegaEmbed(outputDiv, spec, embedOpt)\n        .catch(err => showError(`Javascript Error: ${err.message}<br>This usually means there's a typo in your chart specification. See the javascript console for the full traceback.`));\n    }\n\n    if(typeof define === \"function\" && define.amd) {\n      requirejs.config({paths});\n      require([\"vega-embed\"], displayChart, err => showError(`Error loading script: ${err.message}`));\n    } else {\n      maybeLoadScript(\"vega\", \"5\")\n        .then(() => maybeLoadScript(\"vega-lite\", \"4.17.0\"))\n        .then(() => maybeLoadScript(\"vega-embed\", \"6\"))\n        .catch(showError)\n        .then(() => displayChart(vegaEmbed));\n    }\n  })({\"config\": {\"view\": {\"continuousWidth\": 400, \"continuousHeight\": 300}}, \"layer\": [{\"data\": {\"name\": \"data-6018a29b9a7feec79a8dac84a513362e\"}, \"mark\": \"bar\", \"encoding\": {\"x\": {\"field\": \"score\", \"title\": \"Score\", \"type\": \"quantitative\"}, \"y\": {\"field\": \"count\", \"title\": \"Count\", \"type\": \"quantitative\"}}}, {\"data\": {\"name\": \"data-9a394bfd0e737d5884d2a504c101cdb0\"}, \"mark\": \"bar\", \"encoding\": {\"color\": {\"value\": \"red\"}, \"opacity\": {\"value\": 0.5}, \"x\": {\"field\": \"score\", \"title\": \"Score\", \"type\": \"quantitative\"}, \"y\": {\"field\": \"count\", \"title\": \"Count\", \"type\": \"quantitative\"}}}], \"title\": \"Public Value\", \"$schema\": \"https://vega.github.io/schema/vega-lite/v4.17.0.json\", \"datasets\": {\"data-6018a29b9a7feec79a8dac84a513362e\": [{\"score\": -6.0, \"count\": 3235}, {\"score\": -5.0, \"count\": 9644}, {\"score\": -4.0, \"count\": 23115}, {\"score\": -3.0, \"count\": 46141}, {\"score\": -2.0, \"count\": 81285}, {\"score\": -1.0, \"count\": 131040}, {\"score\": 0.0, \"count\": 195412}, {\"score\": 1.0, \"count\": 269254}, {\"score\": 2.0, \"count\": 342889}, {\"score\": 3.0, \"count\": 404863}, {\"score\": 4.0, \"count\": 445316}, {\"score\": 5.0, \"count\": 456781}, {\"score\": 6.0, \"count\": 435358}, {\"score\": 7.0, \"count\": 382517}, {\"score\": 8.0, \"count\": 306836}, {\"score\": -8.0, \"count\": 153}, {\"score\": -7.0, \"count\": 855}, {\"score\": 9.0, \"count\": 222317}, {\"score\": 10.0, \"count\": 143966}, {\"score\": 11.0, \"count\": 82337}, {\"score\": 12.0, \"count\": 41009}, {\"score\": 13.0, \"count\": 17436}, {\"score\": 14.0, \"count\": 6147}, {\"score\": 15.0, \"count\": 1707}, {\"score\": -9.0, \"count\": 12}, {\"score\": 16.0, \"count\": 339}, {\"score\": 17.0, \"count\": 36}], \"data-9a394bfd0e737d5884d2a504c101cdb0\": [{\"score\": -10.0, \"count\": 120483}, {\"score\": -9.0, \"count\": 170318}, {\"score\": -8.0, \"count\": 226281}, {\"score\": -12.0, \"count\": 49202}, {\"score\": -11.0, \"count\": 79796}, {\"score\": -13.0, \"count\": 28059}, {\"score\": -7.0, \"count\": 283180}, {\"score\": -6.0, \"count\": 334497}, {\"score\": -5.0, \"count\": 373340}, {\"score\": -4.0, \"count\": 393774}, {\"score\": -3.0, \"count\": 392282}, {\"score\": -2.0, \"count\": 368687}, {\"score\": -1.0, \"count\": 326315}, {\"score\": 0.0, \"count\": 271408}, {\"score\": 1.0, \"count\": 211587}, {\"score\": 2.0, \"count\": 154090}, {\"score\": 3.0, \"count\": 104362}, {\"score\": -14.0, \"count\": 14622}, {\"score\": -15.0, \"count\": 6829}, {\"score\": -16.0, \"count\": 2788}, {\"score\": 4.0, \"count\": 65337}, {\"score\": 5.0, \"count\": 37502}, {\"score\": 6.0, \"count\": 19519}, {\"score\": 7.0, \"count\": 9080}, {\"score\": 8.0, \"count\": 3700}, {\"score\": -17.0, \"count\": 949}, {\"score\": -18.0, \"count\": 244}, {\"score\": -19.0, \"count\": 40}, {\"score\": -20.0, \"count\": 3}, {\"score\": 9.0, \"count\": 1282}, {\"score\": 10.0, \"count\": 360}, {\"score\": 11.0, \"count\": 75}, {\"score\": 12.0, \"count\": 9}]}}, {\"mode\": \"vega-lite\"});\n</script>",
      "text/plain": "alt.LayerChart(...)"
     },
     "metadata": {},
     "output_type": "display_data"
    },
    {
     "data": {
      "text/html": "\n<div id=\"altair-viz-0262484e42524b74ad3d636f238c0e90\"></div>\n<script type=\"text/javascript\">\n  var VEGA_DEBUG = (typeof VEGA_DEBUG == \"undefined\") ? {} : VEGA_DEBUG;\n  (function(spec, embedOpt){\n    let outputDiv = document.currentScript.previousElementSibling;\n    if (outputDiv.id !== \"altair-viz-0262484e42524b74ad3d636f238c0e90\") {\n      outputDiv = document.getElementById(\"altair-viz-0262484e42524b74ad3d636f238c0e90\");\n    }\n    const paths = {\n      \"vega\": \"https://cdn.jsdelivr.net/npm//vega@5?noext\",\n      \"vega-lib\": \"https://cdn.jsdelivr.net/npm//vega-lib?noext\",\n      \"vega-lite\": \"https://cdn.jsdelivr.net/npm//vega-lite@4.17.0?noext\",\n      \"vega-embed\": \"https://cdn.jsdelivr.net/npm//vega-embed@6?noext\",\n    };\n\n    function maybeLoadScript(lib, version) {\n      var key = `${lib.replace(\"-\", \"\")}_version`;\n      return (VEGA_DEBUG[key] == version) ?\n        Promise.resolve(paths[lib]) :\n        new Promise(function(resolve, reject) {\n          var s = document.createElement('script');\n          document.getElementsByTagName(\"head\")[0].appendChild(s);\n          s.async = true;\n          s.onload = () => {\n            VEGA_DEBUG[key] = version;\n            return resolve(paths[lib]);\n          };\n          s.onerror = () => reject(`Error loading script: ${paths[lib]}`);\n          s.src = paths[lib];\n        });\n    }\n\n    function showError(err) {\n      outputDiv.innerHTML = `<div class=\"error\" style=\"color:red;\">${err}</div>`;\n      throw err;\n    }\n\n    function displayChart(vegaEmbed) {\n      vegaEmbed(outputDiv, spec, embedOpt)\n        .catch(err => showError(`Javascript Error: ${err.message}<br>This usually means there's a typo in your chart specification. See the javascript console for the full traceback.`));\n    }\n\n    if(typeof define === \"function\" && define.amd) {\n      requirejs.config({paths});\n      require([\"vega-embed\"], displayChart, err => showError(`Error loading script: ${err.message}`));\n    } else {\n      maybeLoadScript(\"vega\", \"5\")\n        .then(() => maybeLoadScript(\"vega-lite\", \"4.17.0\"))\n        .then(() => maybeLoadScript(\"vega-embed\", \"6\"))\n        .catch(showError)\n        .then(() => displayChart(vegaEmbed));\n    }\n  })({\"config\": {\"view\": {\"continuousWidth\": 400, \"continuousHeight\": 300}}, \"layer\": [{\"data\": {\"name\": \"data-39c0767ca1eaca392114f2fa7b90bf91\"}, \"mark\": \"bar\", \"encoding\": {\"x\": {\"field\": \"score\", \"title\": \"Score\", \"type\": \"quantitative\"}, \"y\": {\"field\": \"count\", \"title\": \"Normalized count\", \"type\": \"quantitative\"}}}, {\"data\": {\"name\": \"data-c4ca32aa71ccee68e6f15f2f02686cfb\"}, \"mark\": \"bar\", \"encoding\": {\"color\": {\"value\": \"red\"}, \"opacity\": {\"value\": 0.5}, \"x\": {\"field\": \"score\", \"title\": \"Score\", \"type\": \"quantitative\"}, \"y\": {\"field\": \"count\", \"title\": \"Normalized count\", \"type\": \"quantitative\"}}}], \"title\": \"Public Value (normalized)\", \"$schema\": \"https://vega.github.io/schema/vega-lite/v4.17.0.json\", \"datasets\": {\"data-39c0767ca1eaca392114f2fa7b90bf91\": [{\"score\": -6.0, \"count\": 0.007056083052921718}, {\"score\": -5.0, \"count\": 0.021087245412889227}, {\"score\": -4.0, \"count\": 0.05057917678301286}, {\"score\": -3.0, \"count\": 0.10098977820298663}, {\"score\": -2.0, \"count\": 0.1779302010425401}, {\"score\": -1.0, \"count\": 0.2868583463413673}, {\"score\": 0.0, \"count\": 0.4277873498420427}, {\"score\": 1.0, \"count\": 0.5894489337060965}, {\"score\": 2.0, \"count\": 0.750657334451331}, {\"score\": 3.0, \"count\": 0.8863364195030748}, {\"score\": 4.0, \"count\": 0.9748997852306089}, {\"score\": 5.0, \"count\": 1.0}, {\"score\": 6.0, \"count\": 0.9530988311378399}, {\"score\": 7.0, \"count\": 0.8374145355748748}, {\"score\": 8.0, \"count\": 0.6717268466117446}, {\"score\": -8.0, \"count\": 0.0003086899505001434}, {\"score\": -7.0, \"count\": 0.0018455718317136234}, {\"score\": 9.0, \"count\": 0.486690208836414}, {\"score\": 10.0, \"count\": 0.3151571144276429}, {\"score\": 11.0, \"count\": 0.18023333457393123}, {\"score\": 12.0, \"count\": 0.08975433972095304}, {\"score\": 13.0, \"count\": 0.03814619643627304}, {\"score\": 14.0, \"count\": 0.013431296782399856}, {\"score\": 15.0, \"count\": 0.003710847277288958}, {\"score\": -9.0, \"count\": 0.0}, {\"score\": 16.0, \"count\": 0.0007158979703088432}, {\"score\": 17.0, \"count\": 5.254297029789675e-05}], \"data-c4ca32aa71ccee68e6f15f2f02686cfb\": [{\"score\": -10.0, \"count\": 0.3059646342671248}, {\"score\": -9.0, \"count\": 0.4325229638546262}, {\"score\": -8.0, \"count\": 0.5746436380535895}, {\"score\": -12.0, \"count\": 0.1249431776337008}, {\"score\": -11.0, \"count\": 0.2026380815245409}, {\"score\": -13.0, \"count\": 0.0712495333582209}, {\"score\": -7.0, \"count\": 0.7191413283355046}, {\"score\": -6.0, \"count\": 0.849463266721013}, {\"score\": -5.0, \"count\": 0.9481068946164141}, {\"score\": -4.0, \"count\": 1.0}, {\"score\": -3.0, \"count\": 0.9962109957310213}, {\"score\": -2.0, \"count\": 0.9362903819732789}, {\"score\": -1.0, \"count\": 0.8286846923719624}, {\"score\": 0.0, \"count\": 0.6892457799076113}, {\"score\": 1.0, \"count\": 0.5373275330077634}, {\"score\": 2.0, \"count\": 0.3913111935617402}, {\"score\": 3.0, \"count\": 0.2650245955136361}, {\"score\": -14.0, \"count\": 0.037125639013538325}, {\"score\": -15.0, \"count\": 0.017334948485287133}, {\"score\": -16.0, \"count\": 0.007072638665620373}, {\"score\": 4.0, \"count\": 0.1659187700465499}, {\"score\": 5.0, \"count\": 0.09523047659680373}, {\"score\": 6.0, \"count\": 0.0495618011483832}, {\"score\": 7.0, \"count\": 0.023051469001018357}, {\"score\": 8.0, \"count\": 0.009388705618240043}, {\"score\": -17.0, \"count\": 0.002402411553923473}, {\"score\": -18.0, \"count\": 0.0006120308504181365}, {\"score\": -19.0, \"count\": 9.396324259531555e-05}, {\"score\": -20.0, \"count\": 0.0}, {\"score\": 9.0, \"count\": 0.0032480807372813132}, {\"score\": 10.0, \"count\": 0.0009066183136899365}, {\"score\": 11.0, \"count\": 0.0001828473909962897}, {\"score\": 12.0, \"count\": 1.5237282583024143e-05}]}}, {\"mode\": \"vega-lite\"});\n</script>",
      "text/plain": "alt.LayerChart(...)"
     },
     "metadata": {},
     "output_type": "display_data"
    }
   ],
   "source": [
    "config = [\n",
    "    ('All questions', questions),\n",
    "    ('Risk', x_q),\n",
    "    ('Public Value', y_q),\n",
    "]\n",
    "for title, questions in config:\n",
    "    df_original = score_count_df_from_questions(questions)\n",
    "    df_original_norm = normalize_df(df_original, ['count'])\n",
    "    df_edited = score_count_df_from_questions(edited_questions(questions))\n",
    "    df_edited_norm = normalize_df(df_edited, ['count'])\n",
    "    display(chart=hist_diff(df_original, df_edited, title), name=f'{title} - diff')\n",
    "    display(chart=hist_diff(df_original_norm, df_edited_norm, f'{title} (normalized)', titleY='Normalized count'), name=f'{title} - diff - normalized')"
   ],
   "metadata": {
    "collapsed": false
   }
  },
  {
   "cell_type": "code",
   "execution_count": 11,
   "outputs": [],
   "source": [],
   "metadata": {
    "collapsed": false
   }
  }
 ],
 "metadata": {
  "kernelspec": {
   "display_name": "Python 3",
   "language": "python",
   "name": "python3"
  },
  "language_info": {
   "codemirror_mode": {
    "name": "ipython",
    "version": 2
   },
   "file_extension": ".py",
   "mimetype": "text/x-python",
   "name": "python",
   "nbconvert_exporter": "python",
   "pygments_lexer": "ipython2",
   "version": "2.7.6"
  }
 },
 "nbformat": 4,
 "nbformat_minor": 0
}
