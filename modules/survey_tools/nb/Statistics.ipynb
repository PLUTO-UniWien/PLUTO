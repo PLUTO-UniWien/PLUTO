{
 "cells": [
  {
   "cell_type": "code",
   "execution_count": 1,
   "metadata": {
    "collapsed": true
   },
   "outputs": [],
   "source": [
    "from pluto_survey_tools import QUESTIONNAIRE\n",
    "import pluto_survey_tools.stats as stats\n",
    "from IPython.display import display_markdown"
   ]
  },
  {
   "cell_type": "markdown",
   "source": [
    "## Min-max ranges\n",
    "\n",
    "### Global\n",
    "\n",
    "Overview of the possible minimum and maximum scores for each question and section of the questionnaire."
   ],
   "metadata": {
    "collapsed": false
   }
  },
  {
   "cell_type": "code",
   "execution_count": 2,
   "outputs": [
    {
     "data": {
      "text/markdown": "# Questionnaire: (-60.0, 40.0)"
     },
     "metadata": {},
     "output_type": "display_data"
    },
    {
     "data": {
      "text/markdown": "## Information About the Applicant: (-8.0, 8.0)"
     },
     "metadata": {},
     "output_type": "display_data"
    },
    {
     "data": {
      "text/markdown": "Q1: (-1.0, 1.0)"
     },
     "metadata": {},
     "output_type": "display_data"
    },
    {
     "data": {
      "text/markdown": "Q2: (-2.0, 1.0)"
     },
     "metadata": {},
     "output_type": "display_data"
    },
    {
     "data": {
      "text/markdown": "Q3: (-1.0, 2.0)"
     },
     "metadata": {},
     "output_type": "display_data"
    },
    {
     "data": {
      "text/markdown": "Q4: (-2.0, 2.0)"
     },
     "metadata": {},
     "output_type": "display_data"
    },
    {
     "data": {
      "text/markdown": "Q5: (-2.0, 2.0)"
     },
     "metadata": {},
     "output_type": "display_data"
    },
    {
     "data": {
      "text/markdown": "## Benefits of the Applicant’s Activity: (-5.0, 13.0)"
     },
     "metadata": {},
     "output_type": "display_data"
    },
    {
     "data": {
      "text/markdown": "Q1: (0.0, 4.0)"
     },
     "metadata": {},
     "output_type": "display_data"
    },
    {
     "data": {
      "text/markdown": "Q2: (-1.0, 2.0)"
     },
     "metadata": {},
     "output_type": "display_data"
    },
    {
     "data": {
      "text/markdown": "Q3: (-2.0, 2.0)"
     },
     "metadata": {},
     "output_type": "display_data"
    },
    {
     "data": {
      "text/markdown": "Q4: (-2.0, 2.0)"
     },
     "metadata": {},
     "output_type": "display_data"
    },
    {
     "data": {
      "text/markdown": "Q5: (0.0, 3.0)"
     },
     "metadata": {},
     "output_type": "display_data"
    },
    {
     "data": {
      "text/markdown": "## Risks of the Applicant’s Activity: (-34.0, 6.0)"
     },
     "metadata": {},
     "output_type": "display_data"
    },
    {
     "data": {
      "text/markdown": "Q1: (-12.0, 0.0)"
     },
     "metadata": {},
     "output_type": "display_data"
    },
    {
     "data": {
      "text/markdown": "Q2: (-4.0, 4.0)"
     },
     "metadata": {},
     "output_type": "display_data"
    },
    {
     "data": {
      "text/markdown": "Q3: (-3.0, 0.0)"
     },
     "metadata": {},
     "output_type": "display_data"
    },
    {
     "data": {
      "text/markdown": "Q4: (-5.0, 0.0)"
     },
     "metadata": {},
     "output_type": "display_data"
    },
    {
     "data": {
      "text/markdown": "Q5: (-2.0, 2.0)"
     },
     "metadata": {},
     "output_type": "display_data"
    },
    {
     "data": {
      "text/markdown": "Q6: (-4.0, 0.0)"
     },
     "metadata": {},
     "output_type": "display_data"
    },
    {
     "data": {
      "text/markdown": "Q7: (-4.0, 0.0)"
     },
     "metadata": {},
     "output_type": "display_data"
    },
    {
     "data": {
      "text/markdown": "## Institutional Safeguards: (-13.0, 13.0)"
     },
     "metadata": {},
     "output_type": "display_data"
    },
    {
     "data": {
      "text/markdown": "Q1: (-1.0, 1.0)"
     },
     "metadata": {},
     "output_type": "display_data"
    },
    {
     "data": {
      "text/markdown": "Q2: (-1.0, 2.0)"
     },
     "metadata": {},
     "output_type": "display_data"
    },
    {
     "data": {
      "text/markdown": "Q3: (-3.0, 2.0)"
     },
     "metadata": {},
     "output_type": "display_data"
    },
    {
     "data": {
      "text/markdown": "Q4: (-1.0, 2.0)"
     },
     "metadata": {},
     "output_type": "display_data"
    },
    {
     "data": {
      "text/markdown": "Q5: (-1.0, 1.0)"
     },
     "metadata": {},
     "output_type": "display_data"
    },
    {
     "data": {
      "text/markdown": "Q6: (-3.0, 0.0)"
     },
     "metadata": {},
     "output_type": "display_data"
    },
    {
     "data": {
      "text/markdown": "Q7: (-3.0, 5.0)"
     },
     "metadata": {},
     "output_type": "display_data"
    }
   ],
   "source": [
    "display_markdown(f'# Questionnaire: {stats.score_range_questionnaire(QUESTIONNAIRE)}', raw=True)\n",
    "\n",
    "for section in QUESTIONNAIRE.sections:\n",
    "    display_markdown(f'## {section.title}: {stats.score_range_section(section)}', raw=True)\n",
    "    for i, question in enumerate(section.questions):\n",
    "        display_markdown(f'Q{i+1}: {stats.score_range_question(question)}', raw=True)"
   ],
   "metadata": {
    "collapsed": false
   }
  },
  {
   "cell_type": "markdown",
   "source": [
    "### By axis"
   ],
   "metadata": {
    "collapsed": false
   }
  },
  {
   "cell_type": "code",
   "execution_count": 3,
   "outputs": [],
   "source": [
    "questions = QUESTIONNAIRE.questions\n",
    "x_q = [q for q in questions if q.impact_keys[0] == 'x']\n",
    "x_ranges = [stats.score_range_question(q) for q in x_q]\n",
    "x_min = sum([r[0] for r in x_ranges])\n",
    "x_max = sum([r[1] for r in x_ranges])\n",
    "\n",
    "y_q = [q for q in questions if q.impact_keys[0] == 'y']\n",
    "y_ranges = [stats.score_range_question(q) for q in y_q]\n",
    "y_min = sum([r[0] for r in y_ranges])\n",
    "y_max = sum([r[1] for r in y_ranges])"
   ],
   "metadata": {
    "collapsed": false
   }
  },
  {
   "cell_type": "code",
   "execution_count": 4,
   "outputs": [
    {
     "data": {
      "text/markdown": "## X ~ Risk: (-51.0, 23.0)"
     },
     "metadata": {},
     "output_type": "display_data"
    },
    {
     "data": {
      "text/markdown": "## Y ~ Public Value: (-9.0, 17.0)"
     },
     "metadata": {},
     "output_type": "display_data"
    }
   ],
   "source": [
    "display_markdown(f'## X ~ Risk: ({x_min}, {x_max})', raw=True)\n",
    "display_markdown(f'## Y ~ Public Value: ({y_min}, {y_max})', raw=True)"
   ],
   "metadata": {
    "collapsed": false
   }
  },
  {
   "cell_type": "code",
   "execution_count": 4,
   "outputs": [],
   "source": [],
   "metadata": {
    "collapsed": false
   }
  }
 ],
 "metadata": {
  "kernelspec": {
   "display_name": "Python 3",
   "language": "python",
   "name": "python3"
  },
  "language_info": {
   "codemirror_mode": {
    "name": "ipython",
    "version": 2
   },
   "file_extension": ".py",
   "mimetype": "text/x-python",
   "name": "python",
   "nbconvert_exporter": "python",
   "pygments_lexer": "ipython2",
   "version": "2.7.6"
  }
 },
 "nbformat": 4,
 "nbformat_minor": 0
}
