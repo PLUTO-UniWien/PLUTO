{
 "cells": [
  {
   "cell_type": "code",
   "execution_count": 42,
   "outputs": [],
   "source": [
    "import warnings\n",
    "\n",
    "warnings.filterwarnings('ignore')"
   ],
   "metadata": {
    "collapsed": false
   }
  },
  {
   "cell_type": "code",
   "execution_count": 43,
   "outputs": [],
   "source": [
    "from pluto_survey_tools import QUESTIONNAIRE\n",
    "from pluto_survey_tools.model import Question\n",
    "import pluto_survey_tools.stats as stats\n",
    "from IPython.display import display_markdown"
   ],
   "metadata": {
    "collapsed": false
   }
  },
  {
   "cell_type": "markdown",
   "source": [
    "## Min-max ranges\n",
    "\n",
    "### Global\n",
    "\n",
    "Overview of the possible minimum and maximum scores for each question and section of the questionnaire."
   ],
   "metadata": {
    "collapsed": false
   }
  },
  {
   "cell_type": "code",
   "execution_count": 44,
   "outputs": [
    {
     "data": {
      "text/markdown": "# Questionnaire: (-60.0, 40.0)"
     },
     "metadata": {},
     "output_type": "display_data"
    },
    {
     "data": {
      "text/markdown": "## Information About the Applicant: (-8.0, 8.0)"
     },
     "metadata": {},
     "output_type": "display_data"
    },
    {
     "data": {
      "text/markdown": "Q1: (-1.0, 1.0)"
     },
     "metadata": {},
     "output_type": "display_data"
    },
    {
     "data": {
      "text/markdown": "Q2: (-2.0, 1.0)"
     },
     "metadata": {},
     "output_type": "display_data"
    },
    {
     "data": {
      "text/markdown": "Q3: (-1.0, 2.0)"
     },
     "metadata": {},
     "output_type": "display_data"
    },
    {
     "data": {
      "text/markdown": "Q4: (-2.0, 2.0)"
     },
     "metadata": {},
     "output_type": "display_data"
    },
    {
     "data": {
      "text/markdown": "Q5: (-2.0, 2.0)"
     },
     "metadata": {},
     "output_type": "display_data"
    },
    {
     "data": {
      "text/markdown": "## Benefits of the Applicant’s Activity: (-5.0, 13.0)"
     },
     "metadata": {},
     "output_type": "display_data"
    },
    {
     "data": {
      "text/markdown": "Q1: (0.0, 4.0)"
     },
     "metadata": {},
     "output_type": "display_data"
    },
    {
     "data": {
      "text/markdown": "Q2: (-1.0, 2.0)"
     },
     "metadata": {},
     "output_type": "display_data"
    },
    {
     "data": {
      "text/markdown": "Q3: (-2.0, 2.0)"
     },
     "metadata": {},
     "output_type": "display_data"
    },
    {
     "data": {
      "text/markdown": "Q4: (-2.0, 2.0)"
     },
     "metadata": {},
     "output_type": "display_data"
    },
    {
     "data": {
      "text/markdown": "Q5: (0.0, 3.0)"
     },
     "metadata": {},
     "output_type": "display_data"
    },
    {
     "data": {
      "text/markdown": "## Risks of the Applicant’s Activity: (-34.0, 6.0)"
     },
     "metadata": {},
     "output_type": "display_data"
    },
    {
     "data": {
      "text/markdown": "Q1: (-12.0, 0.0)"
     },
     "metadata": {},
     "output_type": "display_data"
    },
    {
     "data": {
      "text/markdown": "Q2: (-4.0, 4.0)"
     },
     "metadata": {},
     "output_type": "display_data"
    },
    {
     "data": {
      "text/markdown": "Q3: (-3.0, 0.0)"
     },
     "metadata": {},
     "output_type": "display_data"
    },
    {
     "data": {
      "text/markdown": "Q4: (-5.0, 0.0)"
     },
     "metadata": {},
     "output_type": "display_data"
    },
    {
     "data": {
      "text/markdown": "Q5: (-2.0, 2.0)"
     },
     "metadata": {},
     "output_type": "display_data"
    },
    {
     "data": {
      "text/markdown": "Q6: (-4.0, 0.0)"
     },
     "metadata": {},
     "output_type": "display_data"
    },
    {
     "data": {
      "text/markdown": "Q7: (-4.0, 0.0)"
     },
     "metadata": {},
     "output_type": "display_data"
    },
    {
     "data": {
      "text/markdown": "## Institutional Safeguards: (-13.0, 13.0)"
     },
     "metadata": {},
     "output_type": "display_data"
    },
    {
     "data": {
      "text/markdown": "Q1: (-1.0, 1.0)"
     },
     "metadata": {},
     "output_type": "display_data"
    },
    {
     "data": {
      "text/markdown": "Q2: (-1.0, 2.0)"
     },
     "metadata": {},
     "output_type": "display_data"
    },
    {
     "data": {
      "text/markdown": "Q3: (-3.0, 2.0)"
     },
     "metadata": {},
     "output_type": "display_data"
    },
    {
     "data": {
      "text/markdown": "Q4: (-1.0, 2.0)"
     },
     "metadata": {},
     "output_type": "display_data"
    },
    {
     "data": {
      "text/markdown": "Q5: (-1.0, 1.0)"
     },
     "metadata": {},
     "output_type": "display_data"
    },
    {
     "data": {
      "text/markdown": "Q6: (-3.0, 0.0)"
     },
     "metadata": {},
     "output_type": "display_data"
    },
    {
     "data": {
      "text/markdown": "Q7: (-3.0, 5.0)"
     },
     "metadata": {},
     "output_type": "display_data"
    }
   ],
   "source": [
    "display_markdown(f'# Questionnaire: {stats.score_range_questionnaire(QUESTIONNAIRE)}', raw=True)\n",
    "\n",
    "for section in QUESTIONNAIRE.sections:\n",
    "    display_markdown(f'## {section.title}: {stats.score_range_section(section)}', raw=True)\n",
    "    for i, question in enumerate(section.questions):\n",
    "        display_markdown(f'Q{i+1}: {stats.score_range_question(question)}', raw=True)"
   ],
   "metadata": {
    "collapsed": false
   }
  },
  {
   "cell_type": "markdown",
   "source": [
    "### By axis"
   ],
   "metadata": {
    "collapsed": false
   }
  },
  {
   "cell_type": "code",
   "execution_count": 45,
   "outputs": [],
   "source": [
    "questions = QUESTIONNAIRE.questions\n",
    "x_q = [q for q in questions if q.impact_keys[0] == 'x']\n",
    "x_ranges = [stats.score_range_question(q) for q in x_q]\n",
    "x_min = sum([r[0] for r in x_ranges])\n",
    "x_max = sum([r[1] for r in x_ranges])\n",
    "\n",
    "y_q = [q for q in questions if q.impact_keys[0] == 'y']\n",
    "y_ranges = [stats.score_range_question(q) for q in y_q]\n",
    "y_min = sum([r[0] for r in y_ranges])\n",
    "y_max = sum([r[1] for r in y_ranges])"
   ],
   "metadata": {
    "collapsed": false
   }
  },
  {
   "cell_type": "code",
   "execution_count": 46,
   "outputs": [
    {
     "data": {
      "text/markdown": "## X ~ Risk: (-51.0, 23.0)"
     },
     "metadata": {},
     "output_type": "display_data"
    },
    {
     "data": {
      "text/markdown": "## Y ~ Public Value: (-9.0, 17.0)"
     },
     "metadata": {},
     "output_type": "display_data"
    }
   ],
   "source": [
    "display_markdown(f'## X ~ Risk: ({x_min}, {x_max})', raw=True)\n",
    "display_markdown(f'## Y ~ Public Value: ({y_min}, {y_max})', raw=True)"
   ],
   "metadata": {
    "collapsed": false
   }
  },
  {
   "cell_type": "markdown",
   "source": [
    "## Score distributions"
   ],
   "metadata": {
    "collapsed": false
   }
  },
  {
   "cell_type": "code",
   "execution_count": 47,
   "outputs": [],
   "source": [
    "import pandas as pd\n",
    "from collections import Counter\n",
    "\n",
    "\n",
    "def sums(n: int, nums: list[float | int]) -> list[float]:\n",
    "    return [t[1] for t in stats.all_possible_sums_gen(n, nums)]\n",
    "\n",
    "\n",
    "def merge_counters(c1: Counter, c2: Counter) -> Counter:\n",
    "    c = Counter()\n",
    "    for k1, v1 in c1.items():\n",
    "        for k2, v2 in c2.items():\n",
    "            c[k1 + k2] += v1 * v2\n",
    "    return c\n",
    "\n",
    "\n",
    "def score_count_freq(questions: list[Question]) -> Counter:\n",
    "    counters = []\n",
    "    for q in questions:\n",
    "        scores = [c.score for c in q.choices]\n",
    "        up_to_n = q.selection_range.end\n",
    "        c = Counter(sums(up_to_n, scores))\n",
    "        counters.append(c)\n",
    "\n",
    "    c = counters[0]\n",
    "    for c2 in counters[1:]:\n",
    "        c = merge_counters(c, c2)\n",
    "    return c\n",
    "\n",
    "\n",
    "def score_count_df(counter: Counter) -> pd.DataFrame:\n",
    "    df = pd.DataFrame({'score': list(counter.keys()), 'count': list(counter.values())})\n",
    "    return df\n",
    "\n",
    "\n",
    "def score_count_df_from_questions(questions: list[Question]) -> pd.DataFrame:\n",
    "    c = score_count_freq(questions)\n",
    "    df = score_count_df(c)\n",
    "    return df\n",
    "\n",
    "\n",
    "def normalize_df(df: pd.DataFrame, columns: list[str]) -> pd.DataFrame:\n",
    "    df_copy = df.copy()\n",
    "    df_copy[columns] -= df_copy[columns].min()\n",
    "    df_copy[columns] /= df_copy[columns].max()\n",
    "    return df_copy"
   ],
   "metadata": {
    "collapsed": false
   }
  },
  {
   "cell_type": "code",
   "execution_count": 48,
   "outputs": [],
   "source": [
    "import altair as alt\n",
    "\n",
    "\n",
    "def hist(df: pd.DataFrame, title: str, titleX='Score', titleY='Count') -> alt.Chart:\n",
    "    return alt.Chart(df).mark_bar().encode(\n",
    "        x=alt.X('score', title=titleX),\n",
    "        y=alt.Y('count', title=titleY),\n",
    "        tooltip=['score', 'count']\n",
    "    ).properties(\n",
    "        title=title\n",
    "    )"
   ],
   "metadata": {
    "collapsed": false
   }
  },
  {
   "cell_type": "code",
   "execution_count": 49,
   "outputs": [
    {
     "data": {
      "text/html": "\n<div id=\"altair-viz-b1f09101bf4c488eb3f1eb5428e2d37b\"></div>\n<script type=\"text/javascript\">\n  var VEGA_DEBUG = (typeof VEGA_DEBUG == \"undefined\") ? {} : VEGA_DEBUG;\n  (function(spec, embedOpt){\n    let outputDiv = document.currentScript.previousElementSibling;\n    if (outputDiv.id !== \"altair-viz-b1f09101bf4c488eb3f1eb5428e2d37b\") {\n      outputDiv = document.getElementById(\"altair-viz-b1f09101bf4c488eb3f1eb5428e2d37b\");\n    }\n    const paths = {\n      \"vega\": \"https://cdn.jsdelivr.net/npm//vega@5?noext\",\n      \"vega-lib\": \"https://cdn.jsdelivr.net/npm//vega-lib?noext\",\n      \"vega-lite\": \"https://cdn.jsdelivr.net/npm//vega-lite@4.17.0?noext\",\n      \"vega-embed\": \"https://cdn.jsdelivr.net/npm//vega-embed@6?noext\",\n    };\n\n    function maybeLoadScript(lib, version) {\n      var key = `${lib.replace(\"-\", \"\")}_version`;\n      return (VEGA_DEBUG[key] == version) ?\n        Promise.resolve(paths[lib]) :\n        new Promise(function(resolve, reject) {\n          var s = document.createElement('script');\n          document.getElementsByTagName(\"head\")[0].appendChild(s);\n          s.async = true;\n          s.onload = () => {\n            VEGA_DEBUG[key] = version;\n            return resolve(paths[lib]);\n          };\n          s.onerror = () => reject(`Error loading script: ${paths[lib]}`);\n          s.src = paths[lib];\n        });\n    }\n\n    function showError(err) {\n      outputDiv.innerHTML = `<div class=\"error\" style=\"color:red;\">${err}</div>`;\n      throw err;\n    }\n\n    function displayChart(vegaEmbed) {\n      vegaEmbed(outputDiv, spec, embedOpt)\n        .catch(err => showError(`Javascript Error: ${err.message}<br>This usually means there's a typo in your chart specification. See the javascript console for the full traceback.`));\n    }\n\n    if(typeof define === \"function\" && define.amd) {\n      requirejs.config({paths});\n      require([\"vega-embed\"], displayChart, err => showError(`Error loading script: ${err.message}`));\n    } else {\n      maybeLoadScript(\"vega\", \"5\")\n        .then(() => maybeLoadScript(\"vega-lite\", \"4.17.0\"))\n        .then(() => maybeLoadScript(\"vega-embed\", \"6\"))\n        .catch(showError)\n        .then(() => displayChart(vegaEmbed));\n    }\n  })({\"config\": {\"view\": {\"continuousWidth\": 400, \"continuousHeight\": 300}}, \"data\": {\"name\": \"data-14c519be9d9a8beb0f48317332cf204c\"}, \"mark\": \"bar\", \"encoding\": {\"tooltip\": [{\"field\": \"score\", \"type\": \"quantitative\"}, {\"field\": \"count\", \"type\": \"quantitative\"}], \"x\": {\"field\": \"score\", \"title\": \"Score\", \"type\": \"quantitative\"}, \"y\": {\"field\": \"count\", \"title\": \"Count\", \"type\": \"quantitative\"}}, \"title\": \"All questions\", \"$schema\": \"https://vega.github.io/schema/vega-lite/v4.17.0.json\", \"datasets\": {\"data-14c519be9d9a8beb0f48317332cf204c\": [{\"score\": -48.0, \"count\": 2844335764}, {\"score\": -44.0, \"count\": 69676499114}, {\"score\": -43.0, \"count\": 139688959231}, {\"score\": -47.0, \"count\": 6782319872}, {\"score\": -46.0, \"count\": 15401954283}, {\"score\": -42.0, \"count\": 270181006513}, {\"score\": -41.0, \"count\": 505284813311}, {\"score\": -45.0, \"count\": 33443910981}, {\"score\": -40.0, \"count\": 915508369944}, {\"score\": -39.0, \"count\": 1609872208443}, {\"score\": -38.0, \"count\": 2751685966605}, {\"score\": -37.0, \"count\": 4578137919288}, {\"score\": -36.0, \"count\": 7423419521618}, {\"score\": -35.0, \"count\": 11744466850800}, {\"score\": -34.0, \"count\": 18147589518626}, {\"score\": -33.0, \"count\": 27413333174497}, {\"score\": -32.0, \"count\": 40515985188685}, {\"score\": -31.0, \"count\": 58633328299776}, {\"score\": -30.0, \"count\": 83141749060694}, {\"score\": -29.0, \"count\": 115591798700634}, {\"score\": -28.0, \"count\": 157659947604641}, {\"score\": -27.0, \"count\": 211073681293405}, {\"score\": -26.0, \"count\": 277509275532236}, {\"score\": -25.0, \"count\": 358464468847245}, {\"score\": -24.0, \"count\": 455111599714257}, {\"score\": -23.0, \"count\": 568140249575162}, {\"score\": -22.0, \"count\": 697601600252038}, {\"score\": -21.0, \"count\": 842769096137915}, {\"score\": -20.0, \"count\": 1002031142938287}, {\"score\": -19.0, \"count\": 1172831117815412}, {\"score\": -18.0, \"count\": 1351667710109911}, {\"score\": -17.0, \"count\": 1534164575101928}, {\"score\": -16.0, \"count\": 1715212718956243}, {\"score\": -15.0, \"count\": 1889182420357663}, {\"score\": -14.0, \"count\": 2050194504109239}, {\"score\": -13.0, \"count\": 2192434191482923}, {\"score\": -12.0, \"count\": 2310485355408090}, {\"score\": -11.0, \"count\": 2399659513308383}, {\"score\": -10.0, \"count\": 2456292810409957}, {\"score\": -46.5, \"count\": 1997703835}, {\"score\": -42.5, \"count\": 45463281946}, {\"score\": -41.5, \"count\": 89551891662}, {\"score\": -45.5, \"count\": 4673785623}, {\"score\": -44.5, \"count\": 10418609353}, {\"score\": -40.5, \"count\": 170210505498}, {\"score\": -39.5, \"count\": 312858794480}, {\"score\": -43.5, \"count\": 22215513333}, {\"score\": -38.5, \"count\": 557186293518}, {\"score\": -37.5, \"count\": 963134023263}, {\"score\": -36.5, \"count\": 1618341437844}, {\"score\": -35.5, \"count\": 2646937686964}, {\"score\": -34.5, \"count\": 4219295541136}, {\"score\": -33.5, \"count\": 6562037286401}, {\"score\": -32.5, \"count\": 9967210794381}, {\"score\": -31.5, \"count\": 14799184693152}, {\"score\": -30.5, \"count\": 21497504954397}, {\"score\": -29.5, \"count\": 30573786058978}, {\"score\": -28.5, \"count\": 42600752207335}, {\"score\": -27.5, \"count\": 58191861800147}, {\"score\": -26.5, \"count\": 77970580850097}, {\"score\": -25.5, \"count\": 102529314384330}, {\"score\": -24.5, \"count\": 132379208940571}, {\"score\": -23.5, \"count\": 167893398106527}, {\"score\": -22.5, \"count\": 209247620757633}, {\"score\": -21.5, \"count\": 256363314433199}, {\"score\": -20.5, \"count\": 308859076878268}, {\"score\": -19.5, \"count\": 366016621153120}, {\"score\": -18.5, \"count\": 426766901027534}, {\"score\": -17.5, \"count\": 489700902354679}, {\"score\": -16.5, \"count\": 553107730876964}, {\"score\": -15.5, \"count\": 615040223071844}, {\"score\": -14.5, \"count\": 673405594856865}, {\"score\": -13.5, \"count\": 726075923146119}, {\"score\": -12.5, \"count\": 771010850086156}, {\"score\": -9.0, \"count\": 2477985835738828}, {\"score\": -8.0, \"count\": 2463765315098967}, {\"score\": -7.0, \"count\": 2414153164210656}, {\"score\": -6.0, \"count\": 2331136414079452}, {\"score\": -5.0, \"count\": 2218040288321642}, {\"score\": -11.5, \"count\": 806383118324923}, {\"score\": -10.5, \"count\": 830696642226302}, {\"score\": -9.5, \"count\": 842886947935962}, {\"score\": -8.5, \"count\": 842395012387839}, {\"score\": -7.5, \"count\": 829207705026066}, {\"score\": -4.0, \"count\": 2079315270858166}, {\"score\": -6.5, \"count\": 803860967846599}, {\"score\": -3.0, \"count\": 1920256429456841}, {\"score\": -2.0, \"count\": 1746678765074794}, {\"score\": -5.5, \"count\": 767405248428095}, {\"score\": -4.5, \"count\": 721336153263518}, {\"score\": -1.0, \"count\": 1564575386051321}, {\"score\": 0.0, \"count\": 1379785608642412}, {\"score\": 1.0, \"count\": 1197697730533764}, {\"score\": 2.0, \"count\": 1023006589779836}, {\"score\": 3.0, \"count\": 859539730968071}, {\"score\": -3.5, \"count\": 667496430032058}, {\"score\": -2.5, \"count\": 607957872979509}, {\"score\": -1.5, \"count\": 544893308049237}, {\"score\": -0.5, \"count\": 480449303762039}, {\"score\": 0.5, \"count\": 416629652257224}, {\"score\": 4.0, \"count\": 710158833075224}, {\"score\": 1.5, \"count\": 355198083405679}, {\"score\": 5.0, \"count\": 576735843518261}, {\"score\": 6.0, \"count\": 460196786707541}, {\"score\": 2.5, \"count\": 297606339078848}, {\"score\": 3.5, \"count\": 244950946938949}, {\"score\": 7.0, \"count\": 360621101775846}, {\"score\": 4.5, \"count\": 197959131771898}, {\"score\": 8.0, \"count\": 277381027056074}, {\"score\": 9.0, \"count\": 209304152230373}, {\"score\": 5.5, \"count\": 157001617897647}, {\"score\": 6.5, \"count\": 122127886541766}, {\"score\": -51.0, \"count\": 148430347}, {\"score\": -50.0, \"count\": 423490161}, {\"score\": -49.0, \"count\": 1130590642}, {\"score\": -49.5, \"count\": 110830414}, {\"score\": -48.5, \"count\": 309559307}, {\"score\": -47.5, \"count\": 809788295}, {\"score\": -54.0, \"count\": 3860246}, {\"score\": -53.0, \"count\": 14370595}, {\"score\": -52.0, \"count\": 48244986}, {\"score\": -52.5, \"count\": 3100440}, {\"score\": -51.5, \"count\": 11243040}, {\"score\": -50.5, \"count\": 36843634}, {\"score\": -57.0, \"count\": 30622}, {\"score\": -56.0, \"count\": 185439}, {\"score\": -55.0, \"count\": 914908}, {\"score\": -55.5, \"count\": 27115}, {\"score\": -54.5, \"count\": 158312}, {\"score\": -53.5, \"count\": 756299}, {\"score\": 10.0, \"count\": 154842722392208}, {\"score\": 7.5, \"count\": 93117953226826}, {\"score\": 11.0, \"count\": 112235309333551}, {\"score\": 8.5, \"count\": 69544016777122}, {\"score\": 12.0, \"count\": 79649620422028}, {\"score\": 9.5, \"count\": 50835392381305}, {\"score\": 13.0, \"count\": 55298976234976}, {\"score\": 10.5, \"count\": 36340873307302}, {\"score\": 14.0, \"count\": 37528837101221}, {\"score\": 11.5, \"count\": 25383895858080}, {\"score\": 15.0, \"count\": 24873247041753}, {\"score\": 12.5, \"count\": 17307396698349}, {\"score\": 16.0, \"count\": 16083861083965}, {\"score\": 13.5, \"count\": 11506831342374}, {\"score\": 17.0, \"count\": 10136142139940}, {\"score\": 14.5, \"count\": 7451271585300}, {\"score\": 18.0, \"count\": 6218315839848}, {\"score\": 15.5, \"count\": 4693669657841}, {\"score\": 19.0, \"count\": 3708840530769}, {\"score\": 16.5, \"count\": 2872180685563}, {\"score\": 20.0, \"count\": 2147659307311}, {\"score\": 17.5, \"count\": 1704849056028}, {\"score\": 21.0, \"count\": 1205572711567}, {\"score\": 18.5, \"count\": 980021498612}, {\"score\": 22.0, \"count\": 654931141809}, {\"score\": 19.5, \"count\": 544624683395}, {\"score\": 23.0, \"count\": 343692632096}, {\"score\": 20.5, \"count\": 292035161811}, {\"score\": -59.0, \"count\": 309}, {\"score\": -58.0, \"count\": 3804}, {\"score\": -57.5, \"count\": 297}, {\"score\": -56.5, \"count\": 3507}, {\"score\": 24.0, \"count\": 173871247711}, {\"score\": 21.5, \"count\": 150775089472}, {\"score\": 25.0, \"count\": 84601040738}, {\"score\": 22.5, \"count\": 74776123483}, {\"score\": 26.0, \"count\": 39490959163}, {\"score\": 23.5, \"count\": 35530334931}, {\"score\": 27.0, \"count\": 17632994969}, {\"score\": 24.5, \"count\": 16127135354}, {\"score\": 28.0, \"count\": 7505930175}, {\"score\": 25.5, \"count\": 6969022885}, {\"score\": 29.0, \"count\": 3034141816}, {\"score\": 26.5, \"count\": 2855894370}, {\"score\": 30.0, \"count\": 1159335795}, {\"score\": 27.5, \"count\": 1104729862}, {\"score\": 31.0, \"count\": 416385275}, {\"score\": 28.5, \"count\": 401129753}, {\"score\": 32.0, \"count\": 139602635}, {\"score\": 29.5, \"count\": 135777537}, {\"score\": 33.0, \"count\": 43311361}, {\"score\": 30.5, \"count\": 42469909}, {\"score\": 34.0, \"count\": 12292948}, {\"score\": 31.5, \"count\": 12136024}, {\"score\": 35.0, \"count\": 3142934}, {\"score\": 32.5, \"count\": 3119498}, {\"score\": 36.0, \"count\": 708108}, {\"score\": 33.5, \"count\": 705600}, {\"score\": 37.0, \"count\": 135996}, {\"score\": 34.5, \"count\": 135852}, {\"score\": 38.0, \"count\": 21072}, {\"score\": 35.5, \"count\": 21072}, {\"score\": -60.0, \"count\": 12}, {\"score\": -58.5, \"count\": 12}, {\"score\": 39.0, \"count\": 2364}, {\"score\": 36.5, \"count\": 2364}, {\"score\": 40.0, \"count\": 144}, {\"score\": 37.5, \"count\": 144}]}}, {\"mode\": \"vega-lite\"});\n</script>",
      "text/plain": "alt.Chart(...)"
     },
     "metadata": {},
     "output_type": "display_data"
    },
    {
     "data": {
      "text/html": "\n<div id=\"altair-viz-dde5e3a5a05e49feb07d9f9bad63302c\"></div>\n<script type=\"text/javascript\">\n  var VEGA_DEBUG = (typeof VEGA_DEBUG == \"undefined\") ? {} : VEGA_DEBUG;\n  (function(spec, embedOpt){\n    let outputDiv = document.currentScript.previousElementSibling;\n    if (outputDiv.id !== \"altair-viz-dde5e3a5a05e49feb07d9f9bad63302c\") {\n      outputDiv = document.getElementById(\"altair-viz-dde5e3a5a05e49feb07d9f9bad63302c\");\n    }\n    const paths = {\n      \"vega\": \"https://cdn.jsdelivr.net/npm//vega@5?noext\",\n      \"vega-lib\": \"https://cdn.jsdelivr.net/npm//vega-lib?noext\",\n      \"vega-lite\": \"https://cdn.jsdelivr.net/npm//vega-lite@4.17.0?noext\",\n      \"vega-embed\": \"https://cdn.jsdelivr.net/npm//vega-embed@6?noext\",\n    };\n\n    function maybeLoadScript(lib, version) {\n      var key = `${lib.replace(\"-\", \"\")}_version`;\n      return (VEGA_DEBUG[key] == version) ?\n        Promise.resolve(paths[lib]) :\n        new Promise(function(resolve, reject) {\n          var s = document.createElement('script');\n          document.getElementsByTagName(\"head\")[0].appendChild(s);\n          s.async = true;\n          s.onload = () => {\n            VEGA_DEBUG[key] = version;\n            return resolve(paths[lib]);\n          };\n          s.onerror = () => reject(`Error loading script: ${paths[lib]}`);\n          s.src = paths[lib];\n        });\n    }\n\n    function showError(err) {\n      outputDiv.innerHTML = `<div class=\"error\" style=\"color:red;\">${err}</div>`;\n      throw err;\n    }\n\n    function displayChart(vegaEmbed) {\n      vegaEmbed(outputDiv, spec, embedOpt)\n        .catch(err => showError(`Javascript Error: ${err.message}<br>This usually means there's a typo in your chart specification. See the javascript console for the full traceback.`));\n    }\n\n    if(typeof define === \"function\" && define.amd) {\n      requirejs.config({paths});\n      require([\"vega-embed\"], displayChart, err => showError(`Error loading script: ${err.message}`));\n    } else {\n      maybeLoadScript(\"vega\", \"5\")\n        .then(() => maybeLoadScript(\"vega-lite\", \"4.17.0\"))\n        .then(() => maybeLoadScript(\"vega-embed\", \"6\"))\n        .catch(showError)\n        .then(() => displayChart(vegaEmbed));\n    }\n  })({\"config\": {\"view\": {\"continuousWidth\": 400, \"continuousHeight\": 300}}, \"data\": {\"name\": \"data-f8278697c6422a550e0f74fa43ff05d1\"}, \"mark\": \"bar\", \"encoding\": {\"tooltip\": [{\"field\": \"score\", \"type\": \"quantitative\"}, {\"field\": \"count\", \"type\": \"quantitative\"}], \"x\": {\"field\": \"score\", \"title\": \"Score\", \"type\": \"quantitative\"}, \"y\": {\"field\": \"count\", \"title\": \"Normalized count\", \"type\": \"quantitative\"}}, \"title\": \"All questions (normalized)\", \"$schema\": \"https://vega.github.io/schema/vega-lite/v4.17.0.json\", \"datasets\": {\"data-f8278697c6422a550e0f74fa43ff05d1\": [{\"score\": -48.0, \"count\": 1.147841812078783e-06}, {\"score\": -44.0, \"count\": 2.8118199102306742e-05}, {\"score\": -43.0, \"count\": 5.637197646747302e-05}, {\"score\": -47.0, \"count\": 2.737029309119452e-06}, {\"score\": -46.0, \"count\": 6.2155134419514865e-06}, {\"score\": -42.0, \"count\": 0.00010903250640270308}, {\"score\": -41.0, \"count\": 0.0002039094840702947}, {\"score\": -45.0, \"count\": 1.3496409255716604e-05}, {\"score\": -40.0, \"count\": 0.0003694566598113905}, {\"score\": -39.0, \"count\": 0.0006496696571919725}, {\"score\": -38.0, \"count\": 0.0011104526615555008}, {\"score\": -37.0, \"count\": 0.0018475238450711402}, {\"score\": -36.0, \"count\": 0.0029957473584156682}, {\"score\": -35.0, \"count\": 0.0047395213811972274}, {\"score\": -34.0, \"count\": 0.0073235243143362294}, {\"score\": -33.0, \"count\": 0.011062748131613781}, {\"score\": -32.0, \"count\": 0.016350369967547893}, {\"score\": -31.0, \"count\": 0.02366168823651987}, {\"score\": -30.0, \"count\": 0.03355214862876451}, {\"score\": -29.0, \"count\": 0.046647481609255484}, {\"score\": -28.0, \"count\": 0.06362423276629521}, {\"score\": -27.0, \"count\": 0.08517953502767339}, {\"score\": -26.0, \"count\": 0.111989855442206}, {\"score\": -25.0, \"count\": 0.14465961172064415}, {\"score\": -24.0, \"count\": 0.18366190522576278}, {\"score\": -23.0, \"count\": 0.22927501900177646}, {\"score\": -22.0, \"count\": 0.28151960765507555}, {\"score\": -21.0, \"count\": 0.34010246708558356}, {\"score\": -20.0, \"count\": 0.4043732326821463}, {\"score\": -19.0, \"count\": 0.47330017020283666}, {\"score\": -18.0, \"count\": 0.5454703132743681}, {\"score\": -17.0, \"count\": 0.61911757241522}, {\"score\": -16.0, \"count\": 0.6921801949868035}, {\"score\": -15.0, \"count\": 0.7623862869233826}, {\"score\": -14.0, \"count\": 0.8273632861577507}, {\"score\": -13.0, \"count\": 0.884764618046831}, {\"score\": -12.0, \"count\": 0.9324045852421923}, {\"score\": -11.0, \"count\": 0.9683911339198225}, {\"score\": -10.0, \"count\": 0.9912457024507555}, {\"score\": -46.5, \"count\": 8.061804850488102e-07}, {\"score\": -42.5, \"count\": 1.8346869170236818e-05}, {\"score\": -41.5, \"count\": 3.6138984476196546e-05}, {\"score\": -45.5, \"count\": 1.8861228113543684e-06}, {\"score\": -44.5, \"count\": 4.204466866088309e-06}, {\"score\": -40.5, \"count\": 6.868905505073294e-05}, {\"score\": -39.5, \"count\": 0.00012625527957254066}, {\"score\": -43.5, \"count\": 8.965149437335829e-06}, {\"score\": -38.5, \"count\": 0.0002248545110589278}, {\"score\": -37.5, \"count\": 0.00038867616164716285}, {\"score\": -36.5, \"count\": 0.0006530874448479196}, {\"score\": -35.5, \"count\": 0.0010681811206409947}, {\"score\": -34.5, \"count\": 0.0017027117267060605}, {\"score\": -33.5, \"count\": 0.002648133492834319}, {\"score\": -32.5, \"count\": 0.004022303376644305}, {\"score\": -31.5, \"count\": 0.005972263634318796}, {\"score\": -30.5, \"count\": 0.00867539460651335}, {\"score\": -29.5, \"count\": 0.012338160137162515}, {\"score\": -28.5, \"count\": 0.017191685114948008}, {\"score\": -27.5, \"count\": 0.023483532859978996}, {\"score\": -26.5, \"count\": 0.03146530529979318}, {\"score\": -25.5, \"count\": 0.04137606959070801}, {\"score\": -24.5, \"count\": 0.05342210073654029}, {\"score\": -23.5, \"count\": 0.06775397812411517}, {\"score\": -22.5, \"count\": 0.08444262180184474}, {\"score\": -21.5, \"count\": 0.10345632760921404}, {\"score\": -20.5, \"count\": 0.12464117930931155}, {\"score\": -19.5, \"count\": 0.14770730965214718}, {\"score\": -18.5, \"count\": 0.1722233012281447}, {\"score\": -17.5, \"count\": 0.19762054136546822}, {\"score\": -16.5, \"count\": 0.22320859259957873}, {\"score\": -15.5, \"count\": 0.24820167016348446}, {\"score\": -14.5, \"count\": 0.2717552235951647}, {\"score\": -13.5, \"count\": 0.29301052196274}, {\"score\": -12.5, \"count\": 0.31114417159542224}, {\"score\": -9.0, \"count\": 1.0}, {\"score\": -8.0, \"count\": 0.9942612583031084}, {\"score\": -7.0, \"count\": 0.9742400983058322}, {\"score\": -6.0, \"count\": 0.9407383934397702}, {\"score\": -5.0, \"count\": 0.8950980495254999}, {\"score\": -11.5, \"count\": 0.32541877628791466}, {\"score\": -10.5, \"count\": 0.3352305853591033}, {\"score\": -9.5, \"count\": 0.3401500265979695}, {\"score\": -8.5, \"count\": 0.339951504257354}, {\"score\": -7.5, \"count\": 0.33462971945472164}, {\"score\": -4.0, \"count\": 0.8391150751829065}, {\"score\": -6.5, \"count\": 0.32440095348927384}, {\"score\": -3.0, \"count\": 0.7749263138480778}, {\"score\": -2.0, \"count\": 0.7048784298454258}, {\"score\": -5.5, \"count\": 0.3096891182185792}, {\"score\": -4.5, \"count\": 0.2910977709638273}, {\"score\": -1.0, \"count\": 0.6313899633670941}, {\"score\": 0.0, \"count\": 0.5568173912628578}, {\"score\": 1.0, \"count\": 0.4833351802338516}, {\"score\": 2.0, \"count\": 0.41283794887988645}, {\"score\": 3.0, \"count\": 0.346870316436569}, {\"score\": -3.5, \"count\": 0.2693705591069413}, {\"score\": -2.5, \"count\": 0.24534356258668172}, {\"score\": -1.5, \"count\": 0.21989363304280715}, {\"score\": -0.5, \"count\": 0.19388702583878176}, {\"score\": 0.5, \"count\": 0.16813237842136136}, {\"score\": 4.0, \"count\": 0.28658712363603034}, {\"score\": 1.5, \"count\": 0.14334145025480505}, {\"score\": 5.0, \"count\": 0.23274380151825774}, {\"score\": 6.0, \"count\": 0.18571405052859008}, {\"score\": 2.5, \"count\": 0.12010009693622971}, {\"score\": 3.5, \"count\": 0.0988508261048653}, {\"score\": 7.0, \"count\": 0.14552992861168398}, {\"score\": 4.5, \"count\": 0.07988711191033267}, {\"score\": 8.0, \"count\": 0.11193810031337824}, {\"score\": 9.0, \"count\": 0.0844654352787923}, {\"score\": 5.5, \"count\": 0.06335856147088294}, {\"score\": 6.5, \"count\": 0.049285143111135396}, {\"score\": -51.0, \"count\": 5.989958976329064e-08}, {\"score\": -50.0, \"count\": 1.709009562896616e-07}, {\"score\": -49.0, \"count\": 4.562538710649701e-07}, {\"score\": -49.5, \"count\": 4.4726003030988155e-08}, {\"score\": -48.5, \"count\": 1.2492375482352357e-07}, {\"score\": -47.5, \"count\": 3.2679294260718007e-07}, {\"score\": -54.0, \"count\": 1.5578111643439092e-09}, {\"score\": -53.0, \"count\": 5.799299896205978e-09}, {\"score\": -52.0, \"count\": 1.9469430899961408e-08}, {\"score\": -52.5, \"count\": 1.251188749864505e-09}, {\"score\": -51.5, \"count\": 4.537163948981117e-09}, {\"score\": -50.5, \"count\": 1.486837473750733e-08}, {\"score\": -57.0, \"count\": 1.2352774401905963e-11}, {\"score\": -56.0, \"count\": 7.48297255479326e-11}, {\"score\": -55.0, \"count\": 3.692095357466892e-10}, {\"score\": -55.5, \"count\": 1.0937512074970836e-11}, {\"score\": -54.5, \"count\": 6.388252818757642e-11}, {\"score\": -53.5, \"count\": 3.0520230950977637e-10}, {\"score\": 10.0, \"count\": 0.06248733150891048}, {\"score\": 7.5, \"count\": 0.037578081312579704}, {\"score\": 11.0, \"count\": 0.04529295838370918}, {\"score\": 8.5, \"count\": 0.028064735388761947}, {\"score\": 12.0, \"count\": 0.03214288769260391}, {\"score\": 9.5, \"count\": 0.02051480345372367}, {\"score\": 13.0, \"count\": 0.02231609859806826}, {\"score\": 10.5, \"count\": 0.014665488713923541}, {\"score\": 14.0, \"count\": 0.015144895729405857}, {\"score\": 11.5, \"count\": 0.010243761482397556}, {\"score\": 15.0, \"count\": 0.010037687335821674}, {\"score\": 12.5, \"count\": 0.00698446151253999}, {\"score\": 16.0, \"count\": 0.006490699362354332}, {\"score\": 13.5, \"count\": 0.004643622726330563}, {\"score\": 17.0, \"count\": 0.0040904762221556}, {\"score\": 14.5, \"count\": 0.0030069871578044713}, {\"score\": 18.0, \"count\": 0.0025094234802121047}, {\"score\": 15.5, \"count\": 0.0018941470891941454}, {\"score\": 19.0, \"count\": 0.0014967157912148445}, {\"score\": 16.5, \"count\": 0.001159078734077854}, {\"score\": 20.0, \"count\": 0.0008666955542377712}, {\"score\": 17.5, \"count\": 0.0006879979019362297}, {\"score\": 21.0, \"count\": 0.0004865131568419786}, {\"score\": 18.5, \"count\": 0.000395491162405214}, {\"score\": 22.0, \"count\": 0.00026429979233587146}, {\"score\": 19.5, \"count\": 0.00021978522860305986}, {\"score\": 23.0, \"count\": 0.00013869838444073568}, {\"score\": 20.5, \"count\": 0.00011785182852424545}, {\"score\": -59.0, \"count\": 1.1985540664377887e-13}, {\"score\": -58.0, \"count\": 1.530275090886227e-12}, {\"score\": -57.5, \"count\": 1.1501276395110094e-13}, {\"score\": -56.5, \"count\": 1.4104196842424482e-12}, {\"score\": 24.0, \"count\": 7.016636059469644e-05}, {\"score\": 21.5, \"count\": 6.08458237676109e-05}, {\"score\": 25.0, \"count\": 3.414105097205935e-05}, {\"score\": 22.5, \"count\": 3.0176170659468423e-05}, {\"score\": 26.0, \"count\": 1.5936717063286076e-05}, {\"score\": 23.5, \"count\": 1.4338393063657915e-05}, {\"score\": 27.0, \"count\": 7.115857848211909e-06}, {\"score\": 24.5, \"count\": 6.5081628431470295e-06}, {\"score\": 28.0, \"count\": 3.0290448213002367e-06}, {\"score\": 25.5, \"count\": 2.812373974253236e-06}, {\"score\": 29.0, \"count\": 1.2244387196407703e-06}, {\"score\": 26.5, \"count\": 1.1525063286524033e-06}, {\"score\": 30.0, \"count\": 4.6785407982541674e-07}, {\"score\": 27.5, \"count\": 4.4581766129047416e-07}, {\"score\": 31.0, \"count\": 1.6803375426714415e-07}, {\"score\": 28.5, \"count\": 1.6187733408912018e-07}, {\"score\": 32.0, \"count\": 5.63371351791352e-08}, {\"score\": 29.5, \"count\": 5.4793503272595456e-08}, {\"score\": 33.0, \"count\": 1.7478448978739477e-08}, {\"score\": 30.5, \"count\": 1.7138878030486208e-08}, {\"score\": 34.0, \"count\": 4.960858057663126e-09}, {\"score\": 31.5, \"count\": 4.8975308191709765e-09}, {\"score\": 35.0, \"count\": 1.2683373547463931e-09}, {\"score\": 32.5, \"count\": 1.258879673567593e-09}, {\"score\": 36.0, \"count\": 2.857546600095395e-10}, {\"score\": 33.5, \"count\": 2.8474254768676985e-10}, {\"score\": 37.0, \"count\": 5.487682699342634e-11}, {\"score\": 34.5, \"count\": 5.481871528111421e-11}, {\"score\": 38.0, \"count\": 8.498837925649773e-12}, {\"score\": 35.5, \"count\": 8.498837925649773e-12}, {\"score\": -60.0, \"count\": 0.0}, {\"score\": -58.5, \"count\": 0.0}, {\"score\": 39.0, \"count\": 9.49157967764875e-13}, {\"score\": 36.5, \"count\": 9.49157967764875e-13}, {\"score\": 40.0, \"count\": 5.3269069619457273e-14}, {\"score\": 37.5, \"count\": 5.3269069619457273e-14}]}}, {\"mode\": \"vega-lite\"});\n</script>",
      "text/plain": "alt.Chart(...)"
     },
     "metadata": {},
     "output_type": "display_data"
    },
    {
     "data": {
      "text/html": "\n<div id=\"altair-viz-de807128b0be449a8eac3b8ab1f6a37c\"></div>\n<script type=\"text/javascript\">\n  var VEGA_DEBUG = (typeof VEGA_DEBUG == \"undefined\") ? {} : VEGA_DEBUG;\n  (function(spec, embedOpt){\n    let outputDiv = document.currentScript.previousElementSibling;\n    if (outputDiv.id !== \"altair-viz-de807128b0be449a8eac3b8ab1f6a37c\") {\n      outputDiv = document.getElementById(\"altair-viz-de807128b0be449a8eac3b8ab1f6a37c\");\n    }\n    const paths = {\n      \"vega\": \"https://cdn.jsdelivr.net/npm//vega@5?noext\",\n      \"vega-lib\": \"https://cdn.jsdelivr.net/npm//vega-lib?noext\",\n      \"vega-lite\": \"https://cdn.jsdelivr.net/npm//vega-lite@4.17.0?noext\",\n      \"vega-embed\": \"https://cdn.jsdelivr.net/npm//vega-embed@6?noext\",\n    };\n\n    function maybeLoadScript(lib, version) {\n      var key = `${lib.replace(\"-\", \"\")}_version`;\n      return (VEGA_DEBUG[key] == version) ?\n        Promise.resolve(paths[lib]) :\n        new Promise(function(resolve, reject) {\n          var s = document.createElement('script');\n          document.getElementsByTagName(\"head\")[0].appendChild(s);\n          s.async = true;\n          s.onload = () => {\n            VEGA_DEBUG[key] = version;\n            return resolve(paths[lib]);\n          };\n          s.onerror = () => reject(`Error loading script: ${paths[lib]}`);\n          s.src = paths[lib];\n        });\n    }\n\n    function showError(err) {\n      outputDiv.innerHTML = `<div class=\"error\" style=\"color:red;\">${err}</div>`;\n      throw err;\n    }\n\n    function displayChart(vegaEmbed) {\n      vegaEmbed(outputDiv, spec, embedOpt)\n        .catch(err => showError(`Javascript Error: ${err.message}<br>This usually means there's a typo in your chart specification. See the javascript console for the full traceback.`));\n    }\n\n    if(typeof define === \"function\" && define.amd) {\n      requirejs.config({paths});\n      require([\"vega-embed\"], displayChart, err => showError(`Error loading script: ${err.message}`));\n    } else {\n      maybeLoadScript(\"vega\", \"5\")\n        .then(() => maybeLoadScript(\"vega-lite\", \"4.17.0\"))\n        .then(() => maybeLoadScript(\"vega-embed\", \"6\"))\n        .catch(showError)\n        .then(() => displayChart(vegaEmbed));\n    }\n  })({\"config\": {\"view\": {\"continuousWidth\": 400, \"continuousHeight\": 300}}, \"data\": {\"name\": \"data-35c8cc2a64f839ad72de01e98bcdb406\"}, \"mark\": \"bar\", \"encoding\": {\"tooltip\": [{\"field\": \"score\", \"type\": \"quantitative\"}, {\"field\": \"count\", \"type\": \"quantitative\"}], \"x\": {\"field\": \"score\", \"title\": \"Score\", \"type\": \"quantitative\"}, \"y\": {\"field\": \"count\", \"title\": \"Count\", \"type\": \"quantitative\"}}, \"title\": \"Risk\", \"$schema\": \"https://vega.github.io/schema/vega-lite/v4.17.0.json\", \"datasets\": {\"data-35c8cc2a64f839ad72de01e98bcdb406\": [{\"score\": -42.0, \"count\": 127008}, {\"score\": -38.0, \"count\": 1734554}, {\"score\": -37.0, \"count\": 2993191}, {\"score\": -41.0, \"count\": 262690}, {\"score\": -40.0, \"count\": 515775}, {\"score\": -36.0, \"count\": 4980389}, {\"score\": -35.0, \"count\": 8010455}, {\"score\": -39.0, \"count\": 966346}, {\"score\": -34.0, \"count\": 12481524}, {\"score\": -33.0, \"count\": 18876296}, {\"score\": -32.0, \"count\": 27753523}, {\"score\": -31.0, \"count\": 39728529}, {\"score\": -30.0, \"count\": 55439785}, {\"score\": -29.0, \"count\": 75503035}, {\"score\": -28.0, \"count\": 100453817}, {\"score\": -27.0, \"count\": 130680659}, {\"score\": -26.0, \"count\": 166357462}, {\"score\": -25.0, \"count\": 207379095}, {\"score\": -24.0, \"count\": 253308384}, {\"score\": -23.0, \"count\": 303345183}, {\"score\": -22.0, \"count\": 356319197}, {\"score\": -21.0, \"count\": 410715326}, {\"score\": -20.0, \"count\": 464732989}, {\"score\": -19.0, \"count\": 516372914}, {\"score\": -18.0, \"count\": 563553433}, {\"score\": -17.0, \"count\": 604242447}, {\"score\": -16.0, \"count\": 636593699}, {\"score\": -15.0, \"count\": 659081067}, {\"score\": -14.0, \"count\": 670610002}, {\"score\": -13.0, \"count\": 670600915}, {\"score\": -12.0, \"count\": 659036510}, {\"score\": -11.0, \"count\": 636461921}, {\"score\": -10.0, \"count\": 603946223}, {\"score\": -9.0, \"count\": 563002796}, {\"score\": -8.0, \"count\": 515476485}, {\"score\": -7.0, \"count\": 463414752}, {\"score\": -6.0, \"count\": 408925913}, {\"score\": -5.0, \"count\": 354043759}, {\"score\": -4.0, \"count\": 300609995}, {\"score\": -40.5, \"count\": 84710}, {\"score\": -36.5, \"count\": 1050643}, {\"score\": -35.5, \"count\": 1771674}, {\"score\": -39.5, \"count\": 170874}, {\"score\": -38.5, \"count\": 327502}, {\"score\": -34.5, \"count\": 2881213}, {\"score\": -33.5, \"count\": 4530041}, {\"score\": -37.5, \"count\": 599201}, {\"score\": -32.5, \"count\": 6900840}, {\"score\": -31.5, \"count\": 10203782}, {\"score\": -30.5, \"count\": 14668528}, {\"score\": -29.5, \"count\": 20529960}, {\"score\": -28.5, \"count\": 28008985}, {\"score\": -27.5, \"count\": 37290268}, {\"score\": -26.5, \"count\": 48495021}, {\"score\": -25.5, \"count\": 61655678}, {\"score\": -24.5, \"count\": 76692799}, {\"score\": -23.5, \"count\": 93396028}, {\"score\": -22.5, \"count\": 111417335}, {\"score\": -21.5, \"count\": 130272170}, {\"score\": -20.5, \"count\": 149354228}, {\"score\": -19.5, \"count\": 167965070}, {\"score\": -18.5, \"count\": 185350584}, {\"score\": -17.5, \"count\": 200750160}, {\"score\": -16.5, \"count\": 213449045}, {\"score\": -15.5, \"count\": 222828332}, {\"score\": -14.5, \"count\": 228414783}, {\"score\": -13.5, \"count\": 229916124}, {\"score\": -12.5, \"count\": 227244833}, {\"score\": -11.5, \"count\": 220527750}, {\"score\": -10.5, \"count\": 210093977}, {\"score\": -9.5, \"count\": 196451820}, {\"score\": -8.5, \"count\": 180249570}, {\"score\": -7.5, \"count\": 162225476}, {\"score\": -6.5, \"count\": 143157032}, {\"score\": -3.0, \"count\": 250177912}, {\"score\": -2.0, \"count\": 203951217}, {\"score\": -1.0, \"count\": 162754805}, {\"score\": 0.0, \"count\": 127036792}, {\"score\": 1.0, \"count\": 96901744}, {\"score\": -5.5, \"count\": 123805900}, {\"score\": -4.5, \"count\": 104870443}, {\"score\": -3.5, \"count\": 86947840}, {\"score\": -2.5, \"count\": 70505123}, {\"score\": -1.5, \"count\": 55866889}, {\"score\": 2.0, \"count\": 72162572}, {\"score\": -0.5, \"count\": 43213885}, {\"score\": 3.0, \"count\": 52407141}, {\"score\": 4.0, \"count\": 37070966}, {\"score\": 0.5, \"count\": 32593080}, {\"score\": 1.5, \"count\": 23938589}, {\"score\": 5.0, \"count\": 25506008}, {\"score\": 6.0, \"count\": 17043015}, {\"score\": 7.0, \"count\": 11040711}, {\"score\": 8.0, \"count\": 6920590}, {\"score\": 9.0, \"count\": 4188283}, {\"score\": 2.5, \"count\": 17096266}, {\"score\": 3.5, \"count\": 11852421}, {\"score\": 4.5, \"count\": 7961640}, {\"score\": 5.5, \"count\": 5170737}, {\"score\": 6.5, \"count\": 3239005}, {\"score\": 10.0, \"count\": 2441124}, {\"score\": 7.5, \"count\": 1951589}, {\"score\": 11.0, \"count\": 1366310}, {\"score\": 12.0, \"count\": 731989}, {\"score\": 8.5, \"count\": 1127482}, {\"score\": 9.5, \"count\": 622371}, {\"score\": 13.0, \"count\": 373936}, {\"score\": 10.5, \"count\": 326907}, {\"score\": 14.0, \"count\": 181325}, {\"score\": 15.0, \"count\": 83012}, {\"score\": 11.5, \"count\": 162628}, {\"score\": 12.5, \"count\": 76200}, {\"score\": -45.0, \"count\": 9829}, {\"score\": -44.0, \"count\": 24773}, {\"score\": -43.0, \"count\": 57934}, {\"score\": -43.5, \"count\": 7106}, {\"score\": -42.5, \"count\": 17399}, {\"score\": -41.5, \"count\": 39643}, {\"score\": -48.0, \"count\": 336}, {\"score\": -47.0, \"count\": 1161}, {\"score\": -46.0, \"count\": 3559}, {\"score\": -46.5, \"count\": 268}, {\"score\": -45.5, \"count\": 892}, {\"score\": -44.5, \"count\": 2655}, {\"score\": -51.0, \"count\": 1}, {\"score\": -50.0, \"count\": 13}, {\"score\": -49.0, \"count\": 80}, {\"score\": -49.5, \"count\": 1}, {\"score\": -48.5, \"count\": 12}, {\"score\": -47.5, \"count\": 68}, {\"score\": 16.0, \"count\": 35664}, {\"score\": 17.0, \"count\": 14263}, {\"score\": 13.5, \"count\": 33418}, {\"score\": 14.5, \"count\": 13611}, {\"score\": 18.0, \"count\": 5246}, {\"score\": 19.0, \"count\": 1758}, {\"score\": 15.5, \"count\": 5086}, {\"score\": 16.5, \"count\": 1726}, {\"score\": 20.0, \"count\": 524}, {\"score\": 21.0, \"count\": 132}, {\"score\": 17.5, \"count\": 520}, {\"score\": 18.5, \"count\": 132}, {\"score\": 22.0, \"count\": 28}, {\"score\": 23.0, \"count\": 4}, {\"score\": 19.5, \"count\": 28}, {\"score\": 20.5, \"count\": 4}]}}, {\"mode\": \"vega-lite\"});\n</script>",
      "text/plain": "alt.Chart(...)"
     },
     "metadata": {},
     "output_type": "display_data"
    },
    {
     "data": {
      "text/html": "\n<div id=\"altair-viz-11330e56fe6045c3a7991db194e95693\"></div>\n<script type=\"text/javascript\">\n  var VEGA_DEBUG = (typeof VEGA_DEBUG == \"undefined\") ? {} : VEGA_DEBUG;\n  (function(spec, embedOpt){\n    let outputDiv = document.currentScript.previousElementSibling;\n    if (outputDiv.id !== \"altair-viz-11330e56fe6045c3a7991db194e95693\") {\n      outputDiv = document.getElementById(\"altair-viz-11330e56fe6045c3a7991db194e95693\");\n    }\n    const paths = {\n      \"vega\": \"https://cdn.jsdelivr.net/npm//vega@5?noext\",\n      \"vega-lib\": \"https://cdn.jsdelivr.net/npm//vega-lib?noext\",\n      \"vega-lite\": \"https://cdn.jsdelivr.net/npm//vega-lite@4.17.0?noext\",\n      \"vega-embed\": \"https://cdn.jsdelivr.net/npm//vega-embed@6?noext\",\n    };\n\n    function maybeLoadScript(lib, version) {\n      var key = `${lib.replace(\"-\", \"\")}_version`;\n      return (VEGA_DEBUG[key] == version) ?\n        Promise.resolve(paths[lib]) :\n        new Promise(function(resolve, reject) {\n          var s = document.createElement('script');\n          document.getElementsByTagName(\"head\")[0].appendChild(s);\n          s.async = true;\n          s.onload = () => {\n            VEGA_DEBUG[key] = version;\n            return resolve(paths[lib]);\n          };\n          s.onerror = () => reject(`Error loading script: ${paths[lib]}`);\n          s.src = paths[lib];\n        });\n    }\n\n    function showError(err) {\n      outputDiv.innerHTML = `<div class=\"error\" style=\"color:red;\">${err}</div>`;\n      throw err;\n    }\n\n    function displayChart(vegaEmbed) {\n      vegaEmbed(outputDiv, spec, embedOpt)\n        .catch(err => showError(`Javascript Error: ${err.message}<br>This usually means there's a typo in your chart specification. See the javascript console for the full traceback.`));\n    }\n\n    if(typeof define === \"function\" && define.amd) {\n      requirejs.config({paths});\n      require([\"vega-embed\"], displayChart, err => showError(`Error loading script: ${err.message}`));\n    } else {\n      maybeLoadScript(\"vega\", \"5\")\n        .then(() => maybeLoadScript(\"vega-lite\", \"4.17.0\"))\n        .then(() => maybeLoadScript(\"vega-embed\", \"6\"))\n        .catch(showError)\n        .then(() => displayChart(vegaEmbed));\n    }\n  })({\"config\": {\"view\": {\"continuousWidth\": 400, \"continuousHeight\": 300}}, \"data\": {\"name\": \"data-62ff427770827efa577fa9bb6eec8dbf\"}, \"mark\": \"bar\", \"encoding\": {\"tooltip\": [{\"field\": \"score\", \"type\": \"quantitative\"}, {\"field\": \"count\", \"type\": \"quantitative\"}], \"x\": {\"field\": \"score\", \"title\": \"Score\", \"type\": \"quantitative\"}, \"y\": {\"field\": \"count\", \"title\": \"Normalized count\", \"type\": \"quantitative\"}}, \"title\": \"Risk (normalized)\", \"$schema\": \"https://vega.github.io/schema/vega-lite/v4.17.0.json\", \"datasets\": {\"data-62ff427770827efa577fa9bb6eec8dbf\": [{\"score\": -42.0, \"count\": 0.0001893902563496067}, {\"score\": -38.0, \"count\": 0.0025865301701636866}, {\"score\": -37.0, \"count\": 0.004463384076492471}, {\"score\": -41.0, \"count\": 0.0003917164963365943}, {\"score\": -40.0, \"count\": 0.0007691117031223637}, {\"score\": -36.0, \"count\": 0.0074266533343871205}, {\"score\": -35.0, \"count\": 0.011945026152391068}, {\"score\": -39.0, \"count\": 0.0014409940182207334}, {\"score\": -34.0, \"count\": 0.01861219334842577}, {\"score\": -33.0, \"count\": 0.028147947349207517}, {\"score\": -32.0, \"count\": 0.04138548777771658}, {\"score\": -31.0, \"count\": 0.05924237327322531}, {\"score\": -30.0, \"count\": 0.08267067881082793}, {\"score\": -29.0, \"count\": 0.11258858932525821}, {\"score\": -28.0, \"count\": 0.1497946881946367}, {\"score\": -27.0, \"count\": 0.194868340473795}, {\"score\": -26.0, \"count\": 0.2480688637985284}, {\"score\": -25.0, \"count\": 0.3092394889589486}, {\"score\": -24.0, \"count\": 0.37772831097399634}, {\"score\": -23.0, \"count\": 0.4523421683954278}, {\"score\": -22.0, \"count\": 0.5313359411113227}, {\"score\": -21.0, \"count\": 0.612450342803641}, {\"score\": -20.0, \"count\": 0.6930003836909674}, {\"score\": -19.0, \"count\": 0.7700047900120714}, {\"score\": -18.0, \"count\": 0.8403594207656322}, {\"score\": -17.0, \"count\": 0.9010340512353916}, {\"score\": -16.0, \"count\": 0.9492755805173266}, {\"score\": -15.0, \"count\": 0.9828082865110745}, {\"score\": -14.0, \"count\": 1.0}, {\"score\": -13.0, \"count\": 0.9999864496503386}, {\"score\": -12.0, \"count\": 0.9827418440185177}, {\"score\": -11.0, \"count\": 0.9490790758427714}, {\"score\": -10.0, \"count\": 0.900592328028821}, {\"score\": -9.0, \"count\": 0.839538322065674}, {\"score\": -8.0, \"count\": 0.7686680533116594}, {\"score\": -7.0, \"count\": 0.6910346554763057}, {\"score\": -6.0, \"count\": 0.6097820065167803}, {\"score\": -5.0, \"count\": 0.5279428542253428}, {\"score\": -4.0, \"count\": 0.4482635116561586}, {\"score\": -40.5, \"count\": 0.00012631633866730835}, {\"score\": -36.5, \"count\": 0.0015666959908639956}, {\"score\": -35.5, \"count\": 0.002641882759514647}, {\"score\": -39.5, \"count\": 0.0002548023437544887}, {\"score\": -38.5, \"count\": 0.0004883628331096124}, {\"score\": -34.5, \"count\": 0.004296404759403521}, {\"score\": -33.5, \"count\": 0.0067551035523551635}, {\"score\": -37.5, \"count\": 0.0008935148582730427}, {\"score\": -32.5, \"count\": 0.010290390822847273}, {\"score\": -31.5, \"count\": 0.015215670784486258}, {\"score\": -30.5, \"count\": 0.021873409251467454}, {\"score\": -29.5, \"count\": 0.03061385748704335}, {\"score\": -28.5, \"count\": 0.04176642751857797}, {\"score\": -27.5, \"count\": 0.055606488039834645}, {\"score\": -26.5, \"count\": 0.07231478792097525}, {\"score\": -25.5, \"count\": 0.09193969208341705}, {\"score\": -24.5, \"count\": 0.11436274121417404}, {\"score\": -23.5, \"count\": 0.13927025672258056}, {\"score\": -22.5, \"count\": 0.16614326334808122}, {\"score\": -21.5, \"count\": 0.1942592099815702}, {\"score\": -20.5, \"count\": 0.22271398693321903}, {\"score\": -19.5, \"count\": 0.25046609616548204}, {\"score\": -18.5, \"count\": 0.2763910211950448}, {\"score\": -17.5, \"count\": 0.2993545558530971}, {\"score\": -16.5, \"count\": 0.3182908749969567}, {\"score\": -15.5, \"count\": 0.3322770770905935}, {\"score\": -14.5, \"count\": 0.340607479249329}, {\"score\": -13.5, \"count\": 0.34284624842628914}, {\"score\": -12.5, \"count\": 0.3388628735943948}, {\"score\": -11.5, \"count\": 0.32884649598299087}, {\"score\": -10.5, \"count\": 0.3132878658038385}, {\"score\": -9.5, \"count\": 0.2929449586302844}, {\"score\": -8.5, \"count\": 0.2687844928217824}, {\"score\": -7.5, \"count\": 0.24190733027854144}, {\"score\": -6.5, \"count\": 0.2134728542469202}, {\"score\": -3.0, \"count\": 0.37306021477004486}, {\"score\": -2.0, \"count\": 0.3041279069740566}, {\"score\": -1.0, \"count\": 0.24269665492209086}, {\"score\": 0.0, \"count\": 0.18943468008315612}, {\"score\": 1.0, \"count\": 0.14449790915062719}, {\"score\": -5.5, \"count\": 0.18461683961674172}, {\"score\": -4.5, \"count\": 0.15638067109589676}, {\"score\": -3.5, \"count\": 0.12965484986854528}, {\"score\": -2.5, \"count\": 0.10513580455833375}, {\"score\": -1.5, \"count\": 0.08330756761261006}, {\"score\": 2.0, \"count\": 0.10760735881122059}, {\"score\": -0.5, \"count\": 0.06443966528319044}, {\"score\": 3.0, \"count\": 0.07814846173163469}, {\"score\": 4.0, \"count\": 0.05527946935584099}, {\"score\": 0.5, \"count\": 0.0486021367879958}, {\"score\": 1.5, \"count\": 0.035696735754467225}, {\"score\": 5.0, \"count\": 0.03803403910166261}, {\"score\": 6.0, \"count\": 0.02541419599258258}, {\"score\": 7.0, \"count\": 0.01646368229453232}, {\"score\": 8.0, \"count\": 0.01031984162133007}, {\"score\": 9.0, \"count\": 0.006245480970690147}, {\"score\": 2.5, \"count\": 0.025493602801190552}, {\"score\": 3.5, \"count\": 0.017674087744480267}, {\"score\": 4.5, \"count\": 0.01187223421679928}, {\"score\": 5.5, \"count\": 0.0077104964022151525}, {\"score\": 6.5, \"count\": 0.004829936915897561}, {\"score\": 10.0, \"count\": 0.0036401529896062496}, {\"score\": 7.5, \"count\": 0.002910168349845412}, {\"score\": 11.0, \"count\": 0.0020374122037586494}, {\"score\": 12.0, \"count\": 0.0010915256242950066}, {\"score\": 8.5, \"count\": 0.0016812767455282852}, {\"score\": 9.5, \"count\": 0.0009280654912272923}, {\"score\": 13.0, \"count\": 0.0005576042699070932}, {\"score\": 10.5, \"count\": 0.0004874755812059534}, {\"score\": 14.0, \"count\": 0.0002703866624858164}, {\"score\": 15.0, \"count\": 0.00012378431558762273}, {\"score\": 11.5, \"count\": 0.00024250607619554423}, {\"score\": 12.5, \"count\": 0.00011362639967547994}, {\"score\": -45.0, \"count\": 1.4655313796908316e-05}, {\"score\": -44.0, \"count\": 3.693950278561384e-05}, {\"score\": -43.0, \"count\": 8.638851182298428e-05}, {\"score\": -43.5, \"count\": 1.0594831555457222e-05}, {\"score\": -42.5, \"count\": 2.5943543898922556e-05}, {\"score\": -41.5, \"count\": 5.911334447873825e-05}, {\"score\": -48.0, \"count\": 4.995451894550556e-07}, {\"score\": -47.0, \"count\": 1.7297684172175058e-06}, {\"score\": -46.0, \"count\": 5.305617265913694e-06}, {\"score\": -46.5, \"count\": 3.981449718940294e-07}, {\"score\": -45.5, \"count\": 1.3286410859834463e-06}, {\"score\": -44.5, \"count\": 3.957590844220052e-06}, {\"score\": -51.0, \"count\": 0.0}, {\"score\": -50.0, \"count\": 1.7894156040181094e-08}, {\"score\": -49.0, \"count\": 1.1780319393119221e-07}, {\"score\": -49.5, \"count\": 0.0}, {\"score\": -48.5, \"count\": 1.6402976370166005e-08}, {\"score\": -47.5, \"count\": 9.990903789101111e-08}, {\"score\": 16.0, \"count\": 5.31799405717482e-05}, {\"score\": 17.0, \"count\": 2.126720445375523e-05}, {\"score\": 13.5, \"count\": 4.9830751032894304e-05}, {\"score\": 14.5, \"count\": 2.0294955308905392e-05}, {\"score\": 18.0, \"count\": 7.821237369229153e-06}, {\"score\": 19.0, \"count\": 2.6200026802165155e-06}, {\"score\": 15.5, \"count\": 7.582648622026739e-06}, {\"score\": 16.5, \"count\": 2.572284930776032e-06}, {\"score\": 20.0, \"count\": 7.798869674178927e-07}, {\"score\": 21.0, \"count\": 1.9534453677197695e-07}, {\"score\": 17.5, \"count\": 7.739222487378323e-07}, {\"score\": 18.5, \"count\": 1.9534453677197695e-07}, {\"score\": 22.0, \"count\": 4.026185109040746e-08}, {\"score\": 23.0, \"count\": 4.4735390100452734e-09}, {\"score\": 19.5, \"count\": 4.026185109040746e-08}, {\"score\": 20.5, \"count\": 4.4735390100452734e-09}]}}, {\"mode\": \"vega-lite\"});\n</script>",
      "text/plain": "alt.Chart(...)"
     },
     "metadata": {},
     "output_type": "display_data"
    },
    {
     "data": {
      "text/html": "\n<div id=\"altair-viz-a9354add821d47419aefc9075bd1a7d3\"></div>\n<script type=\"text/javascript\">\n  var VEGA_DEBUG = (typeof VEGA_DEBUG == \"undefined\") ? {} : VEGA_DEBUG;\n  (function(spec, embedOpt){\n    let outputDiv = document.currentScript.previousElementSibling;\n    if (outputDiv.id !== \"altair-viz-a9354add821d47419aefc9075bd1a7d3\") {\n      outputDiv = document.getElementById(\"altair-viz-a9354add821d47419aefc9075bd1a7d3\");\n    }\n    const paths = {\n      \"vega\": \"https://cdn.jsdelivr.net/npm//vega@5?noext\",\n      \"vega-lib\": \"https://cdn.jsdelivr.net/npm//vega-lib?noext\",\n      \"vega-lite\": \"https://cdn.jsdelivr.net/npm//vega-lite@4.17.0?noext\",\n      \"vega-embed\": \"https://cdn.jsdelivr.net/npm//vega-embed@6?noext\",\n    };\n\n    function maybeLoadScript(lib, version) {\n      var key = `${lib.replace(\"-\", \"\")}_version`;\n      return (VEGA_DEBUG[key] == version) ?\n        Promise.resolve(paths[lib]) :\n        new Promise(function(resolve, reject) {\n          var s = document.createElement('script');\n          document.getElementsByTagName(\"head\")[0].appendChild(s);\n          s.async = true;\n          s.onload = () => {\n            VEGA_DEBUG[key] = version;\n            return resolve(paths[lib]);\n          };\n          s.onerror = () => reject(`Error loading script: ${paths[lib]}`);\n          s.src = paths[lib];\n        });\n    }\n\n    function showError(err) {\n      outputDiv.innerHTML = `<div class=\"error\" style=\"color:red;\">${err}</div>`;\n      throw err;\n    }\n\n    function displayChart(vegaEmbed) {\n      vegaEmbed(outputDiv, spec, embedOpt)\n        .catch(err => showError(`Javascript Error: ${err.message}<br>This usually means there's a typo in your chart specification. See the javascript console for the full traceback.`));\n    }\n\n    if(typeof define === \"function\" && define.amd) {\n      requirejs.config({paths});\n      require([\"vega-embed\"], displayChart, err => showError(`Error loading script: ${err.message}`));\n    } else {\n      maybeLoadScript(\"vega\", \"5\")\n        .then(() => maybeLoadScript(\"vega-lite\", \"4.17.0\"))\n        .then(() => maybeLoadScript(\"vega-embed\", \"6\"))\n        .catch(showError)\n        .then(() => displayChart(vegaEmbed));\n    }\n  })({\"config\": {\"view\": {\"continuousWidth\": 400, \"continuousHeight\": 300}}, \"data\": {\"name\": \"data-6018a29b9a7feec79a8dac84a513362e\"}, \"mark\": \"bar\", \"encoding\": {\"tooltip\": [{\"field\": \"score\", \"type\": \"quantitative\"}, {\"field\": \"count\", \"type\": \"quantitative\"}], \"x\": {\"field\": \"score\", \"title\": \"Score\", \"type\": \"quantitative\"}, \"y\": {\"field\": \"count\", \"title\": \"Count\", \"type\": \"quantitative\"}}, \"title\": \"Public Value\", \"$schema\": \"https://vega.github.io/schema/vega-lite/v4.17.0.json\", \"datasets\": {\"data-6018a29b9a7feec79a8dac84a513362e\": [{\"score\": -6.0, \"count\": 3235}, {\"score\": -5.0, \"count\": 9644}, {\"score\": -4.0, \"count\": 23115}, {\"score\": -3.0, \"count\": 46141}, {\"score\": -2.0, \"count\": 81285}, {\"score\": -1.0, \"count\": 131040}, {\"score\": 0.0, \"count\": 195412}, {\"score\": 1.0, \"count\": 269254}, {\"score\": 2.0, \"count\": 342889}, {\"score\": 3.0, \"count\": 404863}, {\"score\": 4.0, \"count\": 445316}, {\"score\": 5.0, \"count\": 456781}, {\"score\": 6.0, \"count\": 435358}, {\"score\": 7.0, \"count\": 382517}, {\"score\": 8.0, \"count\": 306836}, {\"score\": -8.0, \"count\": 153}, {\"score\": -7.0, \"count\": 855}, {\"score\": 9.0, \"count\": 222317}, {\"score\": 10.0, \"count\": 143966}, {\"score\": 11.0, \"count\": 82337}, {\"score\": 12.0, \"count\": 41009}, {\"score\": 13.0, \"count\": 17436}, {\"score\": 14.0, \"count\": 6147}, {\"score\": 15.0, \"count\": 1707}, {\"score\": -9.0, \"count\": 12}, {\"score\": 16.0, \"count\": 339}, {\"score\": 17.0, \"count\": 36}]}}, {\"mode\": \"vega-lite\"});\n</script>",
      "text/plain": "alt.Chart(...)"
     },
     "metadata": {},
     "output_type": "display_data"
    },
    {
     "data": {
      "text/html": "\n<div id=\"altair-viz-7dee65ff7f8741ac8c5ca40ca8627d95\"></div>\n<script type=\"text/javascript\">\n  var VEGA_DEBUG = (typeof VEGA_DEBUG == \"undefined\") ? {} : VEGA_DEBUG;\n  (function(spec, embedOpt){\n    let outputDiv = document.currentScript.previousElementSibling;\n    if (outputDiv.id !== \"altair-viz-7dee65ff7f8741ac8c5ca40ca8627d95\") {\n      outputDiv = document.getElementById(\"altair-viz-7dee65ff7f8741ac8c5ca40ca8627d95\");\n    }\n    const paths = {\n      \"vega\": \"https://cdn.jsdelivr.net/npm//vega@5?noext\",\n      \"vega-lib\": \"https://cdn.jsdelivr.net/npm//vega-lib?noext\",\n      \"vega-lite\": \"https://cdn.jsdelivr.net/npm//vega-lite@4.17.0?noext\",\n      \"vega-embed\": \"https://cdn.jsdelivr.net/npm//vega-embed@6?noext\",\n    };\n\n    function maybeLoadScript(lib, version) {\n      var key = `${lib.replace(\"-\", \"\")}_version`;\n      return (VEGA_DEBUG[key] == version) ?\n        Promise.resolve(paths[lib]) :\n        new Promise(function(resolve, reject) {\n          var s = document.createElement('script');\n          document.getElementsByTagName(\"head\")[0].appendChild(s);\n          s.async = true;\n          s.onload = () => {\n            VEGA_DEBUG[key] = version;\n            return resolve(paths[lib]);\n          };\n          s.onerror = () => reject(`Error loading script: ${paths[lib]}`);\n          s.src = paths[lib];\n        });\n    }\n\n    function showError(err) {\n      outputDiv.innerHTML = `<div class=\"error\" style=\"color:red;\">${err}</div>`;\n      throw err;\n    }\n\n    function displayChart(vegaEmbed) {\n      vegaEmbed(outputDiv, spec, embedOpt)\n        .catch(err => showError(`Javascript Error: ${err.message}<br>This usually means there's a typo in your chart specification. See the javascript console for the full traceback.`));\n    }\n\n    if(typeof define === \"function\" && define.amd) {\n      requirejs.config({paths});\n      require([\"vega-embed\"], displayChart, err => showError(`Error loading script: ${err.message}`));\n    } else {\n      maybeLoadScript(\"vega\", \"5\")\n        .then(() => maybeLoadScript(\"vega-lite\", \"4.17.0\"))\n        .then(() => maybeLoadScript(\"vega-embed\", \"6\"))\n        .catch(showError)\n        .then(() => displayChart(vegaEmbed));\n    }\n  })({\"config\": {\"view\": {\"continuousWidth\": 400, \"continuousHeight\": 300}}, \"data\": {\"name\": \"data-39c0767ca1eaca392114f2fa7b90bf91\"}, \"mark\": \"bar\", \"encoding\": {\"tooltip\": [{\"field\": \"score\", \"type\": \"quantitative\"}, {\"field\": \"count\", \"type\": \"quantitative\"}], \"x\": {\"field\": \"score\", \"title\": \"Score\", \"type\": \"quantitative\"}, \"y\": {\"field\": \"count\", \"title\": \"Normalized count\", \"type\": \"quantitative\"}}, \"title\": \"Public Value (normalized)\", \"$schema\": \"https://vega.github.io/schema/vega-lite/v4.17.0.json\", \"datasets\": {\"data-39c0767ca1eaca392114f2fa7b90bf91\": [{\"score\": -6.0, \"count\": 0.007056083052921718}, {\"score\": -5.0, \"count\": 0.021087245412889227}, {\"score\": -4.0, \"count\": 0.05057917678301286}, {\"score\": -3.0, \"count\": 0.10098977820298663}, {\"score\": -2.0, \"count\": 0.1779302010425401}, {\"score\": -1.0, \"count\": 0.2868583463413673}, {\"score\": 0.0, \"count\": 0.4277873498420427}, {\"score\": 1.0, \"count\": 0.5894489337060965}, {\"score\": 2.0, \"count\": 0.750657334451331}, {\"score\": 3.0, \"count\": 0.8863364195030748}, {\"score\": 4.0, \"count\": 0.9748997852306089}, {\"score\": 5.0, \"count\": 1.0}, {\"score\": 6.0, \"count\": 0.9530988311378399}, {\"score\": 7.0, \"count\": 0.8374145355748748}, {\"score\": 8.0, \"count\": 0.6717268466117446}, {\"score\": -8.0, \"count\": 0.0003086899505001434}, {\"score\": -7.0, \"count\": 0.0018455718317136234}, {\"score\": 9.0, \"count\": 0.486690208836414}, {\"score\": 10.0, \"count\": 0.3151571144276429}, {\"score\": 11.0, \"count\": 0.18023333457393123}, {\"score\": 12.0, \"count\": 0.08975433972095304}, {\"score\": 13.0, \"count\": 0.03814619643627304}, {\"score\": 14.0, \"count\": 0.013431296782399856}, {\"score\": 15.0, \"count\": 0.003710847277288958}, {\"score\": -9.0, \"count\": 0.0}, {\"score\": 16.0, \"count\": 0.0007158979703088432}, {\"score\": 17.0, \"count\": 5.254297029789675e-05}]}}, {\"mode\": \"vega-lite\"});\n</script>",
      "text/plain": "alt.Chart(...)"
     },
     "metadata": {},
     "output_type": "display_data"
    }
   ],
   "source": [
    "config = [\n",
    "    ('All questions', questions),\n",
    "    ('Risk', x_q),\n",
    "    ('Public Value', y_q),\n",
    "]\n",
    "for title, questions in config:\n",
    "    df = score_count_df_from_questions(questions)\n",
    "    df_norm = normalize_df(df, ['count'])\n",
    "    display(hist(df, title))\n",
    "    display(hist(df_norm, f'{title} (normalized)', titleY='Normalized count'))"
   ],
   "metadata": {
    "collapsed": false
   }
  },
  {
   "cell_type": "code",
   "execution_count": 49,
   "outputs": [],
   "source": [],
   "metadata": {
    "collapsed": false
   }
  }
 ],
 "metadata": {
  "kernelspec": {
   "display_name": "Python 3",
   "language": "python",
   "name": "python3"
  },
  "language_info": {
   "codemirror_mode": {
    "name": "ipython",
    "version": 2
   },
   "file_extension": ".py",
   "mimetype": "text/x-python",
   "name": "python",
   "nbconvert_exporter": "python",
   "pygments_lexer": "ipython2",
   "version": "2.7.6"
  }
 },
 "nbformat": 4,
 "nbformat_minor": 0
}
