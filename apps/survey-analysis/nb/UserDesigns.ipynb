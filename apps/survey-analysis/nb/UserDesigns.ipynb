{
 "cells": [
  {
   "cell_type": "code",
   "execution_count": 3,
   "outputs": [],
   "source": [
    "import pandas as pd\n",
    "import altair as alt"
   ],
   "metadata": {
    "collapsed": false
   }
  },
  {
   "cell_type": "code",
   "execution_count": 4,
   "outputs": [
    {
     "data": {
      "text/plain": "  section_id                    section_title question_id  \\\n0         A1  Information About the Applicant        A1.1   \n1         A1  Information About the Applicant        A1.2   \n2         A1  Information About the Applicant        A1.3   \n3         A1  Information About the Applicant        A1.4   \n4         A1  Information About the Applicant        A1.5   \n\n                                       question_body  \\\n0  Which of the answers below best describe the p...   \n1  Which of the answers below best describe the f...   \n2  Which of the answers below best describe the a...   \n3  Which of the answers below best describe the a...   \n4  Which of the answers below best describe the a...   \n\n                                             choices  min_sum  max_sum  \\\n0  [{'body': 'Fulfill a government task', 'score'...     -1.0      1.0   \n1  [{'body': 'Largely financed by way of large do...     -2.0      1.0   \n2  [{'body': 'Annual non-public report on activit...     -1.0      2.0   \n3  [{'body': 'No legal options to compel disclosu...     -2.0      2.0   \n4  [{'body': 'None of the above (please specify)'...     -2.0      2.0   \n\n   score_sum  \n0        0.0  \n1       -1.0  \n2        1.0  \n3       -2.0  \n4        0.0  ",
      "text/html": "<div>\n<style scoped>\n    .dataframe tbody tr th:only-of-type {\n        vertical-align: middle;\n    }\n\n    .dataframe tbody tr th {\n        vertical-align: top;\n    }\n\n    .dataframe thead th {\n        text-align: right;\n    }\n</style>\n<table border=\"1\" class=\"dataframe\">\n  <thead>\n    <tr style=\"text-align: right;\">\n      <th></th>\n      <th>section_id</th>\n      <th>section_title</th>\n      <th>question_id</th>\n      <th>question_body</th>\n      <th>choices</th>\n      <th>min_sum</th>\n      <th>max_sum</th>\n      <th>score_sum</th>\n    </tr>\n  </thead>\n  <tbody>\n    <tr>\n      <th>0</th>\n      <td>A1</td>\n      <td>Information About the Applicant</td>\n      <td>A1.1</td>\n      <td>Which of the answers below best describe the p...</td>\n      <td>[{'body': 'Fulfill a government task', 'score'...</td>\n      <td>-1.0</td>\n      <td>1.0</td>\n      <td>0.0</td>\n    </tr>\n    <tr>\n      <th>1</th>\n      <td>A1</td>\n      <td>Information About the Applicant</td>\n      <td>A1.2</td>\n      <td>Which of the answers below best describe the f...</td>\n      <td>[{'body': 'Largely financed by way of large do...</td>\n      <td>-2.0</td>\n      <td>1.0</td>\n      <td>-1.0</td>\n    </tr>\n    <tr>\n      <th>2</th>\n      <td>A1</td>\n      <td>Information About the Applicant</td>\n      <td>A1.3</td>\n      <td>Which of the answers below best describe the a...</td>\n      <td>[{'body': 'Annual non-public report on activit...</td>\n      <td>-1.0</td>\n      <td>2.0</td>\n      <td>1.0</td>\n    </tr>\n    <tr>\n      <th>3</th>\n      <td>A1</td>\n      <td>Information About the Applicant</td>\n      <td>A1.4</td>\n      <td>Which of the answers below best describe the a...</td>\n      <td>[{'body': 'No legal options to compel disclosu...</td>\n      <td>-2.0</td>\n      <td>2.0</td>\n      <td>-2.0</td>\n    </tr>\n    <tr>\n      <th>4</th>\n      <td>A1</td>\n      <td>Information About the Applicant</td>\n      <td>A1.5</td>\n      <td>Which of the answers below best describe the a...</td>\n      <td>[{'body': 'None of the above (please specify)'...</td>\n      <td>-2.0</td>\n      <td>2.0</td>\n      <td>0.0</td>\n    </tr>\n  </tbody>\n</table>\n</div>"
     },
     "execution_count": 4,
     "metadata": {},
     "output_type": "execute_result"
    }
   ],
   "source": [
    "from pluto_survey_tools import QUESTIONNAIRE\n",
    "from pluto_survey_tools.response_gen import random_questionnaire_responses_df\n",
    "\n",
    "df: pd.DataFrame = random_questionnaire_responses_df(QUESTIONNAIRE)\n",
    "df.head()"
   ],
   "metadata": {
    "collapsed": false
   }
  },
  {
   "cell_type": "code",
   "execution_count": 5,
   "outputs": [
    {
     "name": "stderr",
     "output_type": "stream",
     "text": [
      "/Users/petergy/Library/Caches/pypoetry/virtualenvs/survey-tools-go4vLIOS-py3.10/lib/python3.10/site-packages/altair/utils/core.py:317: FutureWarning: iteritems is deprecated and will be removed in a future version. Use .items instead.\n",
      "  for col_name, dtype in df.dtypes.iteritems():\n"
     ]
    },
    {
     "data": {
      "text/html": "\n<div id=\"altair-viz-82d747ec57114b0f94c1bff44ebdd514\"></div>\n<script type=\"text/javascript\">\n  var VEGA_DEBUG = (typeof VEGA_DEBUG == \"undefined\") ? {} : VEGA_DEBUG;\n  (function(spec, embedOpt){\n    let outputDiv = document.currentScript.previousElementSibling;\n    if (outputDiv.id !== \"altair-viz-82d747ec57114b0f94c1bff44ebdd514\") {\n      outputDiv = document.getElementById(\"altair-viz-82d747ec57114b0f94c1bff44ebdd514\");\n    }\n    const paths = {\n      \"vega\": \"https://cdn.jsdelivr.net/npm//vega@5?noext\",\n      \"vega-lib\": \"https://cdn.jsdelivr.net/npm//vega-lib?noext\",\n      \"vega-lite\": \"https://cdn.jsdelivr.net/npm//vega-lite@4.17.0?noext\",\n      \"vega-embed\": \"https://cdn.jsdelivr.net/npm//vega-embed@6?noext\",\n    };\n\n    function maybeLoadScript(lib, version) {\n      var key = `${lib.replace(\"-\", \"\")}_version`;\n      return (VEGA_DEBUG[key] == version) ?\n        Promise.resolve(paths[lib]) :\n        new Promise(function(resolve, reject) {\n          var s = document.createElement('script');\n          document.getElementsByTagName(\"head\")[0].appendChild(s);\n          s.async = true;\n          s.onload = () => {\n            VEGA_DEBUG[key] = version;\n            return resolve(paths[lib]);\n          };\n          s.onerror = () => reject(`Error loading script: ${paths[lib]}`);\n          s.src = paths[lib];\n        });\n    }\n\n    function showError(err) {\n      outputDiv.innerHTML = `<div class=\"error\" style=\"color:red;\">${err}</div>`;\n      throw err;\n    }\n\n    function displayChart(vegaEmbed) {\n      vegaEmbed(outputDiv, spec, embedOpt)\n        .catch(err => showError(`Javascript Error: ${err.message}<br>This usually means there's a typo in your chart specification. See the javascript console for the full traceback.`));\n    }\n\n    if(typeof define === \"function\" && define.amd) {\n      requirejs.config({paths});\n      require([\"vega-embed\"], displayChart, err => showError(`Error loading script: ${err.message}`));\n    } else {\n      maybeLoadScript(\"vega\", \"5\")\n        .then(() => maybeLoadScript(\"vega-lite\", \"4.17.0\"))\n        .then(() => maybeLoadScript(\"vega-embed\", \"6\"))\n        .catch(showError)\n        .then(() => displayChart(vegaEmbed));\n    }\n  })({\"config\": {\"view\": {\"continuousWidth\": 400, \"continuousHeight\": 300}}, \"data\": {\"name\": \"data-f9b63d42d190b0504f7dbc4ce4c12166\"}, \"mark\": \"bar\", \"encoding\": {\"x\": {\"field\": \"question_id\", \"type\": \"nominal\"}, \"y\": {\"field\": \"score_sum\", \"type\": \"quantitative\"}}, \"$schema\": \"https://vega.github.io/schema/vega-lite/v4.17.0.json\", \"datasets\": {\"data-f9b63d42d190b0504f7dbc4ce4c12166\": [{\"section_id\": \"A1\", \"section_title\": \"Information About the Applicant\", \"question_id\": \"A1.1\", \"question_body\": \"Which of the answers below best describe the primary activity of the applicant?\", \"choices\": [{\"body\": \"Fulfill a government task\", \"score\": 0.0}], \"min_sum\": -1.0, \"max_sum\": 1.0, \"score_sum\": 0.0}, {\"section_id\": \"A1\", \"section_title\": \"Information About the Applicant\", \"question_id\": \"A1.2\", \"question_body\": \"Which of the answers below best describe the financial structure of the applicant\\u2019s organisation?\", \"choices\": [{\"body\": \"Largely financed by way of large donations (above 5000\\u20ac or equivalent per donation)\", \"score\": -1.0}], \"min_sum\": -2.0, \"max_sum\": 1.0, \"score_sum\": -1.0}, {\"section_id\": \"A1\", \"section_title\": \"Information About the Applicant\", \"question_id\": \"A1.3\", \"question_body\": \"Which of the answers below best describe the applicant\\u2019s public reporting requirements?\", \"choices\": [{\"body\": \"Annual non-public report on activities to the funder (or other entities)\", \"score\": 1.0}], \"min_sum\": -1.0, \"max_sum\": 2.0, \"score_sum\": 1.0}, {\"section_id\": \"A1\", \"section_title\": \"Information About the Applicant\", \"question_id\": \"A1.4\", \"question_body\": \"Which of the answers below best describe the applicant\\u2019s legal obligations to provide information to the public?\", \"choices\": [{\"body\": \"No legal options to compel disclosure of information about it data use activities to the public beyond civil or criminal proceedings\", \"score\": -2.0}], \"min_sum\": -2.0, \"max_sum\": 2.0, \"score_sum\": -2.0}, {\"section_id\": \"A1\", \"section_title\": \"Information About the Applicant\", \"question_id\": \"A1.5\", \"question_body\": \"Which of the answers below best describe the applicant\\u2019s track record in providing information about all its activities to the public?\", \"choices\": [{\"body\": \"None of the above (please specify)\", \"score\": 0.0}], \"min_sum\": -2.0, \"max_sum\": 2.0, \"score_sum\": 0.0}, {\"section_id\": \"A2\", \"section_title\": \"Benefits of the Applicant\\u2019s Activity\", \"question_id\": \"A2.6\", \"question_body\": \"Which of the answers below best describe the applicant\\u2019s motivation for data use?\", \"choices\": [{\"body\": \"Combat social and economic inequality\", \"score\": 2.0}], \"min_sum\": 0.0, \"max_sum\": 4.0, \"score_sum\": 2.0}, {\"section_id\": \"A2\", \"section_title\": \"Benefits of the Applicant\\u2019s Activity\", \"question_id\": \"A2.7\", \"question_body\": \"Which of the answers below best describe the main beneficiary of the applicant\\u2019s data use?\", \"choices\": [{\"body\": \"None of the above (please specify)\", \"score\": 0.0}], \"min_sum\": -1.0, \"max_sum\": 2.0, \"score_sum\": 0.0}, {\"section_id\": \"A2\", \"section_title\": \"Benefits of the Applicant\\u2019s Activity\", \"question_id\": \"A2.8\", \"question_body\": \"Which of the answers below best describe the applicant\\u2019s track record in increasing the benefits of the applicant\\u2019s data use in the Global South?\", \"choices\": [{\"body\": \"No track record of adjusting the data use to expand the range of beneficiaries in the Global South\", \"score\": -2.0}], \"min_sum\": -2.0, \"max_sum\": 2.0, \"score_sum\": -2.0}, {\"section_id\": \"A2\", \"section_title\": \"Benefits of the Applicant\\u2019s Activity\", \"question_id\": \"A2.9\", \"question_body\": \"Which of the answers below best describe the applicant\\u2019s track record in strengthening benefits of the applicant\\u2019s data use for groups that are granted additional protection by way of anti-discrimination law?\", \"choices\": [{\"body\": \"No track record of  strengthening benefits for groups that are granted additional protection by way of anti-discrimination law\", \"score\": -2.0}], \"min_sum\": -2.0, \"max_sum\": 2.0, \"score_sum\": -2.0}, {\"section_id\": \"A2\", \"section_title\": \"Benefits of the Applicant\\u2019s Activity\", \"question_id\": \"A2.10\", \"question_body\": \"Which of the answers below best describe the applicant\\u2019s data use\\u2019s benefits for future generations?\", \"choices\": [{\"body\": \"Benefits are likely to increase in the future\", \"score\": 2.0}], \"min_sum\": 0.0, \"max_sum\": 3.0, \"score_sum\": 2.0}, {\"section_id\": \"A3\", \"section_title\": \"Risks of the Applicant\\u2019s Activity\", \"question_id\": \"A3.11\", \"question_body\": \"Which of the answers below best describe risks entailed in the applicant\\u2019s data use?\", \"choices\": [{\"body\": \"Other (please specify)\", \"score\": -3.0}, {\"body\": \"Financial risk\", \"score\": -3.0}, {\"body\": \"None of the above\", \"score\": 0.0}], \"min_sum\": -12.0, \"max_sum\": 0.0, \"score_sum\": -6.0}, {\"section_id\": \"A3\", \"section_title\": \"Risks of the Applicant\\u2019s Activity\", \"question_id\": \"A3.12\", \"question_body\": \"Which of the answers below best describe effects of the applicant\\u2019s data use on the environment?\", \"choices\": [{\"body\": \"Environment is negatively impacted\", \"score\": -4.0}], \"min_sum\": -4.0, \"max_sum\": 4.0, \"score_sum\": -4.0}, {\"section_id\": \"A3\", \"section_title\": \"Risks of the Applicant\\u2019s Activity\", \"question_id\": \"A3.13\", \"question_body\": \"Which of the answers below best describe the relationship between the applicant\\u2019s data use and risks?\", \"choices\": [{\"body\": \"Risks stem directly from the applicant\\u2019s data use (direct cause)\", \"score\": -3.0}], \"min_sum\": -3.0, \"max_sum\": 0.0, \"score_sum\": -3.0}, {\"section_id\": \"A3\", \"section_title\": \"Risks of the Applicant\\u2019s Activity\", \"question_id\": \"A3.14\", \"question_body\": \"Which of the answers below best describe the risks for groups afforded special protection under the law (including, but not limited to, children, persons with disabilities, ethnic minorities, sexual minorities)?\", \"choices\": [{\"body\": \"Applicant\\u2019s data use entails no risk for groups afforded special protection under the law\", \"score\": 0.0}], \"min_sum\": -5.0, \"max_sum\": 0.0, \"score_sum\": 0.0}, {\"section_id\": \"A3\", \"section_title\": \"Risks of the Applicant\\u2019s Activity\", \"question_id\": \"A3.15\", \"question_body\": \"Which of the answers below best describe the applicant\\u2019s communication about risks of its data to the public?\", \"choices\": [{\"body\": \"Information about risks provided to the public prior to commencement of data use\", \"score\": 2.0}], \"min_sum\": -2.0, \"max_sum\": 2.0, \"score_sum\": 2.0}, {\"section_id\": \"A3\", \"section_title\": \"Risks of the Applicant\\u2019s Activity\", \"question_id\": \"A3.16\", \"question_body\": \"Which of the answers below best describe the risk of dual use?\", \"choices\": [{\"body\": \"Dual use is extremely unlikely\", \"score\": 0.0}], \"min_sum\": -4.0, \"max_sum\": 0.0, \"score_sum\": 0.0}, {\"section_id\": \"A3\", \"section_title\": \"Risks of the Applicant\\u2019s Activity\", \"question_id\": \"A3.17\", \"question_body\": \"Which of the answers below best describe the likelihood of a risk of dual use materializing and creating harm?\", \"choices\": [{\"body\": \"Likelihood of risks from dual use cannot be assessed\", \"score\": -3.0}], \"min_sum\": -4.0, \"max_sum\": 0.0, \"score_sum\": -3.0}, {\"section_id\": \"A4\", \"section_title\": \"Institutional Safeguards\", \"question_id\": \"A4.18\", \"question_body\": \"Which of the answers below best describe the applicant\\u2019s way of assessing risk?\", \"choices\": [{\"body\": \"Other, please specify\", \"score\": 0.0}], \"min_sum\": -1.0, \"max_sum\": 1.0, \"score_sum\": 0.0}, {\"section_id\": \"A4\", \"section_title\": \"Institutional Safeguards\", \"question_id\": \"A4.19\", \"question_body\": \"Which of the answers below best describe the applicant\\u2019s way of assessing risk?\", \"choices\": [{\"body\": \"Routine involvement of persons from outside the organisation\", \"score\": 2.0}], \"min_sum\": -1.0, \"max_sum\": 2.0, \"score_sum\": 2.0}, {\"section_id\": \"A4\", \"section_title\": \"Institutional Safeguards\", \"question_id\": \"A4.20\", \"question_body\": \"Which of the answers below best describe the status of findings from the risk assessment?\", \"choices\": [{\"body\": \"Findings are binding and cannot be overruled\", \"score\": 2.0}], \"min_sum\": -3.0, \"max_sum\": 2.0, \"score_sum\": 2.0}, {\"section_id\": \"A4\", \"section_title\": \"Institutional Safeguards\", \"question_id\": \"A4.21\", \"question_body\": \"Which of the answers below best describe the involvement of trained ethicists in the process of assessing risks?\", \"choices\": [{\"body\": \"Trained ethicists are not included in the risk assessment\", \"score\": -1.0}], \"min_sum\": -1.0, \"max_sum\": 2.0, \"score_sum\": -1.0}, {\"section_id\": \"A4\", \"section_title\": \"Institutional Safeguards\", \"question_id\": \"A4.22\", \"question_body\": \"Which of the answers below best describe the process of harm monitoring?\", \"choices\": [{\"body\": \"Harms monitored for a limited period during the data use and the deployment of the data use and the deployment of the product/service\", \"score\": 0.0}], \"min_sum\": -1.0, \"max_sum\": 1.0, \"score_sum\": 0.0}, {\"section_id\": \"A4\", \"section_title\": \"Institutional Safeguards\", \"question_id\": \"A4.23\", \"question_body\": \"Which of the answers below best describe the ability of the applicant to stop/reverse their activity, once unexpected harms occur?\", \"choices\": [{\"body\": \"Harm-causing activity Harms can be ended immediately\", \"score\": 0.0}], \"min_sum\": -3.0, \"max_sum\": 0.0, \"score_sum\": 0.0}, {\"section_id\": \"A4\", \"section_title\": \"Institutional Safeguards\", \"question_id\": \"A4.24\", \"question_body\": \"Which of the answers below best describe the remedies available to individuals?\", \"choices\": [{\"body\": \"Complaint procedure designed in an accessible manner\", \"score\": 2.0}, {\"body\": \"No complaint procedure in place\", \"score\": -3.0}, {\"body\": \"Complaint procedure can be initiated online\", \"score\": 1.0}], \"min_sum\": -3.0, \"max_sum\": 5.0, \"score_sum\": 0.0}]}}, {\"mode\": \"vega-lite\"});\n</script>",
      "text/plain": "alt.Chart(...)"
     },
     "execution_count": 5,
     "metadata": {},
     "output_type": "execute_result"
    }
   ],
   "source": [
    "alt.Chart(df).mark_bar().encode(\n",
    "    x=\"question_id\",\n",
    "    y=\"score_sum\",\n",
    ")"
   ],
   "metadata": {
    "collapsed": false
   }
  },
  {
   "cell_type": "code",
   "execution_count": 5,
   "outputs": [],
   "source": [],
   "metadata": {
    "collapsed": false
   }
  }
 ],
 "metadata": {
  "kernelspec": {
   "display_name": "Python 3",
   "language": "python",
   "name": "python3"
  },
  "language_info": {
   "codemirror_mode": {
    "name": "ipython",
    "version": 2
   },
   "file_extension": ".py",
   "mimetype": "text/x-python",
   "name": "python",
   "nbconvert_exporter": "python",
   "pygments_lexer": "ipython2",
   "version": "2.7.6"
  }
 },
 "nbformat": 4,
 "nbformat_minor": 0
}
